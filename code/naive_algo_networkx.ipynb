{
 "cells": [
  {
   "cell_type": "code",
   "execution_count": 116,
   "metadata": {},
   "outputs": [],
   "source": [
    "from __future__ import print_function\n",
    "from ipywidgets import interact, interactive, fixed, interact_manual\n",
    "import ipywidgets as widgets\n",
    "import re \n",
    "import itertools\n",
    "import operator\n",
    "import copy\n",
    "import igraph\n",
    "from library import clean_text_simple, terms_to_graph\n",
    "import matplotlib\n",
    "import matplotlib.pyplot as plt\n",
    "import numpy as np\n",
    "import heapq\n",
    "import nltk\n",
    "import cairocffi\n",
    "import string\n",
    "from nltk.corpus import stopwords\n",
    "import timeit\n",
    "import networkx as nx\n",
    "import igraph as ig\n",
    "from operator import itemgetter"
   ]
  },
  {
   "cell_type": "markdown",
   "metadata": {},
   "source": [
    "# naive algo"
   ]
  },
  {
   "cell_type": "code",
   "execution_count": 192,
   "metadata": {
    "code_folding": []
   },
   "outputs": [
    {
     "data": {
      "image/png": "[encoded data removed]",
      "text/plain": [
       "<Figure size 432x288 with 1 Axes>"
      ]
     },
     "metadata": {},
     "output_type": "display_data"
    }
   ],
   "source": [
    "g = nx.Graph([])\n",
    "g.add_edges_from([(1,2),(1,8),(1,9),\n",
    "                  (5,2),\n",
    "                  (5,3),\n",
    "                  (5,4),\n",
    "                  (5,6),\n",
    "                  (6,7),\n",
    "                  (6,8),\n",
    "                  (6,9),\n",
    "                  (7,8),\n",
    "                  (7,9),\n",
    "                  (8,9),\n",
    "                  (9,10),\n",
    "                  (10,11),\n",
    "                  (11,14),\n",
    "                  (11,15),\n",
    "                  (11,12),\n",
    "                  (14,15),\n",
    "                  (15,12),\n",
    "                  (12,14)\n",
    "                 ])\n",
    "nx.draw(g,with_labels=True)\n",
    "plt.show()"
   ]
  },
  {
   "cell_type": "code",
   "execution_count": 193,
   "metadata": {},
   "outputs": [],
   "source": [
    "def naive_approach(g):\n",
    "    gg = copy.deepcopy(g)\n",
    "    weights = dict(gg.degree)\n",
    "\n",
    "    cores_g = dict(zip(gg.nodes,[0]*len(gg.nodes)))\n",
    "\n",
    "    while len(gg.nodes) > 0:\n",
    "        index_top , min_degree   = min(weights.items(), key=itemgetter(1))\n",
    "        neighbors = list(gg.neighbors(index_top))\n",
    "        cores_g[index_top] = min_degree\n",
    "        gg.remove_node(index_top)\n",
    "        weights.pop(index_top)\n",
    "\n",
    "        if neighbors:\n",
    "            new_degrees=gg.degree()\n",
    "            for neigh in neighbors:\n",
    "                weights[neigh] = max(min_degree,new_degrees[neigh])\n",
    "                \n",
    "    return cores_g"
   ]
  },
  {
   "cell_type": "code",
   "execution_count": 194,
   "metadata": {},
   "outputs": [
    {
     "data": {
      "text/plain": [
       "{1: 2,\n",
       " 2: 2,\n",
       " 8: 3,\n",
       " 9: 3,\n",
       " 5: 2,\n",
       " 3: 1,\n",
       " 4: 1,\n",
       " 6: 3,\n",
       " 7: 3,\n",
       " 10: 2,\n",
       " 11: 3,\n",
       " 14: 3,\n",
       " 15: 3,\n",
       " 12: 3}"
      ]
     },
     "execution_count": 194,
     "metadata": {},
     "output_type": "execute_result"
    }
   ],
   "source": [
    "naive_approach(g)\n"
   ]
  },
  {
   "cell_type": "code",
   "execution_count": 195,
   "metadata": {},
   "outputs": [
    {
     "name": "stdout",
     "output_type": "stream",
     "text": [
      "[1, 2, 8, 9, 5, 3, 4, 6, 7, 10, 11, 14, 15, 12]\n",
      "---\n",
      "[1, 2, 8, 9, 5, 6, 7, 10, 11, 14, 15, 12]\n",
      "---\n",
      "[8, 9, 6, 7, 11, 14, 15, 12]\n",
      "---\n",
      "[]\n"
     ]
    }
   ],
   "source": [
    "# sanity check\n",
    "print(nx.k_core(g,k=1).nodes())\n",
    "print('---')\n",
    "print(nx.k_core(g,k=2).nodes())\n",
    "print('---')\n",
    "print(nx.k_core(g,k=3).nodes())\n",
    "print('---')\n",
    "print(nx.k_core(g,k=4).nodes())"
   ]
  },
  {
   "cell_type": "markdown",
   "metadata": {},
   "source": [
    "# Approach 1"
   ]
  },
  {
   "cell_type": "code",
   "execution_count": 234,
   "metadata": {},
   "outputs": [],
   "source": [
    "def core_number(G):\n",
    "\n",
    "    degrees = dict(G.degree())\n",
    "    # Sort nodes by degree.\n",
    "    nodes = sorted(degrees, key=degrees.get)\n",
    "    print(nodes)\n",
    "\n",
    "    bin_boundaries = [0]\n",
    "    curr_degree = 0\n",
    "    for i, v in enumerate(nodes):\n",
    "        if degrees[v] > curr_degree:\n",
    "            bin_boundaries.extend([i] * (degrees[v] - curr_degree))\n",
    "            curr_degree = degrees[v]\n",
    "    node_pos = {v: pos for pos, v in enumerate(nodes)}\n",
    "    \n",
    "    # The initial guess for the core number of a node is its degree.\n",
    "    core = degrees\n",
    "    nbrs = {v: list(nx.all_neighbors(G, v)) for v in G}\n",
    "    for v in nodes:\n",
    "#         print(\"###\")\n",
    "#         print(v)\n",
    "\n",
    "        for u in nbrs[v]:\n",
    "            if core[u] > core[v]:\n",
    "#                 print(nbrs[v])\n",
    "#                 print(degrees[u],degrees[v])\n",
    "\n",
    "                nbrs[u].remove(v)\n",
    "                pos = node_pos[u]\n",
    "                bin_start = bin_boundaries[core[u]]\n",
    "                node_pos[u] = bin_start\n",
    "                node_pos[nodes[bin_start]] = pos\n",
    "                nodes[bin_start], nodes[pos] = nodes[pos], nodes[bin_start]\n",
    "                bin_boundaries[core[u]] += 1\n",
    "                core[u] -= 1\n",
    "                print(core)\n",
    "    return core"
   ]
  },
  {
   "cell_type": "code",
   "execution_count": 235,
   "metadata": {},
   "outputs": [],
   "source": [
    "# def core_number_1(G):\n",
    "\n",
    "#     degrees = dict(G.degree())\n",
    "#     # Sort nodes by degree.\n",
    "#     nodes = sorted(degrees, key=degrees.get)\n",
    "#     print(nodes)\n",
    "#     nbrs = {v: list(nx.all_neighbors(G, v)) for v in G}\n",
    "#     for v in nodes:\n",
    "#         print(\"###\")\n",
    "#         print(v)\n",
    "#         for u in nbrs[v]:\n",
    "#             if degrees[u] > degrees[v]:\n",
    "#                 nbrs[u].remove(v)\n",
    "#                 degrees[u] -= 1\n",
    "#                 nodes = sorted(degrees, key=degrees.get)\n",
    "#     return degrees"
   ]
  },
  {
   "cell_type": "code",
   "execution_count": 280,
   "metadata": {},
   "outputs": [],
   "source": [
    "def core_number_1(G):\n",
    "\n",
    "    degrees = dict(G.degree())\n",
    "    # Sort nodes by degree.\n",
    "    nodes = sorted(degrees, key=degrees.get)\n",
    "#     print(nodes)\n",
    "    nbrs = {v: list(nx.all_neighbors(G, v)) for v in G}\n",
    "    i=0\n",
    "    count_passed_through = []\n",
    "    while len(count_passed_through)<len(nodes):\n",
    "        nodes = sorted(degrees, key=degrees.get)\n",
    "#         print(\"###\")\n",
    "#         print(count_passed_through)\n",
    "#         print(nodes)\n",
    "        \n",
    "        st =  set(count_passed_through)\n",
    "        v = [ele for ele in nodes if ele not in st][0]  ### check mainting order\n",
    "#         print(list(set(nodes) - set(count_passed_through)))\n",
    "#         print(\"---\")\n",
    "\n",
    "        for u in nbrs[v]:\n",
    "            if degrees[u] > degrees[v]:\n",
    "                degrees[u] -= 1\n",
    "#         i+=1\n",
    "#         print(v)\n",
    "#         print(degrees)\n",
    "        count_passed_through.append(v)\n",
    "\n",
    "    return degrees"
   ]
  },
  {
   "cell_type": "code",
   "execution_count": 276,
   "metadata": {
    "scrolled": true
   },
   "outputs": [
    {
     "name": "stdout",
     "output_type": "stream",
     "text": [
      "[3, 4, 2, 10, 1, 7, 14, 15, 12, 8, 5, 6, 11, 9]\n",
      "###\n",
      "[]\n",
      "[3, 4, 2, 10, 1, 7, 14, 15, 12, 8, 5, 6, 11, 9]\n",
      "[1, 2, 3, 4, 5, 6, 7, 8, 9, 10, 11, 12, 14, 15]\n",
      "---\n",
      "3\n",
      "{1: 3, 2: 2, 8: 4, 9: 5, 5: 3, 3: 1, 4: 1, 6: 4, 7: 3, 10: 2, 11: 4, 14: 3, 15: 3, 12: 3}\n",
      "###\n",
      "[3]\n",
      "[3, 4, 2, 10, 1, 5, 7, 14, 15, 12, 8, 6, 11, 9]\n",
      "[1, 2, 4, 5, 6, 7, 8, 9, 10, 11, 12, 14, 15]\n",
      "---\n",
      "4\n",
      "{1: 3, 2: 2, 8: 4, 9: 5, 5: 2, 3: 1, 4: 1, 6: 4, 7: 3, 10: 2, 11: 4, 14: 3, 15: 3, 12: 3}\n",
      "###\n",
      "[3, 4]\n",
      "[3, 4, 2, 5, 10, 1, 7, 14, 15, 12, 8, 6, 11, 9]\n",
      "[1, 2, 5, 6, 7, 8, 9, 10, 11, 12, 14, 15]\n",
      "---\n",
      "2\n",
      "{1: 2, 2: 2, 8: 4, 9: 5, 5: 2, 3: 1, 4: 1, 6: 4, 7: 3, 10: 2, 11: 4, 14: 3, 15: 3, 12: 3}\n",
      "###\n",
      "[3, 4, 2]\n",
      "[3, 4, 1, 2, 5, 10, 7, 14, 15, 12, 8, 6, 11, 9]\n",
      "[1, 5, 6, 7, 8, 9, 10, 11, 12, 14, 15]\n",
      "---\n",
      "1\n",
      "{1: 2, 2: 2, 8: 3, 9: 4, 5: 2, 3: 1, 4: 1, 6: 4, 7: 3, 10: 2, 11: 4, 14: 3, 15: 3, 12: 3}\n",
      "###\n",
      "[3, 4, 2, 1]\n",
      "[3, 4, 1, 2, 5, 10, 8, 7, 14, 15, 12, 9, 6, 11]\n",
      "[5, 6, 7, 8, 9, 10, 11, 12, 14, 15]\n",
      "---\n",
      "5\n",
      "{1: 2, 2: 2, 8: 3, 9: 4, 5: 2, 3: 1, 4: 1, 6: 3, 7: 3, 10: 2, 11: 4, 14: 3, 15: 3, 12: 3}\n",
      "###\n",
      "[3, 4, 2, 1, 5]\n",
      "[3, 4, 1, 2, 5, 10, 8, 6, 7, 14, 15, 12, 9, 11]\n",
      "[6, 7, 8, 9, 10, 11, 12, 14, 15]\n",
      "---\n",
      "10\n",
      "{1: 2, 2: 2, 8: 3, 9: 3, 5: 2, 3: 1, 4: 1, 6: 3, 7: 3, 10: 2, 11: 3, 14: 3, 15: 3, 12: 3}\n",
      "###\n",
      "[3, 4, 2, 1, 5, 10]\n",
      "[3, 4, 1, 2, 5, 10, 8, 9, 6, 7, 11, 14, 15, 12]\n",
      "[6, 7, 8, 9, 11, 12, 14, 15]\n",
      "---\n",
      "8\n",
      "{1: 2, 2: 2, 8: 3, 9: 3, 5: 2, 3: 1, 4: 1, 6: 3, 7: 3, 10: 2, 11: 3, 14: 3, 15: 3, 12: 3}\n",
      "###\n",
      "[3, 4, 2, 1, 5, 10, 8]\n",
      "[3, 4, 1, 2, 5, 10, 8, 9, 6, 7, 11, 14, 15, 12]\n",
      "[6, 7, 9, 11, 12, 14, 15]\n",
      "---\n",
      "9\n",
      "{1: 2, 2: 2, 8: 3, 9: 3, 5: 2, 3: 1, 4: 1, 6: 3, 7: 3, 10: 2, 11: 3, 14: 3, 15: 3, 12: 3}\n",
      "###\n",
      "[3, 4, 2, 1, 5, 10, 8, 9]\n",
      "[3, 4, 1, 2, 5, 10, 8, 9, 6, 7, 11, 14, 15, 12]\n",
      "[6, 7, 11, 12, 14, 15]\n",
      "---\n",
      "6\n",
      "{1: 2, 2: 2, 8: 3, 9: 3, 5: 2, 3: 1, 4: 1, 6: 3, 7: 3, 10: 2, 11: 3, 14: 3, 15: 3, 12: 3}\n",
      "###\n",
      "[3, 4, 2, 1, 5, 10, 8, 9, 6]\n",
      "[3, 4, 1, 2, 5, 10, 8, 9, 6, 7, 11, 14, 15, 12]\n",
      "[7, 11, 12, 14, 15]\n",
      "---\n",
      "7\n",
      "{1: 2, 2: 2, 8: 3, 9: 3, 5: 2, 3: 1, 4: 1, 6: 3, 7: 3, 10: 2, 11: 3, 14: 3, 15: 3, 12: 3}\n",
      "###\n",
      "[3, 4, 2, 1, 5, 10, 8, 9, 6, 7]\n",
      "[3, 4, 1, 2, 5, 10, 8, 9, 6, 7, 11, 14, 15, 12]\n",
      "[11, 12, 14, 15]\n",
      "---\n",
      "11\n",
      "{1: 2, 2: 2, 8: 3, 9: 3, 5: 2, 3: 1, 4: 1, 6: 3, 7: 3, 10: 2, 11: 3, 14: 3, 15: 3, 12: 3}\n",
      "###\n",
      "[3, 4, 2, 1, 5, 10, 8, 9, 6, 7, 11]\n",
      "[3, 4, 1, 2, 5, 10, 8, 9, 6, 7, 11, 14, 15, 12]\n",
      "[12, 14, 15]\n",
      "---\n",
      "14\n",
      "{1: 2, 2: 2, 8: 3, 9: 3, 5: 2, 3: 1, 4: 1, 6: 3, 7: 3, 10: 2, 11: 3, 14: 3, 15: 3, 12: 3}\n",
      "###\n",
      "[3, 4, 2, 1, 5, 10, 8, 9, 6, 7, 11, 14]\n",
      "[3, 4, 1, 2, 5, 10, 8, 9, 6, 7, 11, 14, 15, 12]\n",
      "[12, 15]\n",
      "---\n",
      "15\n",
      "{1: 2, 2: 2, 8: 3, 9: 3, 5: 2, 3: 1, 4: 1, 6: 3, 7: 3, 10: 2, 11: 3, 14: 3, 15: 3, 12: 3}\n",
      "###\n",
      "[3, 4, 2, 1, 5, 10, 8, 9, 6, 7, 11, 14, 15]\n",
      "[3, 4, 1, 2, 5, 10, 8, 9, 6, 7, 11, 14, 15, 12]\n",
      "[12]\n",
      "---\n",
      "12\n",
      "{1: 2, 2: 2, 8: 3, 9: 3, 5: 2, 3: 1, 4: 1, 6: 3, 7: 3, 10: 2, 11: 3, 14: 3, 15: 3, 12: 3}\n"
     ]
    },
    {
     "data": {
      "text/plain": [
       "{1: 2,\n",
       " 2: 2,\n",
       " 8: 3,\n",
       " 9: 3,\n",
       " 5: 2,\n",
       " 3: 1,\n",
       " 4: 1,\n",
       " 6: 3,\n",
       " 7: 3,\n",
       " 10: 2,\n",
       " 11: 3,\n",
       " 14: 3,\n",
       " 15: 3,\n",
       " 12: 3}"
      ]
     },
     "execution_count": 276,
     "metadata": {},
     "output_type": "execute_result"
    }
   ],
   "source": [
    "core_number_1(g)"
   ]
  },
  {
   "cell_type": "code",
   "execution_count": 277,
   "metadata": {},
   "outputs": [
    {
     "name": "stdout",
     "output_type": "stream",
     "text": [
      "[3, 4, 2, 10, 1, 7, 14, 15, 12, 8, 5, 6, 11, 9]\n",
      "{1: 3, 2: 2, 8: 4, 9: 5, 5: 3, 3: 1, 4: 1, 6: 4, 7: 3, 10: 2, 11: 4, 14: 3, 15: 3, 12: 3}\n",
      "{1: 3, 2: 2, 8: 4, 9: 5, 5: 2, 3: 1, 4: 1, 6: 4, 7: 3, 10: 2, 11: 4, 14: 3, 15: 3, 12: 3}\n",
      "{1: 2, 2: 2, 8: 4, 9: 5, 5: 2, 3: 1, 4: 1, 6: 4, 7: 3, 10: 2, 11: 4, 14: 3, 15: 3, 12: 3}\n",
      "{1: 2, 2: 2, 8: 4, 9: 4, 5: 2, 3: 1, 4: 1, 6: 4, 7: 3, 10: 2, 11: 4, 14: 3, 15: 3, 12: 3}\n",
      "{1: 2, 2: 2, 8: 4, 9: 4, 5: 2, 3: 1, 4: 1, 6: 4, 7: 3, 10: 2, 11: 3, 14: 3, 15: 3, 12: 3}\n",
      "{1: 2, 2: 2, 8: 4, 9: 4, 5: 2, 3: 1, 4: 1, 6: 3, 7: 3, 10: 2, 11: 3, 14: 3, 15: 3, 12: 3}\n",
      "{1: 2, 2: 2, 8: 3, 9: 4, 5: 2, 3: 1, 4: 1, 6: 3, 7: 3, 10: 2, 11: 3, 14: 3, 15: 3, 12: 3}\n",
      "{1: 2, 2: 2, 8: 3, 9: 3, 5: 2, 3: 1, 4: 1, 6: 3, 7: 3, 10: 2, 11: 3, 14: 3, 15: 3, 12: 3}\n"
     ]
    },
    {
     "data": {
      "text/plain": [
       "{1: 2,\n",
       " 2: 2,\n",
       " 8: 3,\n",
       " 9: 3,\n",
       " 5: 2,\n",
       " 3: 1,\n",
       " 4: 1,\n",
       " 6: 3,\n",
       " 7: 3,\n",
       " 10: 2,\n",
       " 11: 3,\n",
       " 14: 3,\n",
       " 15: 3,\n",
       " 12: 3}"
      ]
     },
     "execution_count": 277,
     "metadata": {},
     "output_type": "execute_result"
    }
   ],
   "source": [
    "core_number(g)"
   ]
  },
  {
   "cell_type": "markdown",
   "metadata": {},
   "source": [
    "# Best approach"
   ]
  },
  {
   "cell_type": "code",
   "execution_count": 200,
   "metadata": {},
   "outputs": [],
   "source": [
    "def core_number(G):\n",
    "\n",
    "    degrees = dict(G.degree())\n",
    "    # Sort nodes by degree.\n",
    "    nodes = sorted(degrees, key=degrees.get)\n",
    "    bin_boundaries = [0]\n",
    "    curr_degree = 0\n",
    "    for i, v in enumerate(nodes):\n",
    "        if degrees[v] > curr_degree:\n",
    "            bin_boundaries.extend([i] * (degrees[v] - curr_degree))\n",
    "            curr_degree = degrees[v]\n",
    "    node_pos = {v: pos for pos, v in enumerate(nodes)}\n",
    "    \n",
    "    # The initial guess for the core number of a node is its degree.\n",
    "    core = degrees\n",
    "    nbrs = {v: list(nx.all_neighbors(G, v)) for v in G}\n",
    "    for v in nodes:\n",
    "        for u in nbrs[v]:\n",
    "            if core[u] > core[v]:\n",
    "                nbrs[u].remove(v)\n",
    "                pos = node_pos[u]\n",
    "                bin_start = bin_boundaries[core[u]]\n",
    "                node_pos[u] = bin_start\n",
    "                node_pos[nodes[bin_start]] = pos\n",
    "                nodes[bin_start], nodes[pos] = nodes[pos], nodes[bin_start]\n",
    "                bin_boundaries[core[u]] += 1\n",
    "                core[u] -= 1\n",
    "    return core\n",
    "\n"
   ]
  },
  {
   "cell_type": "markdown",
   "metadata": {},
   "source": [
    "# approach comparison"
   ]
  },
  {
   "cell_type": "markdown",
   "metadata": {},
   "source": [
    "## time"
   ]
  },
  {
   "cell_type": "code",
   "execution_count": 281,
   "metadata": {},
   "outputs": [
    {
     "name": "stdout",
     "output_type": "stream",
     "text": [
      "270 µs ± 4.03 µs per loop (mean ± std. dev. of 7 runs, 10000 loops each)\n"
     ]
    }
   ],
   "source": [
    "%timeit naive_approach(g)"
   ]
  },
  {
   "cell_type": "code",
   "execution_count": 282,
   "metadata": {},
   "outputs": [
    {
     "name": "stdout",
     "output_type": "stream",
     "text": [
      "71.8 µs ± 1.11 µs per loop (mean ± std. dev. of 7 runs, 10000 loops each)\n"
     ]
    }
   ],
   "source": [
    "%timeit core_number_1(g)"
   ]
  },
  {
   "cell_type": "markdown",
   "metadata": {},
   "source": [
    "## memory usage"
   ]
  },
  {
   "cell_type": "code",
   "execution_count": 154,
   "metadata": {},
   "outputs": [
    {
     "name": "stdout",
     "output_type": "stream",
     "text": [
      "Collecting memory_profiler\n",
      "  Downloading https://files.pythonhosted.org/packages/f4/03/175d380294b2333b9b79c2f2aa235eb90ee95e3ddef644497a9455404312/memory_profiler-0.57.0.tar.gz\n",
      "Requirement already satisfied: psutil in /home/jaime/anaconda3/lib/python3.7/site-packages (from memory_profiler) (5.6.3)\n",
      "Building wheels for collected packages: memory-profiler\n",
      "  Building wheel for memory-profiler (setup.py) ... \u001b[?25ldone\n",
      "\u001b[?25h  Created wheel for memory-profiler: filename=memory_profiler-0.57.0-cp37-none-any.whl size=28995 sha256=10f3f3d40dfd8421a5751e3acf464d6c3f84974803360a4f2d7b98b2d18e1d1e\n",
      "  Stored in directory: /home/jaime/.cache/pip/wheels/74/20/b5/20964ef97be73d2c3a695c9cad7bccd96d1e3e737a8163861f\n",
      "Successfully built memory-profiler\n",
      "Installing collected packages: memory-profiler\n",
      "Successfully installed memory-profiler-0.57.0\n",
      "Note: you may need to restart the kernel to use updated packages.\n"
     ]
    }
   ],
   "source": [
    "# pip install memory_profiler"
   ]
  },
  {
   "cell_type": "code",
   "execution_count": 155,
   "metadata": {},
   "outputs": [],
   "source": [
    "# %load_ext memory_profiler"
   ]
  },
  {
   "cell_type": "code",
   "execution_count": 158,
   "metadata": {},
   "outputs": [
    {
     "name": "stdout",
     "output_type": "stream",
     "text": [
      "peak memory: 164.46 MiB, increment: 0.00 MiB\n"
     ]
    }
   ],
   "source": [
    "%memit naive_approach(g)"
   ]
  },
  {
   "cell_type": "code",
   "execution_count": 159,
   "metadata": {},
   "outputs": [
    {
     "name": "stdout",
     "output_type": "stream",
     "text": [
      "peak memory: 164.46 MiB, increment: 0.00 MiB\n"
     ]
    }
   ],
   "source": [
    "%memit core_number(g)"
   ]
  },
  {
   "cell_type": "code",
   "execution_count": null,
   "metadata": {},
   "outputs": [],
   "source": []
  }
 ],
 "metadata": {
  "kernelspec": {
   "display_name": "Python 3",
   "language": "python",
   "name": "python3"
  },
  "language_info": {
   "codemirror_mode": {
    "name": "ipython",
    "version": 3
   },
   "file_extension": ".py",
   "mimetype": "text/x-python",
   "name": "python",
   "nbconvert_exporter": "python",
   "pygments_lexer": "ipython3",
   "version": "3.7.3"
  },
  "toc": {
   "base_numbering": 1,
   "nav_menu": {},
   "number_sections": true,
   "sideBar": true,
   "skip_h1_title": false,
   "title_cell": "Table of Contents",
   "title_sidebar": "Contents",
   "toc_cell": false,
   "toc_position": {},
   "toc_section_display": true,
   "toc_window_display": false
  },
  "varInspector": {
   "cols": {
    "lenName": 16,
    "lenType": 16,
    "lenVar": 40
   },
   "kernels_config": {
    "python": {
     "delete_cmd_postfix": "",
     "delete_cmd_prefix": "del ",
     "library": "var_list.py",
     "varRefreshCmd": "print(var_dic_list())"
    },
    "r": {
     "delete_cmd_postfix": ") ",
     "delete_cmd_prefix": "rm(",
     "library": "var_list.r",
     "varRefreshCmd": "cat(var_dic_list()) "
    }
   },
   "types_to_exclude": [
    "module",
    "function",
    "builtin_function_or_method",
    "instance",
    "_Feature"
   ],
   "window_display": false
  }
 },
 "nbformat": 4,
 "nbformat_minor": 2
}
