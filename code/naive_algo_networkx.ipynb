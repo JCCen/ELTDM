{
 "cells": [
  {
   "cell_type": "code",
   "execution_count": 116,
   "metadata": {},
   "outputs": [],
   "source": [
    "from __future__ import print_function\n",
    "from ipywidgets import interact, interactive, fixed, interact_manual\n",
    "import ipywidgets as widgets\n",
    "import re \n",
    "import itertools\n",
    "import operator\n",
    "import copy\n",
    "import igraph\n",
    "from library import clean_text_simple, terms_to_graph\n",
    "import matplotlib\n",
    "import matplotlib.pyplot as plt\n",
    "import numpy as np\n",
    "import heapq\n",
    "import nltk\n",
    "import cairocffi\n",
    "import string\n",
    "from nltk.corpus import stopwords\n",
    "import timeit\n",
    "import networkx as nx\n",
    "import igraph as ig\n",
    "from operator import itemgetter"
   ]
  },
  {
   "cell_type": "markdown",
   "metadata": {},
   "source": [
    "# naive algo"
   ]
  },
  {
   "cell_type": "code",
   "execution_count": 117,
   "metadata": {
    "code_folding": []
   },
   "outputs": [
    {
     "data": {
      "image/png": "[encoded data removed]",
      "text/plain": [
       "<Figure size 432x288 with 1 Axes>"
      ]
     },
     "metadata": {},
     "output_type": "display_data"
    }
   ],
   "source": [
    "g = nx.Graph([])\n",
    "g.add_edges_from([(1,2),(1,8),(1,9),\n",
    "                  (5,2),\n",
    "                  (5,3),\n",
    "                  (5,4),\n",
    "                  (5,6),\n",
    "                  (6,7),\n",
    "                  (6,8),\n",
    "                  (6,9),\n",
    "                  (7,8),\n",
    "                  (7,9),\n",
    "                  (8,9),\n",
    "                  (9,10),\n",
    "                  (10,11),\n",
    "                  (11,14),\n",
    "                  (11,15),\n",
    "                  (11,12),\n",
    "                  (14,15),\n",
    "                  (15,12),\n",
    "                  (10,12)\n",
    "                 ])\n",
    "nx.draw(g)\n",
    "plt.show()"
   ]
  },
  {
   "cell_type": "code",
   "execution_count": 118,
   "metadata": {},
   "outputs": [],
   "source": [
    "weights = dict(g.degree)\n",
    "gg = copy.deepcopy(g)\n",
    "cores_g = dict(zip(gg.nodes,[0]*len(gg.nodes)))\n",
    "\n",
    "while len(gg.nodes) > 0:\n",
    "    index_top , min_degree   = min(weights.items(), key=itemgetter(1))\n",
    "    neighbors = list(gg.neighbors(index_top))\n",
    "    cores_g[index_top] = min_degree\n",
    "    gg.remove_node(index_top)\n",
    "    weights.pop(index_top)\n",
    "\n",
    "    if neighbors:\n",
    "        new_degrees=gg.degree()\n",
    "        for neigh in neighbors:\n",
    "            weights[neigh] = max(min_degree,new_degrees[neigh])\n",
    "    \n",
    "    \n",
    "\n"
   ]
  },
  {
   "cell_type": "code",
   "execution_count": 120,
   "metadata": {},
   "outputs": [
    {
     "data": {
      "text/plain": [
       "{1: 2,\n",
       " 2: 2,\n",
       " 8: 3,\n",
       " 9: 3,\n",
       " 5: 2,\n",
       " 3: 1,\n",
       " 4: 1,\n",
       " 6: 3,\n",
       " 7: 3,\n",
       " 10: 2,\n",
       " 11: 2,\n",
       " 14: 2,\n",
       " 15: 2,\n",
       " 12: 2}"
      ]
     },
     "execution_count": 120,
     "metadata": {},
     "output_type": "execute_result"
    }
   ],
   "source": [
    "cores_g"
   ]
  },
  {
   "cell_type": "code",
   "execution_count": 121,
   "metadata": {},
   "outputs": [
    {
     "name": "stdout",
     "output_type": "stream",
     "text": [
      "[1, 2, 8, 9, 5, 3, 4, 6, 7, 10, 11, 14, 15, 12]\n",
      "---\n",
      "[1, 2, 8, 9, 5, 6, 7, 10, 11, 14, 15, 12]\n",
      "---\n",
      "[8, 9, 6, 7]\n",
      "---\n",
      "[]\n"
     ]
    }
   ],
   "source": [
    "print(nx.k_core(g,k=1).nodes())\n",
    "print('---')\n",
    "print(nx.k_core(g,k=2).nodes())\n",
    "print('---')\n",
    "print(nx.k_core(g,k=3).nodes())\n",
    "print('---')\n",
    "print(nx.k_core(g,k=4).nodes())"
   ]
  }
 ],
 "metadata": {
  "kernelspec": {
   "display_name": "Python 3",
   "language": "python",
   "name": "python3"
  },
  "language_info": {
   "codemirror_mode": {
    "name": "ipython",
    "version": 3
   },
   "file_extension": ".py",
   "mimetype": "text/x-python",
   "name": "python",
   "nbconvert_exporter": "python",
   "pygments_lexer": "ipython3",
   "version": "3.7.3"
  },
  "toc": {
   "base_numbering": 1,
   "nav_menu": {},
   "number_sections": true,
   "sideBar": true,
   "skip_h1_title": false,
   "title_cell": "Table of Contents",
   "title_sidebar": "Contents",
   "toc_cell": false,
   "toc_position": {},
   "toc_section_display": true,
   "toc_window_display": false
  },
  "varInspector": {
   "cols": {
    "lenName": 16,
    "lenType": 16,
    "lenVar": 40
   },
   "kernels_config": {
    "python": {
     "delete_cmd_postfix": "",
     "delete_cmd_prefix": "del ",
     "library": "var_list.py",
     "varRefreshCmd": "print(var_dic_list())"
    },
    "r": {
     "delete_cmd_postfix": ") ",
     "delete_cmd_prefix": "rm(",
     "library": "var_list.r",
     "varRefreshCmd": "cat(var_dic_list()) "
    }
   },
   "types_to_exclude": [
    "module",
    "function",
    "builtin_function_or_method",
    "instance",
    "_Feature"
   ],
   "window_display": false
  }
 },
 "nbformat": 4,
 "nbformat_minor": 2
}
