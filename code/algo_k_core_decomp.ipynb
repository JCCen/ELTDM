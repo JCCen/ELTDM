{
 "cells": [
  {
   "cell_type": "code",
   "execution_count": 1,
   "metadata": {},
   "outputs": [],
   "source": [
    "import networkx as nx\n",
    "import numpy as np\n",
    "import matplotlib.pyplot as plt\n",
    "import itertools\n",
    "from operator import itemgetter\n",
    "import copy"
   ]
  },
  {
   "cell_type": "markdown",
   "metadata": {},
   "source": [
    "# naive algo"
   ]
  },
  {
   "cell_type": "code",
   "execution_count": 2,
   "metadata": {
    "code_folding": [
     1
    ]
   },
   "outputs": [
    {
     "data": {
      "image/png": "[encoded data removed]",
      "text/plain": [
       "<Figure size 432x288 with 1 Axes>"
      ]
     },
     "metadata": {},
     "output_type": "display_data"
    }
   ],
   "source": [
    "g = nx.Graph([])\n",
    "g.add_edges_from([(1,2),(1,8),(1,9),\n",
    "                  (5,2),\n",
    "                  (5,3),\n",
    "                  (5,4),\n",
    "                  (5,6),\n",
    "                  (6,7),\n",
    "                  (6,8),\n",
    "                  (6,9),\n",
    "                  (7,8),\n",
    "                  (7,9),\n",
    "                  (8,9),\n",
    "                  (9,10),\n",
    "                  (10,11),\n",
    "                  (11,14),\n",
    "                  (11,15),\n",
    "                  (11,12),\n",
    "                  (14,15),\n",
    "                  (15,12),\n",
    "                  (12,14)\n",
    "                 ])\n",
    "nx.draw(g,with_labels=True)\n",
    "plt.show()"
   ]
  },
  {
   "cell_type": "code",
   "execution_count": 3,
   "metadata": {},
   "outputs": [],
   "source": [
    "def approche_naive(g):\n",
    "    gg = copy.deepcopy(g)\n",
    "    weights = dict(gg.degree)\n",
    "\n",
    "    cores_g = dict(zip(gg.nodes,[0]*len(gg.nodes)))\n",
    "\n",
    "    while len(gg.nodes) > 0:\n",
    "        index_top , min_degree   = min(weights.items(), key=itemgetter(1))\n",
    "        neighbors = list(gg.neighbors(index_top))\n",
    "        cores_g[index_top] = min_degree\n",
    "        gg.remove_node(index_top)\n",
    "        weights.pop(index_top)\n",
    "\n",
    "        if neighbors:\n",
    "            new_degrees=gg.degree()\n",
    "            for neigh in neighbors:\n",
    "                weights[neigh] = max(min_degree,new_degrees[neigh])\n",
    "                \n",
    "    return cores_g"
   ]
  },
  {
   "cell_type": "markdown",
   "metadata": {},
   "source": [
    "# Approach 1"
   ]
  },
  {
   "cell_type": "code",
   "execution_count": 4,
   "metadata": {},
   "outputs": [],
   "source": [
    "def batagelj_naif(G):\n",
    "    degrees = dict(G.degree())\n",
    "    nodes = sorted(degrees, key=degrees.get)\n",
    "    nbrs = {v: list(nx.all_neighbors(G, v)) for v in G}\n",
    "    i=0\n",
    "    count_passed_through = []\n",
    "    while len(count_passed_through)<len(nodes):\n",
    "        nodes = sorted(degrees, key=degrees.get)       \n",
    "        st =  set(count_passed_through)\n",
    "        v = [ele for ele in nodes if ele not in st][0]  ### check mainting order\n",
    "\n",
    "        for u in nbrs[v]:\n",
    "            if degrees[u] > degrees[v]:\n",
    "                degrees[u] -= 1\n",
    "                \n",
    "        count_passed_through.append(v)\n",
    "\n",
    "    return degrees"
   ]
  },
  {
   "cell_type": "code",
   "execution_count": 5,
   "metadata": {},
   "outputs": [],
   "source": [
    "%load_ext Cython"
   ]
  },
  {
   "cell_type": "code",
   "execution_count": 6,
   "metadata": {},
   "outputs": [],
   "source": [
    "%%cython\n",
    "import networkx as nx\n",
    "import matplotlib.pyplot as plt\n",
    "import itertools\n",
    "from operator import itemgetter\n",
    "import copy\n",
    "\n",
    "def batagelj_naif_cython(G):\n",
    "    degrees = dict(G.degree())\n",
    "    nodes = sorted(degrees, key=degrees.get)\n",
    "    nbrs = {v: list(nx.all_neighbors(G, v)) for v in G}\n",
    "    i=0\n",
    "    count_passed_through = []\n",
    "    while len(count_passed_through)<len(nodes):\n",
    "        nodes = sorted(degrees, key=degrees.get)       \n",
    "        st =  set(count_passed_through)\n",
    "        v = [ele for ele in nodes if ele not in st][0]  ### check mainting order\n",
    "\n",
    "        for u in nbrs[v]:\n",
    "            if degrees[u] > degrees[v]:\n",
    "                degrees[u] -= 1\n",
    "                \n",
    "        count_passed_through.append(v)\n",
    "\n",
    "    return degrees"
   ]
  },
  {
   "cell_type": "markdown",
   "metadata": {},
   "source": [
    "# Similaire nx"
   ]
  },
  {
   "cell_type": "code",
   "execution_count": 7,
   "metadata": {},
   "outputs": [],
   "source": [
    "def batagelj_avance(G):\n",
    "# inspiré, comme mentionné sur le rapport, du code source de NetworkX, (Hagberg, Schult, Swart)\n",
    "    degrees = dict(G.degree())\n",
    "    # Sort nodes by degree.\n",
    "    nodes = sorted(degrees, key=degrees.get)\n",
    "    bin_boundaries = [0]\n",
    "    curr_degree = 0\n",
    "    for i, v in enumerate(nodes):\n",
    "        if degrees[v] > curr_degree:\n",
    "            bin_boundaries.extend([i] * (degrees[v] - curr_degree))\n",
    "            curr_degree = degrees[v]\n",
    "    node_pos = {v: pos for pos, v in enumerate(nodes)}\n",
    "    \n",
    "\n",
    "    core = degrees\n",
    "    nbrs = {v: list(nx.all_neighbors(G, v)) for v in G}\n",
    "    for v in nodes:\n",
    "        for u in nbrs[v]:\n",
    "            if core[u] > core[v]:\n",
    "                nbrs[u].remove(v)\n",
    "                pos = node_pos[u]\n",
    "                bin_start = bin_boundaries[core[u]]\n",
    "                node_pos[u] = bin_start\n",
    "                node_pos[nodes[bin_start]] = pos\n",
    "                nodes[bin_start], nodes[pos] = nodes[pos], nodes[bin_start]\n",
    "                bin_boundaries[core[u]] += 1\n",
    "                core[u] -= 1\n",
    "    return core"
   ]
  },
  {
   "cell_type": "markdown",
   "metadata": {},
   "source": [
    "# sanity check"
   ]
  },
  {
   "cell_type": "markdown",
   "metadata": {},
   "source": [
    "On teste que nos approches soient bonnes sur un nombre suffisament important et divers de graphes"
   ]
  },
  {
   "cell_type": "code",
   "execution_count": 8,
   "metadata": {},
   "outputs": [
    {
     "data": {
      "text/plain": [
       "True"
      ]
     },
     "execution_count": 8,
     "metadata": {},
     "output_type": "execute_result"
    }
   ],
   "source": [
    "G = nx.duplication_divergence_graph(10**3,0.7)\n",
    "approche_naive(G) == batagelj_naif(G) == batagelj_avance(G) == nx.core_number(G)"
   ]
  },
  {
   "cell_type": "code",
   "execution_count": 9,
   "metadata": {},
   "outputs": [
    {
     "data": {
      "text/plain": [
       "True"
      ]
     },
     "execution_count": 9,
     "metadata": {},
     "output_type": "execute_result"
    }
   ],
   "source": [
    "G = nx.balanced_tree(5,3)\n",
    "approche_naive(G) == batagelj_naif(G) == batagelj_avance(G) == nx.core_number(G)"
   ]
  },
  {
   "cell_type": "code",
   "execution_count": 10,
   "metadata": {},
   "outputs": [
    {
     "data": {
      "text/plain": [
       "True"
      ]
     },
     "execution_count": 10,
     "metadata": {},
     "output_type": "execute_result"
    }
   ],
   "source": [
    "G = nx.circular_ladder_graph(150)\n",
    "approche_naive(G) == batagelj_naif(G) == batagelj_avance(G) == nx.core_number(G)"
   ]
  },
  {
   "cell_type": "code",
   "execution_count": 11,
   "metadata": {},
   "outputs": [
    {
     "data": {
      "text/plain": [
       "True"
      ]
     },
     "execution_count": 11,
     "metadata": {},
     "output_type": "execute_result"
    }
   ],
   "source": [
    "G = nx.generators.random_graphs.gnm_random_graph(150,200)\n",
    "approche_naive(G) == batagelj_naif(G) == batagelj_avance(G) == nx.core_number(G)"
   ]
  },
  {
   "cell_type": "markdown",
   "metadata": {},
   "source": [
    "# Parallelized approaches"
   ]
  },
  {
   "cell_type": "markdown",
   "metadata": {},
   "source": [
    "## Approach 1 : multithreading with Python"
   ]
  },
  {
   "cell_type": "markdown",
   "metadata": {},
   "source": [
    "### Implementation"
   ]
  },
  {
   "cell_type": "code",
   "execution_count": 12,
   "metadata": {},
   "outputs": [],
   "source": [
    "from threading import Thread, Lock\n",
    "\n",
    "N_THREADS = 5"
   ]
  },
  {
   "cell_type": "code",
   "execution_count": 13,
   "metadata": {},
   "outputs": [],
   "source": [
    "# L'algorithme PKC fonctionne en mettant à jour itérativement et en parallèle\n",
    "# le dictionnaire des degrés des noeuds.\n",
    "# Afin de le protéger d'éventuelles race conditions, on protège sa lecture et son écriture\n",
    "# en l'encapsulant dans une classe et en implémentant des threadlocks.\n",
    "# On fait de même pour la variable visited qui donne le critère d'arrêt de l'algorithme.\n",
    "\n",
    "class Counters():\n",
    "    \"\"\"Encapsule les compteurs dans une classe avec des threadlocks pour éviter les race conditions.\"\"\"\n",
    "    def __init__(self, G):\n",
    "        G = G.copy()\n",
    "        self.deg = dict(G.degree)\n",
    "        self.visited = 0\n",
    "        self.lock = Lock()\n",
    "\n",
    "    def get_degree(self, node):\n",
    "        with self.lock:\n",
    "            return self.deg[node]\n",
    "\n",
    "    def increment_degree(self, node, value):\n",
    "        with self.lock:\n",
    "            self.deg[node] += value\n",
    "            return self.deg[node]\n",
    "\n",
    "    def get_visited(self):\n",
    "        with self.lock:\n",
    "            return self.visited\n",
    "\n",
    "    def increment_visited(self, value):\n",
    "        with self.lock:\n",
    "            self.visited += value\n",
    "\n",
    "    def reinitialize(self, G):\n",
    "        self.visited = 0\n",
    "        self.deg = dict(G.degree)"
   ]
  },
  {
   "cell_type": "code",
   "execution_count": 14,
   "metadata": {},
   "outputs": [],
   "source": [
    "def process_nodes_multithread(nodes_ind, G, counters, level):\n",
    "    \"\"\"Traite une séquence de noeuds de manière local sur un thread.\"\"\"\n",
    "    nodes_list = list(G.nodes)\n",
    "    buff = np.zeros_like(nodes_list).astype(int)\n",
    "    start = 0\n",
    "    end = 0\n",
    "    \n",
    "    # On stocke les noeuds qui doivent être traités (i.e. tq current core == level)\n",
    "    # dans un buffer local à chaque thread\n",
    "    for i in nodes_ind:\n",
    "        deg_i = counters.get_degree(nodes_list[i])\n",
    "        if deg_i == level:\n",
    "            buff[end] = i\n",
    "            end += 1\n",
    "    \n",
    "    # Chaque thread traite séquentiellement les noeuds de son buffer en comparant\n",
    "    # les degrés de ses voisins au niveau d'entrée (level)\n",
    "    while start < end:\n",
    "        v = buff[start]\n",
    "        start += 1\n",
    "        for u in G.neighbors(nodes_list[v]):\n",
    "            if counters.get_degree(u) > level:\n",
    "                a = counters.increment_degree(u, -1)\n",
    "                if a == level:\n",
    "                    buff[end] = nodes_list.index(u)\n",
    "                    end += 1\n",
    "                if a < level:\n",
    "                    counters.increment_degree(u, 1)\n",
    "\n",
    "    counters.increment_visited(end)"
   ]
  },
  {
   "cell_type": "code",
   "execution_count": 15,
   "metadata": {},
   "outputs": [],
   "source": [
    "def pkc_multithread(G):\n",
    "    \"\"\"Calcule une décomposition en K-core en parallélisant le traitement sur des threads.\"\"\"\n",
    "    G = G.copy()\n",
    "    n = len(G.nodes)\n",
    "    assert(N_THREADS < n)\n",
    "    counters = Counters(G)\n",
    "\n",
    "    nodes_split = np.array_split(range(n), N_THREADS)\n",
    "    level = 0\n",
    "    visited = 0\n",
    "    thread_list = []\n",
    "    \n",
    "    # On traite des blocs de noeuds de taille n / n_threads en parallèle\n",
    "    while visited < n:\n",
    "        for t in range(N_THREADS):\n",
    "            thread = Thread(target=process_nodes_multithread, \n",
    "                            args=(nodes_split[t], G, counters, level))\n",
    "            thread_list.append(thread)\n",
    "            thread_list[t].start()\n",
    "        for thread in thread_list:\n",
    "            thread.join()\n",
    "        thread_list = []\n",
    "\n",
    "        level += 1\n",
    "        visited = counters.get_visited()\n",
    "\n",
    "    deg = counters.deg.copy()\n",
    "\n",
    "    return deg"
   ]
  },
  {
   "cell_type": "code",
   "execution_count": 16,
   "metadata": {},
   "outputs": [],
   "source": [
    "# Sanity check\n",
    "assert(nx.core_number(g) == pkc_multithread(g))"
   ]
  },
  {
   "cell_type": "markdown",
   "metadata": {},
   "source": [
    "## Approach 2 : multithreading with Python"
   ]
  },
  {
   "cell_type": "code",
   "execution_count": 17,
   "metadata": {},
   "outputs": [],
   "source": [
    "from multiprocessing import Process, Value, Array, cpu_count\n",
    "\n",
    "N_PROCESSES = cpu_count()"
   ]
  },
  {
   "cell_type": "code",
   "execution_count": 18,
   "metadata": {},
   "outputs": [],
   "source": [
    "def process_nodes_multiprocess(nodes_ind, G, deg, visited, level):\n",
    "    \"\"\"Process a sequence of nodes on a local process.\"\"\"\n",
    "    nodes_list = list(G.nodes)\n",
    "    buff = np.zeros_like(nodes_list).astype(int)\n",
    "    start = 0\n",
    "    end = 0\n",
    "\n",
    "    for i in nodes_ind:\n",
    "        deg_i = deg[i]\n",
    "        if deg_i == level:\n",
    "            buff[end] = i\n",
    "            end += 1\n",
    "\n",
    "    while start < end:\n",
    "        v = buff[start]\n",
    "        start += 1\n",
    "        for u in G.neighbors(nodes_list[v]):\n",
    "            ind_u = nodes_list.index(u)\n",
    "            if deg[ind_u] > level:\n",
    "                deg[ind_u] -= 1\n",
    "                if deg[ind_u] == level:\n",
    "                    buff[end] = ind_u\n",
    "                    end += 1\n",
    "                if deg[ind_u] < level:\n",
    "                    deg[ind_u] += 1\n",
    "\n",
    "    visited.value += end"
   ]
  },
  {
   "cell_type": "code",
   "execution_count": 19,
   "metadata": {},
   "outputs": [],
   "source": [
    "def pkc_multiprocess(G):\n",
    "    \"\"\"Perform multiprocessing K-core decomposition.\"\"\"\n",
    "    G = G.copy()\n",
    "    nodes = list(G.nodes)\n",
    "    n = len(nodes)\n",
    "    nodes_split = np.array_split(range(n), N_PROCESSES)\n",
    "\n",
    "    deg = Array('i', list(dict(G.degree).values()))\n",
    "    visited = Value('i', 0)\n",
    "    level = 0\n",
    "\n",
    "    process_list = []\n",
    "\n",
    "    while visited.value < n:\n",
    "        for t in range(N_PROCESSES):\n",
    "            process = Process(target=process_nodes_multiprocess, \n",
    "                              args=(nodes_split[t], G, deg,\n",
    "                                    visited, level))\n",
    "            process_list.append(process)\n",
    "            process_list[t].start()\n",
    "        for process in process_list:\n",
    "            process.join()\n",
    "        process_list = []\n",
    "\n",
    "        level += 1\n",
    "\n",
    "    kcore = {nodes[i]: deg[i] for i in range(n)}\n",
    "\n",
    "    return kcore"
   ]
  },
  {
   "cell_type": "code",
   "execution_count": 20,
   "metadata": {},
   "outputs": [],
   "source": [
    "# Sanity check\n",
    "assert(nx.core_number(g) == pkc_multiprocess(g))"
   ]
  },
  {
   "cell_type": "markdown",
   "metadata": {},
   "source": [
    "# Approaches comparison"
   ]
  },
  {
   "cell_type": "code",
   "execution_count": 24,
   "metadata": {},
   "outputs": [
    {
     "name": "stdout",
     "output_type": "stream",
     "text": [
      "0\n",
      "1\n",
      "2\n",
      "3\n",
      "4\n"
     ]
    }
   ],
   "source": [
    "from timeit import timeit\n",
    "array_len_range= range(100,1000,200)\n",
    "functions = ['approche_naive','batagelj_naif','batagelj_avance',\n",
    "             'nx.core_number', 'pkc_multithread', 'pkc_multiprocess']\n",
    "# labels = ['algorithme naif', 'batagelj basique', 'batagelj avancé', 'nx.core_number']\n",
    "functions_arrays=[(i,[]) for i in functions]\n",
    "x = [10*i for i in array_len_range]\n",
    "\n",
    "for num, i in enumerate(x):\n",
    "    num_iter = 4\n",
    "    print(num)\n",
    "\n",
    "    G = nx.duplication_divergence_graph(i,0.7)\n",
    "\n",
    "    for function, array in functions_arrays:\n",
    "        time = timeit(str(function + '(G)'), number=num_iter, globals=globals())/num_iter\n",
    "        array.append(time)"
   ]
  },
  {
   "cell_type": "code",
   "execution_count": 25,
   "metadata": {},
   "outputs": [
    {
     "data": {
      "image/png": "[encoded data removed]",
      "text/plain": [
       "<Figure size 921.6x633.6 with 1 Axes>"
      ]
     },
     "metadata": {},
     "output_type": "display_data"
    }
   ],
   "source": [
    "\n",
    "from matplotlib import pyplot as plt\n",
    "import numpy as np\n",
    "\n",
    "\n",
    "plt.style.use(['seaborn-poster','fivethirtyeight'])\n",
    "\n",
    "# plt.style.use(['dark_background', 'presentation'])\n",
    "\n",
    "\n",
    "fig, ax = plt.subplots()\n",
    "for function,array in functions_arrays:\n",
    "    ax.plot(x, array,label=function)\n",
    "\n",
    "ax.set_title(\"Analyse des temps d'execution (détections des k-cores)\")\n",
    "ax.legend()\n",
    "ax.set_yscale('log')\n",
    "ax.set_xscale('log')\n",
    "\n",
    "plt.xlabel (\"nombre de nodes\")\n",
    "plt.ylabel (\"temps d'execution (s)\")\n",
    "plt.show()"
   ]
  },
  {
   "cell_type": "markdown",
   "metadata": {},
   "source": [
    "## Approach 2 : multithreading with Cython + OpenMP"
   ]
  },
  {
   "cell_type": "code",
   "execution_count": null,
   "metadata": {},
   "outputs": [],
   "source": []
  }
 ],
 "metadata": {
  "kernelspec": {
   "display_name": "Python 3",
   "language": "python",
   "name": "python3"
  },
  "language_info": {
   "codemirror_mode": {
    "name": "ipython",
    "version": 3
   },
   "file_extension": ".py",
   "mimetype": "text/x-python",
   "name": "python",
   "nbconvert_exporter": "python",
   "pygments_lexer": "ipython3",
   "version": "3.7.5"
  },
  "toc": {
   "base_numbering": 1,
   "nav_menu": {},
   "number_sections": true,
   "sideBar": true,
   "skip_h1_title": false,
   "title_cell": "Table of Contents",
   "title_sidebar": "Contents",
   "toc_cell": false,
   "toc_position": {},
   "toc_section_display": true,
   "toc_window_display": false
  },
  "varInspector": {
   "cols": {
    "lenName": 16,
    "lenType": 16,
    "lenVar": 40
   },
   "kernels_config": {
    "python": {
     "delete_cmd_postfix": "",
     "delete_cmd_prefix": "del ",
     "library": "var_list.py",
     "varRefreshCmd": "print(var_dic_list())"
    },
    "r": {
     "delete_cmd_postfix": ") ",
     "delete_cmd_prefix": "rm(",
     "library": "var_list.r",
     "varRefreshCmd": "cat(var_dic_list()) "
    }
   },
   "types_to_exclude": [
    "module",
    "function",
    "builtin_function_or_method",
    "instance",
    "_Feature"
   ],
   "window_display": false
  }
 },
 "nbformat": 4,
 "nbformat_minor": 2
}
