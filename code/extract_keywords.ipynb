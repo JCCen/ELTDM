{
 "cells": [
  {
   "cell_type": "code",
   "execution_count": 1,
   "metadata": {},
   "outputs": [],
   "source": [
    "import networkx as nx\n",
    "import matplotlib.pyplot as plt\n",
    "import itertools\n",
    "from operator import itemgetter\n",
    "import copy\n",
    "import numpy as np"
   ]
  },
  {
   "cell_type": "markdown",
   "metadata": {},
   "source": [
    "# intro: load example graph"
   ]
  },
  {
   "cell_type": "code",
   "execution_count": 2,
   "metadata": {
    "code_folding": [
     1
    ]
   },
   "outputs": [
    {
     "name": "stderr",
     "output_type": "stream",
     "text": [
      "/home/jaime/anaconda3/lib/python3.7/site-packages/networkx/drawing/nx_pylab.py:563: MatplotlibDeprecationWarning: \n",
      "The iterable function was deprecated in Matplotlib 3.1 and will be removed in 3.3. Use np.iterable instead.\n",
      "  if not cb.iterable(width):\n",
      "/home/jaime/anaconda3/lib/python3.7/site-packages/networkx/drawing/nx_pylab.py:611: MatplotlibDeprecationWarning: \n",
      "The is_numlike function was deprecated in Matplotlib 3.0 and will be removed in 3.2. Use isinstance(..., numbers.Number) instead.\n",
      "  if cb.is_numlike(alpha):\n"
     ]
    },
    {
     "data": {
      "image/png": "[encoded data removed]",
      "text/plain": [
       "<Figure size 432x288 with 1 Axes>"
      ]
     },
     "metadata": {},
     "output_type": "display_data"
    }
   ],
   "source": [
    "g = nx.Graph([])\n",
    "g.add_edges_from([(1,2),(1,8),(1,9),\n",
    "                  (5,2),\n",
    "                  (5,3),\n",
    "                  (5,4),\n",
    "                  (5,6),\n",
    "                  (6,7),\n",
    "                  (6,8),\n",
    "                  (6,9),\n",
    "                  (7,8),\n",
    "                  (7,9),\n",
    "                  (8,9),\n",
    "                  (9,10),\n",
    "                  (10,11),\n",
    "                  (11,14),\n",
    "                  (11,15),\n",
    "                  (11,12),\n",
    "                  (14,15),\n",
    "                  (15,12),\n",
    "                  (12,14)\n",
    "                 ])\n",
    "nx.draw(g,with_labels=True)\n",
    "plt.show()"
   ]
  },
  {
   "cell_type": "markdown",
   "metadata": {},
   "source": [
    "# naive algo"
   ]
  },
  {
   "cell_type": "code",
   "execution_count": 3,
   "metadata": {},
   "outputs": [],
   "source": [
    "def elbow(sorted_scores):\n",
    "    sorted_scores = [np.array(i) for i in sorted_scores]\n",
    "\n",
    "    first_point = sorted_scores[0]\n",
    "    last_point =sorted_scores[-1]\n",
    "    distances = []\n",
    "\n",
    "    for index,point in enumerate(sorted_scores):\n",
    "        point= np.array(point)\n",
    "        d=np.cross(last_point-first_point,point-first_point)/np.linalg.norm(last_point-first_point)\n",
    "        distances.append(abs(d))\n",
    "\n",
    "    if np.max(distances)>0:\n",
    "        x_elbow=sorted_scores[np.argmax(distances)]\n",
    "    else :\n",
    "        x_elbow=sorted_scores[0]\n",
    "\n",
    "    return x_elbow\n"
   ]
  },
  {
   "cell_type": "code",
   "execution_count": 4,
   "metadata": {},
   "outputs": [],
   "source": [
    "def get_density(g):\n",
    "    e = g.number_of_edges()\n",
    "    v = g.number_of_nodes()\n",
    "\n",
    "    if v !=0:\n",
    "        density = abs(e)/(abs(v)*(abs(v)-1))\n",
    "        return density\n",
    "    else : \n",
    "        return None\n",
    "\n",
    "def dens_method(g,k_core_decomp):\n",
    "    D=[]\n",
    "    for i in range(max(k_core_decomp.values())):\n",
    "        nodes_indexes = [k for k, v in k_core_decomp.items() if v >i]\n",
    "        g_small = g.subgraph(nodes_indexes)\n",
    "        D.append(get_density(g_small))\n",
    "    return elbow([i for i in enumerate(D)])[0]+1 # +1 as we started counting at zero\n",
    "\n",
    "def get_keywords(g):\n",
    "    k_core_decomp = nx.core_number(g) # replace by custom made function\n",
    "    k_core_value_of_keywords = dens_method(g,k_core_decomp)\n",
    "    keywords = [k for k, v in k_core_decomp.items() if v >= k_core_value_of_keywords]\n",
    "    return keywords\n"
   ]
  },
  {
   "cell_type": "markdown",
   "metadata": {},
   "source": [
    "# Now in Cython"
   ]
  },
  {
   "cell_type": "code",
   "execution_count": 5,
   "metadata": {},
   "outputs": [],
   "source": [
    "%load_ext Cython"
   ]
  },
  {
   "cell_type": "code",
   "execution_count": 6,
   "metadata": {},
   "outputs": [],
   "source": [
    "%%cython\n",
    "import numpy as np\n",
    "from libc.math cimport sqrt\n",
    "import networkx as nx\n",
    "from cpython cimport array\n",
    "from array import array as pyarray\n",
    "from libc.string cimport memcpy\n",
    "import cython\n",
    "from cython.parallel import prange\n",
    "\n",
    "\n",
    "cdef float cross_prod_vect(double[:] first_point, double[:] last_point,  double[:] point):\n",
    "    cdef float Ax = (last_point[0] - first_point[0])\n",
    "    cdef float Ay = (last_point[1]-first_point[1])\n",
    "    cdef float Bx = (point[0]-first_point[0])\n",
    "    cdef float By = (point[1]-first_point[1])\n",
    "    cdef float result= Ax*By-Ay*Bx\n",
    "    cdef float norm = sqrt(Ax*Ax+Ay*Ay)\n",
    "    return result/norm\n",
    "    \n",
    "\n",
    "cdef float cross_prod(float Ax, float Ay, float Bx, float By):\n",
    "    cdef float result= Ax*By-Ay*Bx\n",
    "    cdef float norm = sqrt(Ax*Ax+Ay*Ay)\n",
    "    return result/norm\n",
    "\n",
    "cdef float density_with_e_v(float e, float v):\n",
    "    return abs(e)/(abs(v)*(abs(v)-1))   \n",
    "\n",
    "@cython.boundscheck(False)\n",
    "@cython.wraparound(False)\n",
    "# # on a fait en sorte que l'on n''ai pas d'indexes negatifs\n",
    "# Negative indices are checked for and handled correctly. The code above is explicitly coded so that it doesn’t use negative indices, and it (hopefully) always access within bounds.\n",
    "cpdef c_elbow(double[:, :] sorted_scores):\n",
    "\n",
    "    cdef int elbow_point\n",
    "#     DTYPE = np.intc\n",
    "\n",
    "    cdef int N = sorted_scores.shape[0]\n",
    "    cdef double[:] first_point = sorted_scores[0]\n",
    "    cdef double[:] last_point = sorted_scores[N-1]\n",
    "    cdef int i # important get get for loop optimized\n",
    "    cdef double[:] Y = np.zeros(N)\n",
    "\n",
    "    for i in range(N):\n",
    "        point = sorted_scores[i]\n",
    "        d = cross_prod_vect(first_point,last_point,point)\n",
    "        Y[i]=abs(d)\n",
    "        \n",
    "    if np.max(Y)>0:\n",
    "        x_elbow=sorted_scores[np.argmax(Y)]\n",
    "    else :\n",
    "        x_elbow=sorted_scores[0]\n",
    "\n",
    "    return x_elbow\n",
    "\n",
    "    \n",
    "cpdef c_get_density(g):\n",
    "    cdef float e = abs(g.number_of_edges())\n",
    "    cdef float v = abs(g.number_of_nodes())\n",
    "    if v >1:\n",
    "        return density_with_e_v(e,v)\n",
    "    else : \n",
    "        return 0\n",
    "\n",
    "@cython.boundscheck(False)\n",
    "@cython.wraparound(False)\n",
    "cpdef c_dens_method(g, long [:, :] k_core_decomp):\n",
    "    cdef int N = max(k_core_decomp[1])\n",
    "    cdef double[:] D = np.zeros(N)\n",
    "    cdef int k\n",
    "#     cdef int i\n",
    "    for i in range(N):\n",
    "        nodes_indexes = [k_core_decomp[0][k] for k in range(len(k_core_decomp[0])) if k_core_decomp[1][k] >i]\n",
    "        g_small = g.subgraph(nodes_indexes)\n",
    "        D[i] = c_get_density(g_small)\n",
    "        j=+1\n",
    "    final_array = np.array([i for i in enumerate(D)])#.astype(np.intc)\n",
    "    return c_elbow(final_array)[0]+1 # +1 as we started counting at zero\n"
   ]
  },
  {
   "cell_type": "code",
   "execution_count": 7,
   "metadata": {},
   "outputs": [],
   "source": [
    "\n",
    "\n",
    "def c_get_keywords(g):\n",
    "    k_core_decomp = nx.core_number(g) # replace by custom made function\n",
    "    k_core_decomp_list = np.array([list(k_core_decomp.keys()),list(k_core_decomp.values())])\n",
    "\n",
    "    k_core_value_of_keywords = c_dens_method(g,k_core_decomp_list)\n",
    "    keywords = [k for k, v in k_core_decomp.items() if v >= k_core_value_of_keywords]\n",
    "    return keywords\n"
   ]
  },
  {
   "cell_type": "code",
   "execution_count": 8,
   "metadata": {
    "scrolled": false
   },
   "outputs": [
    {
     "data": {
      "text/plain": [
       "[1, 2, 8, 9, 5, 6, 7, 10, 11, 14, 15, 12]"
      ]
     },
     "execution_count": 8,
     "metadata": {},
     "output_type": "execute_result"
    }
   ],
   "source": [
    "get_keywords(g)"
   ]
  },
  {
   "cell_type": "code",
   "execution_count": 9,
   "metadata": {
    "scrolled": false
   },
   "outputs": [
    {
     "data": {
      "text/plain": [
       "[1, 2, 8, 9, 5, 6, 7, 10, 11, 14, 15, 12]"
      ]
     },
     "execution_count": 9,
     "metadata": {},
     "output_type": "execute_result"
    }
   ],
   "source": [
    "c_get_keywords(g)"
   ]
  },
  {
   "cell_type": "markdown",
   "metadata": {},
   "source": [
    "# measure time just for the cythonised function"
   ]
  },
  {
   "cell_type": "code",
   "execution_count": 10,
   "metadata": {},
   "outputs": [],
   "source": [
    "# to to test speed of elbow\n",
    "D = np.random.rand(10**3,)\n",
    "\n",
    "final_array = np.array([i for i in enumerate(D)])"
   ]
  },
  {
   "cell_type": "code",
   "execution_count": 11,
   "metadata": {},
   "outputs": [
    {
     "name": "stdout",
     "output_type": "stream",
     "text": [
      "41.3 ms ± 8.44 ms per loop (mean ± std. dev. of 7 runs, 10 loops each)\n"
     ]
    }
   ],
   "source": [
    "%timeit elbow(final_array)[0] # Python normal"
   ]
  },
  {
   "cell_type": "code",
   "execution_count": 12,
   "metadata": {},
   "outputs": [
    {
     "name": "stdout",
     "output_type": "stream",
     "text": [
      "647 µs ± 74.5 µs per loop (mean ± std. dev. of 7 runs, 1000 loops each)\n"
     ]
    }
   ],
   "source": [
    "%timeit c_elbow(final_array)[0]  # et Cython ! Cython is much faster  !!!"
   ]
  },
  {
   "cell_type": "code",
   "execution_count": 13,
   "metadata": {},
   "outputs": [
    {
     "data": {
      "text/plain": [
       "True"
      ]
     },
     "execution_count": 13,
     "metadata": {},
     "output_type": "execute_result"
    }
   ],
   "source": [
    "elbow(final_array)[0] == c_elbow(final_array)[0]"
   ]
  },
  {
   "cell_type": "code",
   "execution_count": 37,
   "metadata": {},
   "outputs": [
    {
     "name": "stdout",
     "output_type": "stream",
     "text": [
      "1\n",
      "2\n",
      "3\n",
      "4\n",
      "5\n"
     ]
    }
   ],
   "source": [
    "from timeit import timeit\n",
    "elbow_c=[]\n",
    "array_len_range= range(1,6)\n",
    "for i in array_len_range:\n",
    "    print(i)\n",
    "    num_iter = 5-min(i,4)\n",
    "    D = np.random.rand(10**i,)\n",
    "\n",
    "    final_array = np.array([i for i in enumerate(D)])\n",
    "    time = timeit('c_elbow(final_array)', number=num_iter, globals=globals())/num_iter\n",
    "    elbow_c.append(time)\n"
   ]
  },
  {
   "cell_type": "code",
   "execution_count": 38,
   "metadata": {},
   "outputs": [
    {
     "name": "stdout",
     "output_type": "stream",
     "text": [
      "1\n",
      "2\n",
      "3\n",
      "4\n",
      "5\n"
     ]
    }
   ],
   "source": [
    "\n",
    "elbow_python=[]\n",
    "for i in range(1,6):\n",
    "    print(i)\n",
    "    num_iter = 5-min(i,4)\n",
    "    D = np.random.rand(10**i,)\n",
    "    final_array = np.array([i for i in enumerate(D)])\n",
    "    time = timeit('elbow(final_array)', number=num_iter, globals=globals())/num_iter\n",
    "    elbow_python.append(time)\n"
   ]
  },
  {
   "cell_type": "code",
   "execution_count": 39,
   "metadata": {},
   "outputs": [
    {
     "data": {
      "image/png": "[encoded data removed]",
      "text/plain": [
       "<Figure size 921.6x633.6 with 1 Axes>"
      ]
     },
     "metadata": {},
     "output_type": "display_data"
    }
   ],
   "source": [
    "\n",
    "from matplotlib import pyplot as plt\n",
    "import numpy as np\n",
    "\n",
    "\n",
    "plt.style.use(['seaborn-poster','fivethirtyeight'])\n",
    "\n",
    "# plt.style.use(['dark_background', 'presentation'])\n",
    "x = [10**i for i in array_len_range]\n",
    "\n",
    "# Fixing random state for reproducibility\n",
    "np.random.seed(19680801)\n",
    "\n",
    "fig, ax = plt.subplots()\n",
    "\n",
    "ax.plot(x, elbow_c,label='Cython')\n",
    "ax.plot(x, elbow_python,label='Python simple')\n",
    "\n",
    "ax.set_title(\"Analyse des temps d'execution (fonction elbow)\")\n",
    "ax.legend()\n",
    "ax.set_yscale('log')\n",
    "ax.set_xscale('log')\n",
    "\n",
    "plt.xlabel (\"longueur de l array\")\n",
    "plt.ylabel (\"temps d'execution (s)\")\n",
    "plt.show()"
   ]
  },
  {
   "cell_type": "markdown",
   "metadata": {},
   "source": [
    "## time"
   ]
  },
  {
   "cell_type": "code",
   "execution_count": 15,
   "metadata": {},
   "outputs": [],
   "source": [
    "# G = nx.duplication_divergence_graph(3000,0.7)"
   ]
  },
  {
   "cell_type": "code",
   "execution_count": 16,
   "metadata": {},
   "outputs": [],
   "source": [
    "# %timeit get_keywords(G)"
   ]
  },
  {
   "cell_type": "code",
   "execution_count": 17,
   "metadata": {},
   "outputs": [],
   "source": [
    "# %timeit c_get_keywords(G)"
   ]
  },
  {
   "cell_type": "markdown",
   "metadata": {},
   "source": [
    "## memory usage"
   ]
  },
  {
   "cell_type": "code",
   "execution_count": 18,
   "metadata": {
    "code_folding": []
   },
   "outputs": [],
   "source": [
    "# pip install memory_profiler"
   ]
  },
  {
   "cell_type": "code",
   "execution_count": 19,
   "metadata": {},
   "outputs": [],
   "source": [
    "# %load_ext memory_profiler"
   ]
  },
  {
   "cell_type": "code",
   "execution_count": 20,
   "metadata": {},
   "outputs": [],
   "source": [
    "# %memit get_keywords(g)"
   ]
  },
  {
   "cell_type": "code",
   "execution_count": 21,
   "metadata": {},
   "outputs": [],
   "source": [
    "# %memit c_get_keywords(g)"
   ]
  },
  {
   "cell_type": "markdown",
   "metadata": {},
   "source": [
    "# Profiler to prioritaze parts to cythonise"
   ]
  },
  {
   "cell_type": "code",
   "execution_count": 22,
   "metadata": {},
   "outputs": [],
   "source": [
    "# import cProfile\n",
    "# import re\n"
   ]
  },
  {
   "cell_type": "code",
   "execution_count": 23,
   "metadata": {},
   "outputs": [],
   "source": [
    "# cProfile.run('re.compile(\"foo|bar\")')"
   ]
  },
  {
   "cell_type": "code",
   "execution_count": null,
   "metadata": {},
   "outputs": [],
   "source": []
  }
 ],
 "metadata": {
  "kernelspec": {
   "display_name": "Python 3",
   "language": "python",
   "name": "python3"
  },
  "language_info": {
   "codemirror_mode": {
    "name": "ipython",
    "version": 3
   },
   "file_extension": ".py",
   "mimetype": "text/x-python",
   "name": "python",
   "nbconvert_exporter": "python",
   "pygments_lexer": "ipython3",
   "version": "3.7.3"
  },
  "toc": {
   "base_numbering": 1,
   "nav_menu": {},
   "number_sections": true,
   "sideBar": true,
   "skip_h1_title": false,
   "title_cell": "Table of Contents",
   "title_sidebar": "Contents",
   "toc_cell": false,
   "toc_position": {},
   "toc_section_display": true,
   "toc_window_display": false
  },
  "varInspector": {
   "cols": {
    "lenName": 16,
    "lenType": 16,
    "lenVar": 40
   },
   "kernels_config": {
    "python": {
     "delete_cmd_postfix": "",
     "delete_cmd_prefix": "del ",
     "library": "var_list.py",
     "varRefreshCmd": "print(var_dic_list())"
    },
    "r": {
     "delete_cmd_postfix": ") ",
     "delete_cmd_prefix": "rm(",
     "library": "var_list.r",
     "varRefreshCmd": "cat(var_dic_list()) "
    }
   },
   "types_to_exclude": [
    "module",
    "function",
    "builtin_function_or_method",
    "instance",
    "_Feature"
   ],
   "window_display": false
  }
 },
 "nbformat": 4,
 "nbformat_minor": 2
}
