{
 "cells": [
  {
   "cell_type": "markdown",
   "metadata": {},
   "source": [
    "# 5.7. Releasing the GIL to take advantage of multi-core processors with Cython and OpenMP"
   ]
  },
  {
   "cell_type": "code",
   "execution_count": 7,
   "metadata": {
    "code_folding": []
   },
   "outputs": [],
   "source": [
    "%%cython --compile-args=-fopenmp --link-args=-fopenmp --force\n",
    "cimport cython\n",
    "cimport openmp\n",
    "\n",
    "import cython.parallel as cp\n",
    "from cython.parallel import parallel, prange\n",
    "\n",
    "import numpy as np\n",
    "cimport numpy as np\n",
    "\n",
    "ctypedef np.int32_t int32_t\n",
    "\n",
    "cdef extern from \"unistd.h\" nogil:\n",
    "    unsigned int sleep(unsigned int seconds)\n",
    "\n",
    "@cython.boundscheck(False)\n",
    "cpdef double[::1] ompfunc(int32_t size, int32_t num_threads):\n",
    "    cdef int32_t idx\n",
    "    cdef double[::1] result = np.empty(size, dtype=np.float64)\n",
    "    with nogil, cp.parallel(num_threads=num_threads):\n",
    "        for idx in prange(size, schedule='dynamic'):\n",
    "            result[idx] = cp.threadid()\n",
    "            sleep(1)\n",
    "    return result"
   ]
  },
  {
   "cell_type": "code",
   "execution_count": null,
   "metadata": {},
   "outputs": [],
   "source": []
  }
 ],
 "metadata": {
  "kernelspec": {
   "display_name": "Python 3",
   "language": "python",
   "name": "python3"
  },
  "language_info": {
   "codemirror_mode": {
    "name": "ipython",
    "version": 3
   },
   "file_extension": ".py",
   "mimetype": "text/x-python",
   "name": "python",
   "nbconvert_exporter": "python",
   "pygments_lexer": "ipython3",
   "version": "3.7.3"
  },
  "toc": {
   "base_numbering": 1,
   "nav_menu": {},
   "number_sections": true,
   "sideBar": true,
   "skip_h1_title": false,
   "title_cell": "Table of Contents",
   "title_sidebar": "Contents",
   "toc_cell": false,
   "toc_position": {},
   "toc_section_display": true,
   "toc_window_display": false
  },
  "varInspector": {
   "cols": {
    "lenName": 16,
    "lenType": 16,
    "lenVar": 40
   },
   "kernels_config": {
    "python": {
     "delete_cmd_postfix": "",
     "delete_cmd_prefix": "del ",
     "library": "var_list.py",
     "varRefreshCmd": "print(var_dic_list())"
    },
    "r": {
     "delete_cmd_postfix": ") ",
     "delete_cmd_prefix": "rm(",
     "library": "var_list.r",
     "varRefreshCmd": "cat(var_dic_list()) "
    }
   },
   "types_to_exclude": [
    "module",
    "function",
    "builtin_function_or_method",
    "instance",
    "_Feature"
   ],
   "window_display": false
  }
 },
 "nbformat": 4,
 "nbformat_minor": 2
}
