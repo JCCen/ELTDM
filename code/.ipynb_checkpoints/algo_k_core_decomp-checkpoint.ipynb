{
 "cells": [
  {
   "cell_type": "code",
   "execution_count": 1,
   "metadata": {},
   "outputs": [],
   "source": [
    "import networkx as nx\n",
    "import matplotlib.pyplot as plt\n",
    "import itertools\n",
    "from operator import itemgetter\n",
    "import copy"
   ]
  },
  {
   "cell_type": "markdown",
   "metadata": {},
   "source": [
    "# naive algo"
   ]
  },
  {
   "cell_type": "code",
   "execution_count": 2,
   "metadata": {
    "code_folding": [
     1
    ]
   },
   "outputs": [
    {
     "data": {
      "image/png": "[encoded data removed]",
      "text/plain": [
       "<Figure size 432x288 with 1 Axes>"
      ]
     },
     "metadata": {},
     "output_type": "display_data"
    }
   ],
   "source": [
    "g = nx.Graph([])\n",
    "g.add_edges_from([(1,2),(1,8),(1,9),\n",
    "                  (5,2),\n",
    "                  (5,3),\n",
    "                  (5,4),\n",
    "                  (5,6),\n",
    "                  (6,7),\n",
    "                  (6,8),\n",
    "                  (6,9),\n",
    "                  (7,8),\n",
    "                  (7,9),\n",
    "                  (8,9),\n",
    "                  (9,10),\n",
    "                  (10,11),\n",
    "                  (11,14),\n",
    "                  (11,15),\n",
    "                  (11,12),\n",
    "                  (14,15),\n",
    "                  (15,12),\n",
    "                  (12,14)\n",
    "                 ])\n",
    "nx.draw(g,with_labels=True)\n",
    "plt.show()"
   ]
  },
  {
   "cell_type": "code",
   "execution_count": 34,
   "metadata": {},
   "outputs": [],
   "source": [
    "def approche_naive(g):\n",
    "    gg = copy.deepcopy(g)\n",
    "    weights = dict(gg.degree)\n",
    "\n",
    "    cores_g = dict(zip(gg.nodes,[0]*len(gg.nodes)))\n",
    "\n",
    "    while len(gg.nodes) > 0:\n",
    "        index_top , min_degree   = min(weights.items(), key=itemgetter(1))\n",
    "        neighbors = list(gg.neighbors(index_top))\n",
    "        cores_g[index_top] = min_degree\n",
    "        gg.remove_node(index_top)\n",
    "        weights.pop(index_top)\n",
    "\n",
    "        if neighbors:\n",
    "            new_degrees=gg.degree()\n",
    "            for neigh in neighbors:\n",
    "                weights[neigh] = max(min_degree,new_degrees[neigh])\n",
    "                \n",
    "    return cores_g"
   ]
  },
  {
   "cell_type": "markdown",
   "metadata": {},
   "source": [
    "# Approach 1"
   ]
  },
  {
   "cell_type": "code",
   "execution_count": 23,
   "metadata": {},
   "outputs": [],
   "source": [
    "def batagelj_naif(G):\n",
    "    degrees = dict(G.degree())\n",
    "    nodes = sorted(degrees, key=degrees.get)\n",
    "    nbrs = {v: list(nx.all_neighbors(G, v)) for v in G}\n",
    "    i=0\n",
    "    count_passed_through = []\n",
    "    while len(count_passed_through)<len(nodes):\n",
    "        nodes = sorted(degrees, key=degrees.get)       \n",
    "        st =  set(count_passed_through)\n",
    "        v = [ele for ele in nodes if ele not in st][0]  ### check mainting order\n",
    "\n",
    "        for u in nbrs[v]:\n",
    "            if degrees[u] > degrees[v]:\n",
    "                degrees[u] -= 1\n",
    "                \n",
    "        count_passed_through.append(v)\n",
    "\n",
    "    return degrees"
   ]
  },
  {
   "cell_type": "code",
   "execution_count": 24,
   "metadata": {},
   "outputs": [
    {
     "name": "stdout",
     "output_type": "stream",
     "text": [
      "The Cython extension is already loaded. To reload it, use:\n",
      "  %reload_ext Cython\n"
     ]
    }
   ],
   "source": [
    "%load_ext Cython"
   ]
  },
  {
   "cell_type": "code",
   "execution_count": 25,
   "metadata": {},
   "outputs": [],
   "source": [
    "%%cython\n",
    "import networkx as nx\n",
    "import matplotlib.pyplot as plt\n",
    "import itertools\n",
    "from operator import itemgetter\n",
    "import copy\n",
    "\n",
    "def batagelj_naif_cython(G):\n",
    "    degrees = dict(G.degree())\n",
    "    nodes = sorted(degrees, key=degrees.get)\n",
    "    nbrs = {v: list(nx.all_neighbors(G, v)) for v in G}\n",
    "    i=0\n",
    "    count_passed_through = []\n",
    "    while len(count_passed_through)<len(nodes):\n",
    "        nodes = sorted(degrees, key=degrees.get)       \n",
    "        st =  set(count_passed_through)\n",
    "        v = [ele for ele in nodes if ele not in st][0]  ### check mainting order\n",
    "\n",
    "        for u in nbrs[v]:\n",
    "            if degrees[u] > degrees[v]:\n",
    "                degrees[u] -= 1\n",
    "                \n",
    "        count_passed_through.append(v)\n",
    "\n",
    "    return degrees"
   ]
  },
  {
   "cell_type": "markdown",
   "metadata": {},
   "source": [
    "# Similaire nx"
   ]
  },
  {
   "cell_type": "code",
   "execution_count": 26,
   "metadata": {},
   "outputs": [],
   "source": [
    "def batagelj_avance(G):\n",
    "# inspiré, comme mentionné sur le rapport, du code source de NetworkX, (Hagberg, Schult, Swart)\n",
    "    degrees = dict(G.degree())\n",
    "    # Sort nodes by degree.\n",
    "    nodes = sorted(degrees, key=degrees.get)\n",
    "    bin_boundaries = [0]\n",
    "    curr_degree = 0\n",
    "    for i, v in enumerate(nodes):\n",
    "        if degrees[v] > curr_degree:\n",
    "            bin_boundaries.extend([i] * (degrees[v] - curr_degree))\n",
    "            curr_degree = degrees[v]\n",
    "    node_pos = {v: pos for pos, v in enumerate(nodes)}\n",
    "    \n",
    "\n",
    "    core = degrees\n",
    "    nbrs = {v: list(nx.all_neighbors(G, v)) for v in G}\n",
    "    for v in nodes:\n",
    "        for u in nbrs[v]:\n",
    "            if core[u] > core[v]:\n",
    "                nbrs[u].remove(v)\n",
    "                pos = node_pos[u]\n",
    "                bin_start = bin_boundaries[core[u]]\n",
    "                node_pos[u] = bin_start\n",
    "                node_pos[nodes[bin_start]] = pos\n",
    "                nodes[bin_start], nodes[pos] = nodes[pos], nodes[bin_start]\n",
    "                bin_boundaries[core[u]] += 1\n",
    "                core[u] -= 1\n",
    "    return core"
   ]
  },
  {
   "cell_type": "markdown",
   "metadata": {},
   "source": [
    "# sanity check"
   ]
  },
  {
   "cell_type": "markdown",
   "metadata": {},
   "source": [
    "On teste que nos approches soient bonnes sur un nombre suffisament important et divers de graphes"
   ]
  },
  {
   "cell_type": "code",
   "execution_count": 15,
   "metadata": {},
   "outputs": [
    {
     "data": {
      "text/plain": [
       "True"
      ]
     },
     "execution_count": 15,
     "metadata": {},
     "output_type": "execute_result"
    }
   ],
   "source": [
    "G = nx.duplication_divergence_graph(10**3,0.7)\n",
    "approche_naive(G) == batagelj_naif(G) == batagelj_avance(G) == nx.core_number(G)"
   ]
  },
  {
   "cell_type": "code",
   "execution_count": 16,
   "metadata": {},
   "outputs": [
    {
     "data": {
      "text/plain": [
       "True"
      ]
     },
     "execution_count": 16,
     "metadata": {},
     "output_type": "execute_result"
    }
   ],
   "source": [
    "G = nx.balanced_tree(5,3)\n",
    "approche_naive(G) == batagelj_naif(G) == batagelj_avance(G) == nx.core_number(G)"
   ]
  },
  {
   "cell_type": "code",
   "execution_count": 17,
   "metadata": {},
   "outputs": [
    {
     "data": {
      "text/plain": [
       "True"
      ]
     },
     "execution_count": 17,
     "metadata": {},
     "output_type": "execute_result"
    }
   ],
   "source": [
    "G = nx.circular_ladder_graph(150)\n",
    "approche_naive(G) == batagelj_naif(G) == batagelj_avance(G) == nx.core_number(G)"
   ]
  },
  {
   "cell_type": "code",
   "execution_count": 18,
   "metadata": {},
   "outputs": [
    {
     "data": {
      "text/plain": [
       "True"
      ]
     },
     "execution_count": 18,
     "metadata": {},
     "output_type": "execute_result"
    }
   ],
   "source": [
    "G = nx.generators.random_graphs.gnm_random_graph(150,200)\n",
    "approche_naive(G) == batagelj_naif(G) == batagelj_avance(G) == nx.core_number(G)"
   ]
  },
  {
   "cell_type": "markdown",
   "metadata": {},
   "source": [
    "# approach comparison"
   ]
  },
  {
   "cell_type": "code",
   "execution_count": 19,
   "metadata": {},
   "outputs": [
    {
     "name": "stdout",
     "output_type": "stream",
     "text": [
      "0\n",
      "1\n",
      "2\n"
     ]
    },
    {
     "ename": "KeyboardInterrupt",
     "evalue": "",
     "output_type": "error",
     "traceback": [
      "\u001b[0;31m---------------------------------------------------------------------------\u001b[0m",
      "\u001b[0;31mKeyboardInterrupt\u001b[0m                         Traceback (most recent call last)",
      "\u001b[0;32m<ipython-input-19-454044e82d00>\u001b[0m in \u001b[0;36m<module>\u001b[0;34m\u001b[0m\n\u001b[1;32m     13\u001b[0m \u001b[0;34m\u001b[0m\u001b[0m\n\u001b[1;32m     14\u001b[0m     \u001b[0;32mfor\u001b[0m \u001b[0mfunction\u001b[0m\u001b[0;34m,\u001b[0m\u001b[0marray\u001b[0m \u001b[0;32min\u001b[0m \u001b[0mfunctions_arrays\u001b[0m\u001b[0;34m:\u001b[0m\u001b[0;34m\u001b[0m\u001b[0;34m\u001b[0m\u001b[0m\n\u001b[0;32m---> 15\u001b[0;31m         \u001b[0mtime\u001b[0m \u001b[0;34m=\u001b[0m \u001b[0mtimeit\u001b[0m\u001b[0;34m(\u001b[0m\u001b[0mstr\u001b[0m\u001b[0;34m(\u001b[0m\u001b[0mfunction\u001b[0m \u001b[0;34m+\u001b[0m \u001b[0;34m'(G)'\u001b[0m\u001b[0;34m)\u001b[0m\u001b[0;34m,\u001b[0m \u001b[0mnumber\u001b[0m\u001b[0;34m=\u001b[0m\u001b[0mnum_iter\u001b[0m\u001b[0;34m,\u001b[0m \u001b[0mglobals\u001b[0m\u001b[0;34m=\u001b[0m\u001b[0mglobals\u001b[0m\u001b[0;34m(\u001b[0m\u001b[0;34m)\u001b[0m\u001b[0;34m)\u001b[0m\u001b[0;34m/\u001b[0m\u001b[0mnum_iter\u001b[0m\u001b[0;34m\u001b[0m\u001b[0;34m\u001b[0m\u001b[0m\n\u001b[0m\u001b[1;32m     16\u001b[0m         \u001b[0marray\u001b[0m\u001b[0;34m.\u001b[0m\u001b[0mappend\u001b[0m\u001b[0;34m(\u001b[0m\u001b[0mtime\u001b[0m\u001b[0;34m)\u001b[0m\u001b[0;34m\u001b[0m\u001b[0;34m\u001b[0m\u001b[0m\n",
      "\u001b[0;32m~/anaconda3/envs/dev/lib/python3.7/timeit.py\u001b[0m in \u001b[0;36mtimeit\u001b[0;34m(stmt, setup, timer, number, globals)\u001b[0m\n\u001b[1;32m    230\u001b[0m            number=default_number, globals=None):\n\u001b[1;32m    231\u001b[0m     \u001b[0;34m\"\"\"Convenience function to create Timer object and call timeit method.\"\"\"\u001b[0m\u001b[0;34m\u001b[0m\u001b[0;34m\u001b[0m\u001b[0m\n\u001b[0;32m--> 232\u001b[0;31m     \u001b[0;32mreturn\u001b[0m \u001b[0mTimer\u001b[0m\u001b[0;34m(\u001b[0m\u001b[0mstmt\u001b[0m\u001b[0;34m,\u001b[0m \u001b[0msetup\u001b[0m\u001b[0;34m,\u001b[0m \u001b[0mtimer\u001b[0m\u001b[0;34m,\u001b[0m \u001b[0mglobals\u001b[0m\u001b[0;34m)\u001b[0m\u001b[0;34m.\u001b[0m\u001b[0mtimeit\u001b[0m\u001b[0;34m(\u001b[0m\u001b[0mnumber\u001b[0m\u001b[0;34m)\u001b[0m\u001b[0;34m\u001b[0m\u001b[0;34m\u001b[0m\u001b[0m\n\u001b[0m\u001b[1;32m    233\u001b[0m \u001b[0;34m\u001b[0m\u001b[0m\n\u001b[1;32m    234\u001b[0m def repeat(stmt=\"pass\", setup=\"pass\", timer=default_timer,\n",
      "\u001b[0;32m~/anaconda3/envs/dev/lib/python3.7/timeit.py\u001b[0m in \u001b[0;36mtimeit\u001b[0;34m(self, number)\u001b[0m\n\u001b[1;32m    174\u001b[0m         \u001b[0mgc\u001b[0m\u001b[0;34m.\u001b[0m\u001b[0mdisable\u001b[0m\u001b[0;34m(\u001b[0m\u001b[0;34m)\u001b[0m\u001b[0;34m\u001b[0m\u001b[0;34m\u001b[0m\u001b[0m\n\u001b[1;32m    175\u001b[0m         \u001b[0;32mtry\u001b[0m\u001b[0;34m:\u001b[0m\u001b[0;34m\u001b[0m\u001b[0;34m\u001b[0m\u001b[0m\n\u001b[0;32m--> 176\u001b[0;31m             \u001b[0mtiming\u001b[0m \u001b[0;34m=\u001b[0m \u001b[0mself\u001b[0m\u001b[0;34m.\u001b[0m\u001b[0minner\u001b[0m\u001b[0;34m(\u001b[0m\u001b[0mit\u001b[0m\u001b[0;34m,\u001b[0m \u001b[0mself\u001b[0m\u001b[0;34m.\u001b[0m\u001b[0mtimer\u001b[0m\u001b[0;34m)\u001b[0m\u001b[0;34m\u001b[0m\u001b[0;34m\u001b[0m\u001b[0m\n\u001b[0m\u001b[1;32m    177\u001b[0m         \u001b[0;32mfinally\u001b[0m\u001b[0;34m:\u001b[0m\u001b[0;34m\u001b[0m\u001b[0;34m\u001b[0m\u001b[0m\n\u001b[1;32m    178\u001b[0m             \u001b[0;32mif\u001b[0m \u001b[0mgcold\u001b[0m\u001b[0;34m:\u001b[0m\u001b[0;34m\u001b[0m\u001b[0;34m\u001b[0m\u001b[0m\n",
      "\u001b[0;32m<timeit-src>\u001b[0m in \u001b[0;36minner\u001b[0;34m(_it, _timer)\u001b[0m\n",
      "\u001b[0;32m<ipython-input-11-6906e7efb648>\u001b[0m in \u001b[0;36mbatagelj_naif\u001b[0;34m(G)\u001b[0m\n\u001b[1;32m      8\u001b[0m         \u001b[0mnodes\u001b[0m \u001b[0;34m=\u001b[0m \u001b[0msorted\u001b[0m\u001b[0;34m(\u001b[0m\u001b[0mdegrees\u001b[0m\u001b[0;34m,\u001b[0m \u001b[0mkey\u001b[0m\u001b[0;34m=\u001b[0m\u001b[0mdegrees\u001b[0m\u001b[0;34m.\u001b[0m\u001b[0mget\u001b[0m\u001b[0;34m)\u001b[0m\u001b[0;34m\u001b[0m\u001b[0;34m\u001b[0m\u001b[0m\n\u001b[1;32m      9\u001b[0m         \u001b[0mst\u001b[0m \u001b[0;34m=\u001b[0m  \u001b[0mset\u001b[0m\u001b[0;34m(\u001b[0m\u001b[0mcount_passed_through\u001b[0m\u001b[0;34m)\u001b[0m\u001b[0;34m\u001b[0m\u001b[0;34m\u001b[0m\u001b[0m\n\u001b[0;32m---> 10\u001b[0;31m         \u001b[0mv\u001b[0m \u001b[0;34m=\u001b[0m \u001b[0;34m[\u001b[0m\u001b[0mele\u001b[0m \u001b[0;32mfor\u001b[0m \u001b[0mele\u001b[0m \u001b[0;32min\u001b[0m \u001b[0mnodes\u001b[0m \u001b[0;32mif\u001b[0m \u001b[0mele\u001b[0m \u001b[0;32mnot\u001b[0m \u001b[0;32min\u001b[0m \u001b[0mst\u001b[0m\u001b[0;34m]\u001b[0m\u001b[0;34m[\u001b[0m\u001b[0;36m0\u001b[0m\u001b[0;34m]\u001b[0m  \u001b[0;31m### check mainting order\u001b[0m\u001b[0;34m\u001b[0m\u001b[0;34m\u001b[0m\u001b[0m\n\u001b[0m\u001b[1;32m     11\u001b[0m \u001b[0;34m\u001b[0m\u001b[0m\n\u001b[1;32m     12\u001b[0m         \u001b[0;32mfor\u001b[0m \u001b[0mu\u001b[0m \u001b[0;32min\u001b[0m \u001b[0mnbrs\u001b[0m\u001b[0;34m[\u001b[0m\u001b[0mv\u001b[0m\u001b[0;34m]\u001b[0m\u001b[0;34m:\u001b[0m\u001b[0;34m\u001b[0m\u001b[0;34m\u001b[0m\u001b[0m\n",
      "\u001b[0;32m<ipython-input-11-6906e7efb648>\u001b[0m in \u001b[0;36m<listcomp>\u001b[0;34m(.0)\u001b[0m\n\u001b[1;32m      8\u001b[0m         \u001b[0mnodes\u001b[0m \u001b[0;34m=\u001b[0m \u001b[0msorted\u001b[0m\u001b[0;34m(\u001b[0m\u001b[0mdegrees\u001b[0m\u001b[0;34m,\u001b[0m \u001b[0mkey\u001b[0m\u001b[0;34m=\u001b[0m\u001b[0mdegrees\u001b[0m\u001b[0;34m.\u001b[0m\u001b[0mget\u001b[0m\u001b[0;34m)\u001b[0m\u001b[0;34m\u001b[0m\u001b[0;34m\u001b[0m\u001b[0m\n\u001b[1;32m      9\u001b[0m         \u001b[0mst\u001b[0m \u001b[0;34m=\u001b[0m  \u001b[0mset\u001b[0m\u001b[0;34m(\u001b[0m\u001b[0mcount_passed_through\u001b[0m\u001b[0;34m)\u001b[0m\u001b[0;34m\u001b[0m\u001b[0;34m\u001b[0m\u001b[0m\n\u001b[0;32m---> 10\u001b[0;31m         \u001b[0mv\u001b[0m \u001b[0;34m=\u001b[0m \u001b[0;34m[\u001b[0m\u001b[0mele\u001b[0m \u001b[0;32mfor\u001b[0m \u001b[0mele\u001b[0m \u001b[0;32min\u001b[0m \u001b[0mnodes\u001b[0m \u001b[0;32mif\u001b[0m \u001b[0mele\u001b[0m \u001b[0;32mnot\u001b[0m \u001b[0;32min\u001b[0m \u001b[0mst\u001b[0m\u001b[0;34m]\u001b[0m\u001b[0;34m[\u001b[0m\u001b[0;36m0\u001b[0m\u001b[0;34m]\u001b[0m  \u001b[0;31m### check mainting order\u001b[0m\u001b[0;34m\u001b[0m\u001b[0;34m\u001b[0m\u001b[0m\n\u001b[0m\u001b[1;32m     11\u001b[0m \u001b[0;34m\u001b[0m\u001b[0m\n\u001b[1;32m     12\u001b[0m         \u001b[0;32mfor\u001b[0m \u001b[0mu\u001b[0m \u001b[0;32min\u001b[0m \u001b[0mnbrs\u001b[0m\u001b[0;34m[\u001b[0m\u001b[0mv\u001b[0m\u001b[0;34m]\u001b[0m\u001b[0;34m:\u001b[0m\u001b[0;34m\u001b[0m\u001b[0;34m\u001b[0m\u001b[0m\n",
      "\u001b[0;31mKeyboardInterrupt\u001b[0m: "
     ]
    }
   ],
   "source": [
    "from timeit import timeit\n",
    "array_len_range= range(2,1500,250)\n",
    "functions = ['approche_naive','batagelj_naif','batagelj_avance','nx.core_number']\n",
    "# labels = ['algorithme naif', 'batagelj basique', 'batagelj avancé', 'nx.core_number']\n",
    "functions_arrays=[(i,[]) for i in functions]\n",
    "x = [10*i for i in array_len_range]\n",
    "\n",
    "for num,i in enumerate(x):\n",
    "    num_iter = 4\n",
    "    print(num)\n",
    "\n",
    "    G = nx.duplication_divergence_graph(i,0.7)\n",
    "\n",
    "    for function,array in functions_arrays:\n",
    "        time = timeit(str(function + '(G)'), number=num_iter, globals=globals())/num_iter\n",
    "        array.append(time)"
   ]
  },
  {
   "cell_type": "code",
   "execution_count": null,
   "metadata": {},
   "outputs": [],
   "source": [
    "\n",
    "from matplotlib import pyplot as plt\n",
    "import numpy as np\n",
    "\n",
    "\n",
    "plt.style.use(['seaborn-poster','fivethirtyeight'])\n",
    "\n",
    "# plt.style.use(['dark_background', 'presentation'])\n",
    "\n",
    "\n",
    "fig, ax = plt.subplots()\n",
    "for function,array in functions_arrays:\n",
    "    ax.plot(x, array,label=function)\n",
    "\n",
    "ax.set_title(\"Analyse des temps d'execution (détections des k-cores)\")\n",
    "ax.legend()\n",
    "ax.set_yscale('log')\n",
    "ax.set_xscale('log')\n",
    "\n",
    "plt.xlabel (\"nombre de nodes\")\n",
    "plt.ylabel (\"temps d'execution (s)\")\n",
    "plt.show()"
   ]
  },
  {
   "cell_type": "markdown",
   "metadata": {},
   "source": [
    "# Parallelized approaches"
   ]
  },
  {
   "cell_type": "markdown",
   "metadata": {},
   "source": [
    "## Approach 1 : multithreading with Python"
   ]
  },
  {
   "cell_type": "markdown",
   "metadata": {},
   "source": [
    "### Implementation"
   ]
  },
  {
   "cell_type": "code",
   "execution_count": 9,
   "metadata": {},
   "outputs": [],
   "source": [
    "import networkx as nx\n",
    "import numpy as np\n",
    "from threading import Thread, Lock"
   ]
  },
  {
   "cell_type": "code",
   "execution_count": 10,
   "metadata": {},
   "outputs": [],
   "source": [
    "# On encapsule les variables globales de comptages dans une classe\n",
    "# et on ajoute des threadlocks, afin de les protéger d'éventuelles races conditions\n",
    "class Counters():\n",
    "    \"\"\"Encapsulate counters in a class with threadlocks to avoid race conditions.\"\"\"\n",
    "    def __init__(self, G):\n",
    "        G = G.copy()\n",
    "        self.deg = dict(G.degree)\n",
    "        self.visited = 0\n",
    "        self.lock = Lock()\n",
    "\n",
    "    def get_degree(self, node):\n",
    "        with self.lock:\n",
    "            return self.deg[node]\n",
    "\n",
    "    def increment_degree(self, node, value):\n",
    "        with self.lock:\n",
    "            self.deg[node] += value\n",
    "            return self.deg[node]\n",
    "\n",
    "    def get_visited(self):\n",
    "        with self.lock:\n",
    "            return self.visited\n",
    "\n",
    "    def increment_visited(self, value):\n",
    "        with self.lock:\n",
    "            self.visited += value\n",
    "\n",
    "    def reinitialize(self, G):\n",
    "        self.visited = 0\n",
    "        self.deg = dict(G.degree)"
   ]
  },
  {
   "cell_type": "code",
   "execution_count": 11,
   "metadata": {},
   "outputs": [],
   "source": [
    "def process_nodes(nodes_ind, G, counters, level):\n",
    "    \"\"\"Process a sequence of nodes on a local thread.\"\"\"\n",
    "    nodes_list = list(G.nodes)\n",
    "    buff = np.zeros_like(nodes_list).astype(int)\n",
    "    start = 0\n",
    "    end = 0\n",
    "    \n",
    "    # On stocke les noeuds qui doivent être traités (i.e. tq current core == level)\n",
    "    # dans un buffer local à chaque thread\n",
    "    for i in nodes_ind:\n",
    "        deg_i = counters.get_degree(nodes_list[i])\n",
    "        if deg_i == level:\n",
    "            buff[end] = i\n",
    "            end += 1\n",
    "    \n",
    "    # Chaque thread traite séquentiellement les noeuds de son buffer en comparant\n",
    "    # les degrés de ses voisins au niveau d'entrée (level)\n",
    "    while start < end:\n",
    "        v = buff[start]\n",
    "        start += 1\n",
    "        for u in G.neighbors(nodes_list[v]):\n",
    "            if counters.get_degree(u) > level:\n",
    "                a = counters.increment_degree(u, -1)\n",
    "                if a == level:\n",
    "                    buff[end] = nodes_list.index(u)\n",
    "                    end += 1\n",
    "                if a < level:\n",
    "                    counters.increment_degree(u, 1)\n",
    "\n",
    "    counters.increment_visited(end)"
   ]
  },
  {
   "cell_type": "code",
   "execution_count": 12,
   "metadata": {},
   "outputs": [],
   "source": [
    "def pkc(G, n_threads):\n",
    "    \"\"\"Perform multi-threaded K-core decomposition.\"\"\"\n",
    "    G = G.copy()\n",
    "    n = len(G.nodes)\n",
    "    assert(n_threads < n)\n",
    "    counters = Counters(G)\n",
    "\n",
    "    nodes_split = np.array_split(range(n), n_threads)\n",
    "    level = 0\n",
    "    visited = 0\n",
    "    thread_list = []\n",
    "    \n",
    "    # On traite des blocs de noeuds de taille n / n_threads en parallèle\n",
    "    while visited < n:\n",
    "        for t in range(n_threads):\n",
    "            thread = Thread(target=process_nodes, args=(nodes_split[t],\n",
    "                                                       G, counters, level))\n",
    "            thread_list.append(thread)\n",
    "            thread_list[t].start()\n",
    "        for thread in thread_list:\n",
    "            thread.join()\n",
    "        thread_list = []\n",
    "\n",
    "        level += 1\n",
    "        visited = counters.get_visited()\n",
    "\n",
    "    deg = counters.deg.copy()\n",
    "\n",
    "    return deg"
   ]
  },
  {
   "cell_type": "markdown",
   "metadata": {},
   "source": [
    "### Sanity check"
   ]
  },
  {
   "cell_type": "code",
   "execution_count": 19,
   "metadata": {},
   "outputs": [],
   "source": [
    "n_threads = 5\n",
    "assert(nx.core_number(g) == pkc(g, n_threads))"
   ]
  },
  {
   "cell_type": "code",
   "execution_count": null,
   "metadata": {},
   "outputs": [],
   "source": []
  }
 ],
 "metadata": {
  "kernelspec": {
   "display_name": "Python 3",
   "language": "python",
   "name": "python3"
  },
  "language_info": {
   "codemirror_mode": {
    "name": "ipython",
    "version": 3
   },
   "file_extension": ".py",
   "mimetype": "text/x-python",
   "name": "python",
   "nbconvert_exporter": "python",
   "pygments_lexer": "ipython3",
   "version": "3.7.5"
  },
  "toc": {
   "base_numbering": 1,
   "nav_menu": {},
   "number_sections": true,
   "sideBar": true,
   "skip_h1_title": false,
   "title_cell": "Table of Contents",
   "title_sidebar": "Contents",
   "toc_cell": false,
   "toc_position": {},
   "toc_section_display": true,
   "toc_window_display": false
  },
  "varInspector": {
   "cols": {
    "lenName": 16,
    "lenType": 16,
    "lenVar": 40
   },
   "kernels_config": {
    "python": {
     "delete_cmd_postfix": "",
     "delete_cmd_prefix": "del ",
     "library": "var_list.py",
     "varRefreshCmd": "print(var_dic_list())"
    },
    "r": {
     "delete_cmd_postfix": ") ",
     "delete_cmd_prefix": "rm(",
     "library": "var_list.r",
     "varRefreshCmd": "cat(var_dic_list()) "
    }
   },
   "types_to_exclude": [
    "module",
    "function",
    "builtin_function_or_method",
    "instance",
    "_Feature"
   ],
   "window_display": false
  }
 },
 "nbformat": 4,
 "nbformat_minor": 2
}
