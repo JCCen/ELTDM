{
 "cells": [
  {
   "cell_type": "code",
   "execution_count": 2,
   "metadata": {},
   "outputs": [],
   "source": [
    "import networkx as nx\n",
    "import matplotlib.pyplot as plt\n",
    "import itertools\n",
    "from operator import itemgetter\n",
    "import copy"
   ]
  },
  {
   "cell_type": "markdown",
   "metadata": {},
   "source": [
    "# naive algo"
   ]
  },
  {
   "cell_type": "code",
   "execution_count": 3,
   "metadata": {
    "code_folding": []
   },
   "outputs": [
    {
     "name": "stderr",
     "output_type": "stream",
     "text": [
      "/home/jaime/anaconda3/lib/python3.7/site-packages/networkx/drawing/nx_pylab.py:563: MatplotlibDeprecationWarning: \n",
      "The iterable function was deprecated in Matplotlib 3.1 and will be removed in 3.3. Use np.iterable instead.\n",
      "  if not cb.iterable(width):\n",
      "/home/jaime/anaconda3/lib/python3.7/site-packages/networkx/drawing/nx_pylab.py:611: MatplotlibDeprecationWarning: \n",
      "The is_numlike function was deprecated in Matplotlib 3.0 and will be removed in 3.2. Use isinstance(..., numbers.Number) instead.\n",
      "  if cb.is_numlike(alpha):\n"
     ]
    },
    {
     "data": {
      "image/png": "[encoded data removed]",
      "text/plain": [
       "<Figure size 432x288 with 1 Axes>"
      ]
     },
     "metadata": {},
     "output_type": "display_data"
    }
   ],
   "source": [
    "g = nx.Graph([])\n",
    "g.add_edges_from([(1,2),(1,8),(1,9),\n",
    "                  (5,2),\n",
    "                  (5,3),\n",
    "                  (5,4),\n",
    "                  (5,6),\n",
    "                  (6,7),\n",
    "                  (6,8),\n",
    "                  (6,9),\n",
    "                  (7,8),\n",
    "                  (7,9),\n",
    "                  (8,9),\n",
    "                  (9,10),\n",
    "                  (10,11),\n",
    "                  (11,14),\n",
    "                  (11,15),\n",
    "                  (11,12),\n",
    "                  (14,15),\n",
    "                  (15,12),\n",
    "                  (12,14)\n",
    "                 ])\n",
    "nx.draw(g,with_labels=True)\n",
    "plt.show()"
   ]
  },
  {
   "cell_type": "code",
   "execution_count": 4,
   "metadata": {},
   "outputs": [
    {
     "data": {
      "text/plain": [
       "{1: 2,\n",
       " 2: 2,\n",
       " 8: 3,\n",
       " 9: 3,\n",
       " 5: 2,\n",
       " 3: 1,\n",
       " 4: 1,\n",
       " 6: 3,\n",
       " 7: 3,\n",
       " 10: 2,\n",
       " 11: 3,\n",
       " 14: 3,\n",
       " 15: 3,\n",
       " 12: 3}"
      ]
     },
     "execution_count": 4,
     "metadata": {},
     "output_type": "execute_result"
    }
   ],
   "source": [
    "nx.core_number(g)"
   ]
  },
  {
   "cell_type": "code",
   "execution_count": 5,
   "metadata": {},
   "outputs": [],
   "source": [
    "def naive_approach(g):\n",
    "    gg = copy.deepcopy(g)\n",
    "    weights = dict(gg.degree)\n",
    "\n",
    "    cores_g = dict(zip(gg.nodes,[0]*len(gg.nodes)))\n",
    "\n",
    "    while len(gg.nodes) > 0:\n",
    "        index_top , min_degree   = min(weights.items(), key=itemgetter(1))\n",
    "        neighbors = list(gg.neighbors(index_top))\n",
    "        cores_g[index_top] = min_degree\n",
    "        gg.remove_node(index_top)\n",
    "        weights.pop(index_top)\n",
    "\n",
    "        if neighbors:\n",
    "            new_degrees=gg.degree()\n",
    "            for neigh in neighbors:\n",
    "                weights[neigh] = max(min_degree,new_degrees[neigh])\n",
    "                \n",
    "    return cores_g"
   ]
  },
  {
   "cell_type": "code",
   "execution_count": 6,
   "metadata": {},
   "outputs": [
    {
     "data": {
      "text/plain": [
       "True"
      ]
     },
     "execution_count": 6,
     "metadata": {},
     "output_type": "execute_result"
    }
   ],
   "source": [
    "naive_approach(g)==nx.core_number(g)"
   ]
  },
  {
   "cell_type": "markdown",
   "metadata": {},
   "source": [
    "# Approach 1"
   ]
  },
  {
   "cell_type": "code",
   "execution_count": 7,
   "metadata": {},
   "outputs": [],
   "source": [
    "def core_number_1(G):\n",
    "    degrees = dict(G.degree())\n",
    "    nodes = sorted(degrees, key=degrees.get)\n",
    "    nbrs = {v: list(nx.all_neighbors(G, v)) for v in G}\n",
    "    i=0\n",
    "    count_passed_through = []\n",
    "    while len(count_passed_through)<len(nodes):\n",
    "        nodes = sorted(degrees, key=degrees.get)       \n",
    "        st =  set(count_passed_through)\n",
    "        v = [ele for ele in nodes if ele not in st][0]  ### check mainting order\n",
    "\n",
    "        for u in nbrs[v]:\n",
    "            if degrees[u] > degrees[v]:\n",
    "                degrees[u] -= 1\n",
    "                \n",
    "        count_passed_through.append(v)\n",
    "\n",
    "    return degrees"
   ]
  },
  {
   "cell_type": "code",
   "execution_count": 8,
   "metadata": {
    "scrolled": true
   },
   "outputs": [
    {
     "ename": "NameError",
     "evalue": "name 'core_number_1_p' is not defined",
     "output_type": "error",
     "traceback": [
      "\u001b[0;31m---------------------------------------------------------------------------\u001b[0m",
      "\u001b[0;31mNameError\u001b[0m                                 Traceback (most recent call last)",
      "\u001b[0;32m<ipython-input-8-1dbe33fc3e15>\u001b[0m in \u001b[0;36m<module>\u001b[0;34m\u001b[0m\n\u001b[0;32m----> 1\u001b[0;31m \u001b[0mcore_number_1_p\u001b[0m\u001b[0;34m(\u001b[0m\u001b[0mg\u001b[0m\u001b[0;34m)\u001b[0m\u001b[0;34m==\u001b[0m\u001b[0mnx\u001b[0m\u001b[0;34m.\u001b[0m\u001b[0mcore_number\u001b[0m\u001b[0;34m(\u001b[0m\u001b[0mg\u001b[0m\u001b[0;34m)\u001b[0m\u001b[0;34m\u001b[0m\u001b[0;34m\u001b[0m\u001b[0m\n\u001b[0m",
      "\u001b[0;31mNameError\u001b[0m: name 'core_number_1_p' is not defined"
     ]
    }
   ],
   "source": [
    "core_number_1_p(g)==nx.core_number(g)"
   ]
  },
  {
   "cell_type": "code",
   "execution_count": 9,
   "metadata": {},
   "outputs": [
    {
     "data": {
      "text/plain": [
       "True"
      ]
     },
     "execution_count": 9,
     "metadata": {},
     "output_type": "execute_result"
    }
   ],
   "source": [
    "core_number_1(g)==nx.core_number(g)"
   ]
  },
  {
   "cell_type": "code",
   "execution_count": 10,
   "metadata": {},
   "outputs": [
    {
     "data": {
      "text/plain": [
       "{1: 2,\n",
       " 2: 2,\n",
       " 8: 3,\n",
       " 9: 3,\n",
       " 5: 2,\n",
       " 3: 1,\n",
       " 4: 1,\n",
       " 6: 3,\n",
       " 7: 3,\n",
       " 10: 2,\n",
       " 11: 3,\n",
       " 14: 3,\n",
       " 15: 3,\n",
       " 12: 3}"
      ]
     },
     "execution_count": 10,
     "metadata": {},
     "output_type": "execute_result"
    }
   ],
   "source": [
    "nx.core_number(g)"
   ]
  },
  {
   "cell_type": "markdown",
   "metadata": {},
   "source": [
    "## parallel"
   ]
  },
  {
   "cell_type": "code",
   "execution_count": 11,
   "metadata": {},
   "outputs": [],
   "source": [
    "from joblib import Parallel, delayed\n",
    "import multiprocessing"
   ]
  },
  {
   "cell_type": "code",
   "execution_count": 12,
   "metadata": {},
   "outputs": [],
   "source": [
    "from multiprocessing import Pool"
   ]
  },
  {
   "cell_type": "code",
   "execution_count": 13,
   "metadata": {},
   "outputs": [],
   "source": [
    "def core_number_1_refactored(G):\n",
    "    \n",
    "    def update_terms(a,b):\n",
    "        a = a- 1*(a > b)\n",
    "        return a\n",
    "        \n",
    "    num_cores = multiprocessing.cpu_count()\n",
    "    degrees = dict(G.degree())\n",
    "    nodes = sorted(degrees, key=degrees.get)\n",
    "    nbrs = {v: list(nx.all_neighbors(G, v)) for v in G}\n",
    "    i=0\n",
    "    count_passed_through = []\n",
    "    while len(count_passed_through)<len(nodes):\n",
    "        nodes = sorted(degrees, key=degrees.get)       \n",
    "        st =  set(count_passed_through)\n",
    "        v = [ele for ele in nodes if ele not in st][0]  ### check mainting order\n",
    "        \n",
    "#         new_cores = [update_terms(degrees[u] ,degrees[v]) for u in nbrs[v]]\n",
    "        new_cores = Parallel(n_jobs=num_cores, verbose=0)(delayed(update_terms)(degrees[u] ,degrees[v])for u in nbrs[v])\n",
    "        degrees.update(dict(zip(nbrs[v], new_cores)))\n",
    "    \n",
    "        \n",
    "#         squares = Parallel(n_jobs=num_cores, verbose=50)(delayed(find_square)(i)for i in my_list)\n",
    "#         Parallel(n_jobs=num_cores, verbose=50)(delayed(update_cores)(degrees,u,v)for u in nbrs[v])\n",
    "#         print(degrees)\n",
    "#         for u in nbrs[v]:\n",
    "#             update_cores(degrees,u,v)\n",
    "                \n",
    "        count_passed_through.append(v)\n",
    "\n",
    "    return degrees"
   ]
  },
  {
   "cell_type": "code",
   "execution_count": 14,
   "metadata": {},
   "outputs": [
    {
     "ename": "NameError",
     "evalue": "name 'mydict' is not defined",
     "output_type": "error",
     "traceback": [
      "\u001b[0;31m---------------------------------------------------------------------------\u001b[0m",
      "\u001b[0;31mNameError\u001b[0m                                 Traceback (most recent call last)",
      "\u001b[0;32m<ipython-input-14-a0537c24f321>\u001b[0m in \u001b[0;36m<module>\u001b[0;34m\u001b[0m\n\u001b[0;32m----> 1\u001b[0;31m \u001b[0mmydict\u001b[0m\u001b[0;34m\u001b[0m\u001b[0;34m\u001b[0m\u001b[0m\n\u001b[0m",
      "\u001b[0;31mNameError\u001b[0m: name 'mydict' is not defined"
     ]
    }
   ],
   "source": [
    "mydict"
   ]
  },
  {
   "cell_type": "code",
   "execution_count": 15,
   "metadata": {},
   "outputs": [],
   "source": [
    "my_list = range(10)\n",
    "squares = []\n",
    "\n",
    "# Function to parallelize\n",
    "def find_square(i):\n",
    "    return i ** 2\n",
    "def update_cores(degrees,u,v):\n",
    "    degrees[u] -= 1*(degrees[u] > degrees[v])\n",
    "\n",
    "# # # With parallel processing\n",
    "# num_cores = multiprocessing.cpu_count()\n",
    "# squares = Parallel(n_jobs=num_cores, verbose=50)(delayed(\n",
    "#     find_square)(i)for i in my_list)"
   ]
  },
  {
   "cell_type": "code",
   "execution_count": 16,
   "metadata": {
    "scrolled": true
   },
   "outputs": [
    {
     "data": {
      "text/plain": [
       "True"
      ]
     },
     "execution_count": 16,
     "metadata": {},
     "output_type": "execute_result"
    }
   ],
   "source": [
    "core_number_1_refactored(g)==nx.core_number(g)"
   ]
  },
  {
   "cell_type": "markdown",
   "metadata": {},
   "source": [
    "# Best approach (nx code, reformaté)"
   ]
  },
  {
   "cell_type": "code",
   "execution_count": 17,
   "metadata": {},
   "outputs": [],
   "source": [
    "def core_number(G):\n",
    "\n",
    "    degrees = dict(G.degree())\n",
    "    # Sort nodes by degree.\n",
    "    nodes = sorted(degrees, key=degrees.get)\n",
    "    bin_boundaries = [0]\n",
    "    curr_degree = 0\n",
    "    for i, v in enumerate(nodes):\n",
    "        if degrees[v] > curr_degree:\n",
    "            bin_boundaries.extend([i] * (degrees[v] - curr_degree))\n",
    "            curr_degree = degrees[v]\n",
    "    node_pos = {v: pos for pos, v in enumerate(nodes)}\n",
    "    \n",
    "    # The initial guess for the core number of a node is its degree.\n",
    "    core = degrees\n",
    "    nbrs = {v: list(nx.all_neighbors(G, v)) for v in G}\n",
    "    for v in nodes:\n",
    "        for u in nbrs[v]:\n",
    "            if core[u] > core[v]:\n",
    "                nbrs[u].remove(v)\n",
    "                pos = node_pos[u]\n",
    "                bin_start = bin_boundaries[core[u]]\n",
    "                node_pos[u] = bin_start\n",
    "                node_pos[nodes[bin_start]] = pos\n",
    "                nodes[bin_start], nodes[pos] = nodes[pos], nodes[bin_start]\n",
    "                bin_boundaries[core[u]] += 1\n",
    "                core[u] -= 1\n",
    "    return core"
   ]
  },
  {
   "cell_type": "code",
   "execution_count": 18,
   "metadata": {},
   "outputs": [
    {
     "data": {
      "text/plain": [
       "True"
      ]
     },
     "execution_count": 18,
     "metadata": {},
     "output_type": "execute_result"
    }
   ],
   "source": [
    "core_number(g)==nx.core_number(g)"
   ]
  },
  {
   "cell_type": "markdown",
   "metadata": {},
   "source": [
    "# approach comparison"
   ]
  },
  {
   "cell_type": "code",
   "execution_count": 35,
   "metadata": {},
   "outputs": [],
   "source": [
    "# bigger graph to test"
   ]
  },
  {
   "cell_type": "code",
   "execution_count": 106,
   "metadata": {},
   "outputs": [],
   "source": [
    "G = nx.duplication_divergence_graph(3500,0.5)"
   ]
  },
  {
   "cell_type": "code",
   "execution_count": 100,
   "metadata": {},
   "outputs": [
    {
     "data": {
      "image/png": "[encoded data removed]",
      "text/plain": [
       "<Figure size 432x288 with 1 Axes>"
      ]
     },
     "metadata": {},
     "output_type": "display_data"
    }
   ],
   "source": [
    "nx.draw(G,with_labels=True)\n",
    "plt.show()"
   ]
  },
  {
   "cell_type": "code",
   "execution_count": 101,
   "metadata": {},
   "outputs": [
    {
     "data": {
      "text/plain": [
       "{0: 5,\n",
       " 1: 7,\n",
       " 2: 5,\n",
       " 3: 5,\n",
       " 4: 7,\n",
       " 5: 1,\n",
       " 6: 7,\n",
       " 7: 5,\n",
       " 8: 5,\n",
       " 9: 7,\n",
       " 10: 4,\n",
       " 11: 4,\n",
       " 12: 3,\n",
       " 13: 6,\n",
       " 14: 7,\n",
       " 15: 1,\n",
       " 16: 1,\n",
       " 17: 3,\n",
       " 18: 5,\n",
       " 19: 5,\n",
       " 20: 7,\n",
       " 21: 4,\n",
       " 22: 5,\n",
       " 23: 4,\n",
       " 24: 7,\n",
       " 25: 3,\n",
       " 26: 3,\n",
       " 27: 1,\n",
       " 28: 5,\n",
       " 29: 4,\n",
       " 30: 7,\n",
       " 31: 7,\n",
       " 32: 7,\n",
       " 33: 7,\n",
       " 34: 7,\n",
       " 35: 6,\n",
       " 36: 4,\n",
       " 37: 5,\n",
       " 38: 2,\n",
       " 39: 1,\n",
       " 40: 3,\n",
       " 41: 7,\n",
       " 42: 4,\n",
       " 43: 4,\n",
       " 44: 4,\n",
       " 45: 7,\n",
       " 46: 7,\n",
       " 47: 7,\n",
       " 48: 7,\n",
       " 49: 4,\n",
       " 50: 1,\n",
       " 51: 3,\n",
       " 52: 6,\n",
       " 53: 2,\n",
       " 54: 6,\n",
       " 55: 5,\n",
       " 56: 6,\n",
       " 57: 3,\n",
       " 58: 1,\n",
       " 59: 2,\n",
       " 60: 6,\n",
       " 61: 4,\n",
       " 62: 6,\n",
       " 63: 1,\n",
       " 64: 7,\n",
       " 65: 4,\n",
       " 66: 5,\n",
       " 67: 7,\n",
       " 68: 3,\n",
       " 69: 1,\n",
       " 70: 6,\n",
       " 71: 2,\n",
       " 72: 1,\n",
       " 73: 7,\n",
       " 74: 7,\n",
       " 75: 7,\n",
       " 76: 4,\n",
       " 77: 6,\n",
       " 78: 4,\n",
       " 79: 4,\n",
       " 80: 7,\n",
       " 81: 4,\n",
       " 82: 7,\n",
       " 83: 1,\n",
       " 84: 5,\n",
       " 85: 5,\n",
       " 86: 6,\n",
       " 87: 7,\n",
       " 88: 2,\n",
       " 89: 1,\n",
       " 90: 2,\n",
       " 91: 4,\n",
       " 92: 1,\n",
       " 93: 7,\n",
       " 94: 2,\n",
       " 95: 7,\n",
       " 96: 7,\n",
       " 97: 5,\n",
       " 98: 4,\n",
       " 99: 2,\n",
       " 100: 5,\n",
       " 101: 2,\n",
       " 102: 6,\n",
       " 103: 3,\n",
       " 104: 4,\n",
       " 105: 5,\n",
       " 106: 7,\n",
       " 107: 2,\n",
       " 108: 3,\n",
       " 109: 4,\n",
       " 110: 6,\n",
       " 111: 2,\n",
       " 112: 2,\n",
       " 113: 7,\n",
       " 114: 7,\n",
       " 115: 7,\n",
       " 116: 2,\n",
       " 117: 5,\n",
       " 118: 1,\n",
       " 119: 5,\n",
       " 120: 4,\n",
       " 121: 1,\n",
       " 122: 2,\n",
       " 123: 2,\n",
       " 124: 5,\n",
       " 125: 6,\n",
       " 126: 1,\n",
       " 127: 4,\n",
       " 128: 5,\n",
       " 129: 2,\n",
       " 130: 2,\n",
       " 131: 5,\n",
       " 132: 4,\n",
       " 133: 3,\n",
       " 134: 2,\n",
       " 135: 1,\n",
       " 136: 3,\n",
       " 137: 1,\n",
       " 138: 4,\n",
       " 139: 5,\n",
       " 140: 3,\n",
       " 141: 7,\n",
       " 142: 4,\n",
       " 143: 3,\n",
       " 144: 1,\n",
       " 145: 1,\n",
       " 146: 6,\n",
       " 147: 3,\n",
       " 148: 2,\n",
       " 149: 2,\n",
       " 150: 7,\n",
       " 151: 4,\n",
       " 152: 2,\n",
       " 153: 2,\n",
       " 154: 1,\n",
       " 155: 3,\n",
       " 156: 5,\n",
       " 157: 4,\n",
       " 158: 2,\n",
       " 159: 2,\n",
       " 160: 4,\n",
       " 161: 5,\n",
       " 162: 3,\n",
       " 163: 7,\n",
       " 164: 1,\n",
       " 165: 3,\n",
       " 166: 1,\n",
       " 167: 3,\n",
       " 168: 3,\n",
       " 169: 1,\n",
       " 170: 5,\n",
       " 171: 5,\n",
       " 172: 1,\n",
       " 173: 3,\n",
       " 174: 4,\n",
       " 175: 3,\n",
       " 176: 1,\n",
       " 177: 7,\n",
       " 178: 1,\n",
       " 179: 1,\n",
       " 180: 4,\n",
       " 181: 5,\n",
       " 182: 1,\n",
       " 183: 6,\n",
       " 184: 1,\n",
       " 185: 5,\n",
       " 186: 1,\n",
       " 187: 1,\n",
       " 188: 5,\n",
       " 189: 6,\n",
       " 190: 4,\n",
       " 191: 7,\n",
       " 192: 4,\n",
       " 193: 6,\n",
       " 194: 7,\n",
       " 195: 2,\n",
       " 196: 3,\n",
       " 197: 6,\n",
       " 198: 4,\n",
       " 199: 2,\n",
       " 200: 4,\n",
       " 201: 5,\n",
       " 202: 7,\n",
       " 203: 5,\n",
       " 204: 5,\n",
       " 205: 7,\n",
       " 206: 2,\n",
       " 207: 5,\n",
       " 208: 1,\n",
       " 209: 6,\n",
       " 210: 4,\n",
       " 211: 2,\n",
       " 212: 5,\n",
       " 213: 6,\n",
       " 214: 4,\n",
       " 215: 1,\n",
       " 216: 6,\n",
       " 217: 3,\n",
       " 218: 3,\n",
       " 219: 3,\n",
       " 220: 4,\n",
       " 221: 4,\n",
       " 222: 3,\n",
       " 223: 7,\n",
       " 224: 4,\n",
       " 225: 7,\n",
       " 226: 1,\n",
       " 227: 5,\n",
       " 228: 1,\n",
       " 229: 4,\n",
       " 230: 2,\n",
       " 231: 3,\n",
       " 232: 2,\n",
       " 233: 3,\n",
       " 234: 2,\n",
       " 235: 3,\n",
       " 236: 3,\n",
       " 237: 4,\n",
       " 238: 2,\n",
       " 239: 1,\n",
       " 240: 2,\n",
       " 241: 2,\n",
       " 242: 1,\n",
       " 243: 7,\n",
       " 244: 5,\n",
       " 245: 7,\n",
       " 246: 5,\n",
       " 247: 7,\n",
       " 248: 5,\n",
       " 249: 2,\n",
       " 250: 5,\n",
       " 251: 2,\n",
       " 252: 2,\n",
       " 253: 1,\n",
       " 254: 1,\n",
       " 255: 1,\n",
       " 256: 3,\n",
       " 257: 3,\n",
       " 258: 1,\n",
       " 259: 3,\n",
       " 260: 2,\n",
       " 261: 4,\n",
       " 262: 5,\n",
       " 263: 4,\n",
       " 264: 1,\n",
       " 265: 7,\n",
       " 266: 1,\n",
       " 267: 6,\n",
       " 268: 4,\n",
       " 269: 3,\n",
       " 270: 1,\n",
       " 271: 3,\n",
       " 272: 7,\n",
       " 273: 2,\n",
       " 274: 4,\n",
       " 275: 3,\n",
       " 276: 2,\n",
       " 277: 1,\n",
       " 278: 7,\n",
       " 279: 4,\n",
       " 280: 2,\n",
       " 281: 4,\n",
       " 282: 5,\n",
       " 283: 1,\n",
       " 284: 4,\n",
       " 285: 5,\n",
       " 286: 4,\n",
       " 287: 2,\n",
       " 288: 3,\n",
       " 289: 2,\n",
       " 290: 4,\n",
       " 291: 3,\n",
       " 292: 4,\n",
       " 293: 1,\n",
       " 294: 3,\n",
       " 295: 7,\n",
       " 296: 6,\n",
       " 297: 3,\n",
       " 298: 3,\n",
       " 299: 1,\n",
       " 300: 7,\n",
       " 301: 2,\n",
       " 302: 2,\n",
       " 303: 7,\n",
       " 304: 4,\n",
       " 305: 5,\n",
       " 306: 6,\n",
       " 307: 3,\n",
       " 308: 5,\n",
       " 309: 1,\n",
       " 310: 1,\n",
       " 311: 4,\n",
       " 312: 2,\n",
       " 313: 1,\n",
       " 314: 1,\n",
       " 315: 3,\n",
       " 316: 3,\n",
       " 317: 2,\n",
       " 318: 5,\n",
       " 319: 2,\n",
       " 320: 4,\n",
       " 321: 3,\n",
       " 322: 2,\n",
       " 323: 4,\n",
       " 324: 5,\n",
       " 325: 2,\n",
       " 326: 2,\n",
       " 327: 3,\n",
       " 328: 1,\n",
       " 329: 3,\n",
       " 330: 2,\n",
       " 331: 2,\n",
       " 332: 1,\n",
       " 333: 5,\n",
       " 334: 4,\n",
       " 335: 1,\n",
       " 336: 4,\n",
       " 337: 7,\n",
       " 338: 5,\n",
       " 339: 6,\n",
       " 340: 1,\n",
       " 341: 7,\n",
       " 342: 1,\n",
       " 343: 4,\n",
       " 344: 6,\n",
       " 345: 2,\n",
       " 346: 3,\n",
       " 347: 5,\n",
       " 348: 2,\n",
       " 349: 3,\n",
       " 350: 3,\n",
       " 351: 7,\n",
       " 352: 6,\n",
       " 353: 2,\n",
       " 354: 2,\n",
       " 355: 2,\n",
       " 356: 2,\n",
       " 357: 4,\n",
       " 358: 7,\n",
       " 359: 4,\n",
       " 360: 1,\n",
       " 361: 1,\n",
       " 362: 1,\n",
       " 363: 6,\n",
       " 364: 2,\n",
       " 365: 4,\n",
       " 366: 1,\n",
       " 367: 7,\n",
       " 368: 1,\n",
       " 369: 2,\n",
       " 370: 7,\n",
       " 371: 1,\n",
       " 372: 3,\n",
       " 373: 7,\n",
       " 374: 2,\n",
       " 375: 4,\n",
       " 376: 5,\n",
       " 377: 1,\n",
       " 378: 4,\n",
       " 379: 7,\n",
       " 380: 6,\n",
       " 381: 4,\n",
       " 382: 3,\n",
       " 383: 3,\n",
       " 384: 1,\n",
       " 385: 1,\n",
       " 386: 3,\n",
       " 387: 1,\n",
       " 388: 3,\n",
       " 389: 6,\n",
       " 390: 7,\n",
       " 391: 5,\n",
       " 392: 1,\n",
       " 393: 4,\n",
       " 394: 2,\n",
       " 395: 1,\n",
       " 396: 1,\n",
       " 397: 6,\n",
       " 398: 3,\n",
       " 399: 3,\n",
       " 400: 1,\n",
       " 401: 1,\n",
       " 402: 1,\n",
       " 403: 7,\n",
       " 404: 5,\n",
       " 405: 3,\n",
       " 406: 3,\n",
       " 407: 1,\n",
       " 408: 2,\n",
       " 409: 1,\n",
       " 410: 4,\n",
       " 411: 3,\n",
       " 412: 3,\n",
       " 413: 3,\n",
       " 414: 1,\n",
       " 415: 1,\n",
       " 416: 3,\n",
       " 417: 5,\n",
       " 418: 4,\n",
       " 419: 3,\n",
       " 420: 4,\n",
       " 421: 1,\n",
       " 422: 3,\n",
       " 423: 2,\n",
       " 424: 4,\n",
       " 425: 4,\n",
       " 426: 1,\n",
       " 427: 2,\n",
       " 428: 5,\n",
       " 429: 1,\n",
       " 430: 3,\n",
       " 431: 6,\n",
       " 432: 3,\n",
       " 433: 2,\n",
       " 434: 1,\n",
       " 435: 1,\n",
       " 436: 1,\n",
       " 437: 1,\n",
       " 438: 1,\n",
       " 439: 2,\n",
       " 440: 2,\n",
       " 441: 1,\n",
       " 442: 4,\n",
       " 443: 3,\n",
       " 444: 4,\n",
       " 445: 4,\n",
       " 446: 4,\n",
       " 447: 4,\n",
       " 448: 1,\n",
       " 449: 1,\n",
       " 450: 3,\n",
       " 451: 1,\n",
       " 452: 1,\n",
       " 453: 2,\n",
       " 454: 4,\n",
       " 455: 2,\n",
       " 456: 3,\n",
       " 457: 4,\n",
       " 458: 2,\n",
       " 459: 4,\n",
       " 460: 1,\n",
       " 461: 3,\n",
       " 462: 3,\n",
       " 463: 2,\n",
       " 464: 5,\n",
       " 465: 3,\n",
       " 466: 1,\n",
       " 467: 1,\n",
       " 468: 1,\n",
       " 469: 1,\n",
       " 470: 4,\n",
       " 471: 7,\n",
       " 472: 1,\n",
       " 473: 7,\n",
       " 474: 1,\n",
       " 475: 2,\n",
       " 476: 3,\n",
       " 477: 1,\n",
       " 478: 3,\n",
       " 479: 2,\n",
       " 480: 1,\n",
       " 481: 3,\n",
       " 482: 2,\n",
       " 483: 3,\n",
       " 484: 2,\n",
       " 485: 4,\n",
       " 486: 1,\n",
       " 487: 1,\n",
       " 488: 2,\n",
       " 489: 3,\n",
       " 490: 1,\n",
       " 491: 2,\n",
       " 492: 1,\n",
       " 493: 1,\n",
       " 494: 3,\n",
       " 495: 2,\n",
       " 496: 5,\n",
       " 497: 3,\n",
       " 498: 5,\n",
       " 499: 3,\n",
       " 500: 4,\n",
       " 501: 1,\n",
       " 502: 1,\n",
       " 503: 1,\n",
       " 504: 2,\n",
       " 505: 1,\n",
       " 506: 5,\n",
       " 507: 1,\n",
       " 508: 7,\n",
       " 509: 2,\n",
       " 510: 1,\n",
       " 511: 2,\n",
       " 512: 5,\n",
       " 513: 4,\n",
       " 514: 2,\n",
       " 515: 5,\n",
       " 516: 3,\n",
       " 517: 3,\n",
       " 518: 1,\n",
       " 519: 3,\n",
       " 520: 2,\n",
       " 521: 4,\n",
       " 522: 1,\n",
       " 523: 4,\n",
       " 524: 4,\n",
       " 525: 2,\n",
       " 526: 4,\n",
       " 527: 1,\n",
       " 528: 3,\n",
       " 529: 6,\n",
       " 530: 1,\n",
       " 531: 2,\n",
       " 532: 2,\n",
       " 533: 1,\n",
       " 534: 7,\n",
       " 535: 1,\n",
       " 536: 1,\n",
       " 537: 7,\n",
       " 538: 5,\n",
       " 539: 2,\n",
       " 540: 2,\n",
       " 541: 1,\n",
       " 542: 1,\n",
       " 543: 2,\n",
       " 544: 1,\n",
       " 545: 2,\n",
       " 546: 1,\n",
       " 547: 1,\n",
       " 548: 2,\n",
       " 549: 1}"
      ]
     },
     "execution_count": 101,
     "metadata": {},
     "output_type": "execute_result"
    }
   ],
   "source": [
    "nx.core_number(G)"
   ]
  },
  {
   "cell_type": "code",
   "execution_count": 118,
   "metadata": {},
   "outputs": [],
   "source": [
    "import timeit\n"
   ]
  },
  {
   "cell_type": "code",
   "execution_count": null,
   "metadata": {},
   "outputs": [],
   "source": []
  },
  {
   "cell_type": "markdown",
   "metadata": {},
   "source": [
    "## time"
   ]
  },
  {
   "cell_type": "code",
   "execution_count": 107,
   "metadata": {},
   "outputs": [
    {
     "name": "stdout",
     "output_type": "stream",
     "text": [
      "933 ms ± 129 ms per loop (mean ± std. dev. of 7 runs, 1 loop each)\n"
     ]
    }
   ],
   "source": [
    "%timeit naive_approach(G)"
   ]
  },
  {
   "cell_type": "code",
   "execution_count": 108,
   "metadata": {},
   "outputs": [
    {
     "name": "stdout",
     "output_type": "stream",
     "text": [
      "4.08 s ± 1.2 s per loop (mean ± std. dev. of 7 runs, 1 loop each)\n"
     ]
    }
   ],
   "source": [
    "%timeit core_number_1(G)"
   ]
  },
  {
   "cell_type": "code",
   "execution_count": 112,
   "metadata": {},
   "outputs": [
    {
     "name": "stdout",
     "output_type": "stream",
     "text": [
      "29.1 s ± 4.66 s per loop (mean ± std. dev. of 7 runs, 1 loop each)\n"
     ]
    }
   ],
   "source": [
    "%timeit core_number_1_refactored(G)"
   ]
  },
  {
   "cell_type": "code",
   "execution_count": 113,
   "metadata": {},
   "outputs": [
    {
     "name": "stdout",
     "output_type": "stream",
     "text": [
      "30.2 ms ± 564 µs per loop (mean ± std. dev. of 7 runs, 10 loops each)\n"
     ]
    }
   ],
   "source": [
    "%timeit nx.core_number(G)"
   ]
  },
  {
   "cell_type": "markdown",
   "metadata": {},
   "source": [
    "## memory usage"
   ]
  },
  {
   "cell_type": "code",
   "execution_count": null,
   "metadata": {
    "code_folding": []
   },
   "outputs": [],
   "source": [
    "# pip install memory_profiler"
   ]
  },
  {
   "cell_type": "code",
   "execution_count": 115,
   "metadata": {},
   "outputs": [],
   "source": [
    "%load_ext memory_profiler"
   ]
  },
  {
   "cell_type": "code",
   "execution_count": 116,
   "metadata": {},
   "outputs": [
    {
     "name": "stdout",
     "output_type": "stream",
     "text": [
      "peak memory: 214.36 MiB, increment: 0.00 MiB\n"
     ]
    }
   ],
   "source": [
    "%memit naive_approach(g)"
   ]
  },
  {
   "cell_type": "code",
   "execution_count": 117,
   "metadata": {},
   "outputs": [
    {
     "name": "stdout",
     "output_type": "stream",
     "text": [
      "peak memory: 214.36 MiB, increment: 0.00 MiB\n"
     ]
    }
   ],
   "source": [
    "%memit core_number(g)"
   ]
  },
  {
   "cell_type": "code",
   "execution_count": null,
   "metadata": {},
   "outputs": [],
   "source": []
  }
 ],
 "metadata": {
  "kernelspec": {
   "display_name": "Python 3",
   "language": "python",
   "name": "python3"
  },
  "language_info": {
   "codemirror_mode": {
    "name": "ipython",
    "version": 3
   },
   "file_extension": ".py",
   "mimetype": "text/x-python",
   "name": "python",
   "nbconvert_exporter": "python",
   "pygments_lexer": "ipython3",
   "version": "3.7.4"
  },
  "toc": {
   "base_numbering": 1,
   "nav_menu": {},
   "number_sections": true,
   "sideBar": true,
   "skip_h1_title": false,
   "title_cell": "Table of Contents",
   "title_sidebar": "Contents",
   "toc_cell": false,
   "toc_position": {},
   "toc_section_display": true,
   "toc_window_display": false
  },
  "varInspector": {
   "cols": {
    "lenName": 16,
    "lenType": 16,
    "lenVar": 40
   },
   "kernels_config": {
    "python": {
     "delete_cmd_postfix": "",
     "delete_cmd_prefix": "del ",
     "library": "var_list.py",
     "varRefreshCmd": "print(var_dic_list())"
    },
    "r": {
     "delete_cmd_postfix": ") ",
     "delete_cmd_prefix": "rm(",
     "library": "var_list.r",
     "varRefreshCmd": "cat(var_dic_list()) "
    }
   },
   "types_to_exclude": [
    "module",
    "function",
    "builtin_function_or_method",
    "instance",
    "_Feature"
   ],
   "window_display": false
  }
 },
 "nbformat": 4,
 "nbformat_minor": 2
}
