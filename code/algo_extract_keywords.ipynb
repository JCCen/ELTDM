{
 "cells": [
  {
   "cell_type": "code",
   "execution_count": 2,
   "metadata": {},
   "outputs": [],
   "source": [
    "import networkx as nx\n",
    "import matplotlib.pyplot as plt\n",
    "import itertools\n",
    "from operator import itemgetter\n",
    "import copy\n",
    "import numpy as np"
   ]
  },
  {
   "cell_type": "markdown",
   "metadata": {},
   "source": [
    "Nous nous focalisons ici sur l'algorithme permettant de trouver le k-core contenant les mots-clefs."
   ]
  },
  {
   "cell_type": "markdown",
   "metadata": {},
   "source": [
    "# Python"
   ]
  },
  {
   "cell_type": "markdown",
   "metadata": {},
   "source": [
    "## Algorithme en Python \"simple\""
   ]
  },
  {
   "cell_type": "code",
   "execution_count": 3,
   "metadata": {},
   "outputs": [],
   "source": [
    "def elbow_python(sorted_scores):\n",
    "    sorted_scores = [np.array(i) for i in sorted_scores]\n",
    "\n",
    "    first_point = sorted_scores[0]\n",
    "    last_point =sorted_scores[-1]\n",
    "    distances = []\n",
    "\n",
    "    for index,point in enumerate(sorted_scores):\n",
    "        point= np.array(point)\n",
    "        d=np.cross(last_point-first_point,point-first_point)/np.linalg.norm(last_point-first_point)\n",
    "        distances.append(abs(d))\n",
    "\n",
    "    if np.max(distances)>0:\n",
    "        x_elbow=sorted_scores[np.argmax(distances)]\n",
    "    else :\n",
    "        x_elbow=sorted_scores[0]\n",
    "\n",
    "    return x_elbow\n",
    "\n",
    "\n",
    "def get_density(g):\n",
    "    e = g.number_of_edges()\n",
    "    v = g.number_of_nodes()\n",
    "\n",
    "    if v !=0:\n",
    "        density = abs(e)/(abs(v)*(abs(v)-1))\n",
    "        return density\n",
    "    else : \n",
    "        return None\n",
    "\n",
    "def dens_method(g,k_core_decomp):\n",
    "    D=[]\n",
    "    for i in range(max(k_core_decomp.values())):\n",
    "        nodes_indexes = [k for k, v in k_core_decomp.items() if v >i]\n",
    "        g_small = g.subgraph(nodes_indexes)\n",
    "        D.append(get_density(g_small))\n",
    "    return elbow([i for i in enumerate(D)])[0]+1 # +1 as we started counting at zero\n",
    "\n",
    "def get_keywords(g):\n",
    "    k_core_decomp = nx.core_number(g) # replace by custom made function\n",
    "    k_core_value_of_keywords = dens_method(g,k_core_decomp)\n",
    "    keywords = [k for k, v in k_core_decomp.items() if v >= k_core_value_of_keywords]\n",
    "    return keywords\n"
   ]
  },
  {
   "cell_type": "markdown",
   "metadata": {},
   "source": [
    "# Cython"
   ]
  },
  {
   "cell_type": "code",
   "execution_count": 4,
   "metadata": {},
   "outputs": [],
   "source": [
    "%load_ext Cython"
   ]
  },
  {
   "cell_type": "markdown",
   "metadata": {},
   "source": [
    "Pour la suite, et afin de pouvoir appliquer Cython de façon approfondie sur une tâche simple, nous nous focalisons sur la fonction permettant de trouver le coude (elbow_python dans l'exemple Python \"simple\")"
   ]
  },
  {
   "cell_type": "markdown",
   "metadata": {},
   "source": [
    "## Cython naïf"
   ]
  },
  {
   "cell_type": "code",
   "execution_count": 5,
   "metadata": {},
   "outputs": [],
   "source": [
    "%%cython\n",
    "import numpy as np\n",
    "from libc.math cimport sqrt\n",
    "import networkx as nx\n",
    "from cpython cimport array\n",
    "from array import array as pyarray\n",
    "from libc.string cimport memcpy\n",
    "import cython\n",
    "from cython.parallel import prange\n",
    "\n",
    "def naive_cython_elbow(sorted_scores):\n",
    "    sorted_scores = [np.array(i) for i in sorted_scores]\n",
    "\n",
    "    first_point = sorted_scores[0]\n",
    "    last_point =sorted_scores[-1]\n",
    "    distances = []\n",
    "\n",
    "    for index,point in enumerate(sorted_scores):\n",
    "        point= np.array(point)\n",
    "        d=np.cross(last_point-first_point,point-first_point)/np.linalg.norm(last_point-first_point)\n",
    "        distances.append(abs(d))\n",
    "\n",
    "    if np.max(distances)>0:\n",
    "        x_elbow=sorted_scores[np.argmax(distances)]\n",
    "    else :\n",
    "        x_elbow=sorted_scores[0]\n",
    "\n",
    "    return x_elbow"
   ]
  },
  {
   "cell_type": "markdown",
   "metadata": {},
   "source": [
    "## en remplaçant des fonctions numpy par des cdef (et en ajoutant les types)"
   ]
  },
  {
   "cell_type": "code",
   "execution_count": 6,
   "metadata": {},
   "outputs": [],
   "source": [
    "%%cython\n",
    "import numpy as np\n",
    "from libc.math cimport sqrt\n",
    "import networkx as nx\n",
    "from cpython cimport array\n",
    "from array import array as pyarray\n",
    "from libc.string cimport memcpy\n",
    "import cython\n",
    "from cython.parallel import prange\n",
    "\n",
    "\n",
    "cdef float cross_prod_vect( first_point, last_point,  point):\n",
    "    cdef float Ax = (last_point[0] - first_point[0])\n",
    "    cdef float Ay = (last_point[1]-first_point[1])\n",
    "    cdef float Bx = (point[0]-first_point[0])\n",
    "    cdef float By = (point[1]-first_point[1])\n",
    "    cdef float result= Ax*By-Ay*Bx\n",
    "    cdef float norm = sqrt(Ax*Ax+Ay*Ay)\n",
    "    return result/norm\n",
    "    \n",
    "\n",
    "cdef float cross_prod(float Ax, float Ay, float Bx, float By):\n",
    "    cdef float result= Ax*By-Ay*Bx\n",
    "    cdef float norm = sqrt(Ax*Ax+Ay*Ay)\n",
    "    return result/norm\n",
    "\n",
    "cdef float density_with_e_v(float e, float v):\n",
    "    return abs(e)/(abs(v)*(abs(v)-1))   \n",
    "\n",
    "cpdef cdef_elbow(sorted_scores):\n",
    "\n",
    "    cdef int elbow_point\n",
    "    cdef double[:] first_point = sorted_scores[0]\n",
    "    cdef double[:] last_point = sorted_scores[-1]\n",
    "    cdef int i # pour optimiser la boucle\n",
    "    cdef double[:] Y = np.zeros(len(sorted_scores))\n",
    "\n",
    "    for i in range(len(sorted_scores)):\n",
    "        point = sorted_scores[i]\n",
    "        d = cross_prod_vect(first_point,last_point,point)\n",
    "        Y[i]=abs(d)\n",
    "        \n",
    "    if np.max(Y)>0:\n",
    "        x_elbow=sorted_scores[np.argmax(Y)]\n",
    "    else :\n",
    "        x_elbow=sorted_scores[0]\n",
    "\n",
    "    return x_elbow"
   ]
  },
  {
   "cell_type": "markdown",
   "metadata": {},
   "source": [
    "# en ajoutant les memoryviews"
   ]
  },
  {
   "cell_type": "code",
   "execution_count": 7,
   "metadata": {},
   "outputs": [],
   "source": [
    "%%cython\n",
    "import numpy as np\n",
    "from libc.math cimport sqrt\n",
    "import networkx as nx\n",
    "from cpython cimport array\n",
    "from array import array as pyarray\n",
    "from libc.string cimport memcpy\n",
    "import cython\n",
    "from cython.parallel import prange\n",
    "\n",
    "\n",
    "cdef float cross_prod_vect(double[:] first_point, double[:] last_point,  double[:] point):\n",
    "    cdef float Ax = (last_point[0] - first_point[0])\n",
    "    cdef float Ay = (last_point[1]-first_point[1])\n",
    "    cdef float Bx = (point[0]-first_point[0])\n",
    "    cdef float By = (point[1]-first_point[1])\n",
    "    cdef float result= Ax*By-Ay*Bx\n",
    "    cdef float norm = sqrt(Ax*Ax+Ay*Ay)\n",
    "    return result/norm\n",
    "    \n",
    "\n",
    "cdef float cross_prod(float Ax, float Ay, float Bx, float By):\n",
    "    cdef float result= Ax*By-Ay*Bx\n",
    "    cdef float norm = sqrt(Ax*Ax+Ay*Ay)\n",
    "    return result/norm\n",
    "\n",
    "cdef float density_with_e_v(float e, float v):\n",
    "    return abs(e)/(abs(v)*(abs(v)-1))   \n",
    "\n",
    "cpdef c_elbow_memoryviews(double[:, :] sorted_scores):\n",
    "\n",
    "    cdef int elbow_point\n",
    "    cdef double[:] first_point = sorted_scores[0]\n",
    "    cdef double[:] last_point = sorted_scores[-1]\n",
    "    cdef int i # pour optimiser la boucle\n",
    "    cdef double[:] Y = np.zeros(len(sorted_scores))\n",
    "\n",
    "    for i in range(len(sorted_scores)):\n",
    "        point = sorted_scores[i]\n",
    "        d = cross_prod_vect(first_point,last_point,point)\n",
    "        Y[i]=abs(d)\n",
    "        \n",
    "    if np.max(Y)>0:\n",
    "        x_elbow=sorted_scores[np.argmax(Y)]\n",
    "    else :\n",
    "        x_elbow=sorted_scores[0]\n",
    "        \n",
    "\n",
    "    return x_elbow\n"
   ]
  },
  {
   "cell_type": "markdown",
   "metadata": {},
   "source": [
    "## en desactivant boundscheck, wraparound \n",
    "(nous devons faire en sorte qu'aucun index ne soit alors négatif)"
   ]
  },
  {
   "cell_type": "code",
   "execution_count": 8,
   "metadata": {},
   "outputs": [],
   "source": [
    "%%cython\n",
    "import numpy as np\n",
    "from libc.math cimport sqrt\n",
    "import networkx as nx\n",
    "from cpython cimport array\n",
    "from array import array as pyarray\n",
    "from libc.string cimport memcpy\n",
    "import cython\n",
    "from cython.parallel import prange\n",
    "\n",
    "\n",
    "cdef float cross_prod_vect(double[:] first_point, double[:] last_point,  double[:] point):\n",
    "    cdef float Ax = (last_point[0] - first_point[0])\n",
    "    cdef float Ay = (last_point[1]-first_point[1])\n",
    "    cdef float Bx = (point[0]-first_point[0])\n",
    "    cdef float By = (point[1]-first_point[1])\n",
    "    cdef float result= Ax*By-Ay*Bx\n",
    "    cdef float norm = sqrt(Ax*Ax+Ay*Ay)\n",
    "    return result/norm\n",
    "    \n",
    "\n",
    "cdef float cross_prod(float Ax, float Ay, float Bx, float By):\n",
    "    cdef float result= Ax*By-Ay*Bx\n",
    "    cdef float norm = sqrt(Ax*Ax+Ay*Ay)\n",
    "    return result/norm\n",
    "\n",
    "cdef float density_with_e_v(float e, float v):\n",
    "    return abs(e)/(abs(v)*(abs(v)-1))   \n",
    "\n",
    "@cython.boundscheck(False)\n",
    "@cython.wraparound(False)\n",
    "cpdef c_elbow_noboundscheck_nowraparound(double[:, :] sorted_scores):\n",
    "\n",
    "    cdef int elbow_point\n",
    "    cdef int N = sorted_scores.shape[0]\n",
    "    cdef double[:] first_point = sorted_scores[0]\n",
    "    cdef double[:] last_point = sorted_scores[N-1]\n",
    "    cdef int i # pour optimiser la boucle\n",
    "    cdef double[:] Y = np.zeros(N)\n",
    "\n",
    "    for i in range(N):\n",
    "        point = sorted_scores[i]\n",
    "        d = cross_prod_vect(first_point,last_point,point)\n",
    "        Y[i]=abs(d)\n",
    "        \n",
    "    if np.max(Y)>0:\n",
    "        x_elbow=sorted_scores[np.argmax(Y)]\n",
    "    else :\n",
    "        x_elbow=sorted_scores[0]\n",
    "\n",
    "    return x_elbow"
   ]
  },
  {
   "cell_type": "markdown",
   "metadata": {},
   "source": [
    "# en déclarant les np arrays comme  continus"
   ]
  },
  {
   "cell_type": "code",
   "execution_count": 29,
   "metadata": {},
   "outputs": [],
   "source": [
    "%%cython\n",
    "import numpy as np\n",
    "from libc.math cimport sqrt\n",
    "import networkx as nx\n",
    "from cpython cimport array\n",
    "from array import array as pyarray\n",
    "from libc.string cimport memcpy\n",
    "import cython\n",
    "from cython.parallel import prange\n",
    "\n",
    "\n",
    "cdef float cross_prod_vect(double[::1] first_point, double[::1] last_point,  double[::1] point):\n",
    "    cdef float Ax = (last_point[0] - first_point[0])\n",
    "    cdef float Ay = (last_point[1]-first_point[1])\n",
    "    cdef float Bx = (point[0]-first_point[0])\n",
    "    cdef float By = (point[1]-first_point[1])\n",
    "    cdef float result= Ax*By-Ay*Bx\n",
    "    cdef float norm = sqrt(Ax*Ax+Ay*Ay)\n",
    "    return result/norm\n",
    "    \n",
    "\n",
    "cdef float cross_prod(float Ax, float Ay, float Bx, float By):\n",
    "    cdef float result= Ax*By-Ay*Bx\n",
    "    cdef float norm = sqrt(Ax*Ax+Ay*Ay)\n",
    "    return result/norm\n",
    "\n",
    "cdef float density_with_e_v(float e, float v):\n",
    "    return abs(e)/(abs(v)*(abs(v)-1))   \n",
    "\n",
    "@cython.boundscheck(False)\n",
    "@cython.wraparound(False)\n",
    "cpdef c_elbow_continous(double[:, ::1] sorted_scores):\n",
    "\n",
    "    cdef int elbow_point\n",
    "    cdef int N = sorted_scores.shape[0]\n",
    "    cdef double[::1] first_point = sorted_scores[0]\n",
    "    cdef double[::1] last_point = sorted_scores[N-1]\n",
    "    cdef int i # pour optimiser la boucle\n",
    "    cdef double[::1] Y = np.zeros(N)\n",
    "\n",
    "    for i in range(N):\n",
    "        point = sorted_scores[i]\n",
    "        d = cross_prod_vect(first_point,last_point,point)\n",
    "        Y[i]=abs(d)\n",
    "    print(Y)\n",
    "    if np.max(Y)>0:\n",
    "        x_elbow=sorted_scores[np.argmax(Y)]\n",
    "    else :\n",
    "        x_elbow=sorted_scores[0]\n",
    "\n",
    "    return x_elbow\n"
   ]
  },
  {
   "cell_type": "markdown",
   "metadata": {},
   "source": [
    "# measure time just for the cythonised function"
   ]
  },
  {
   "cell_type": "code",
   "execution_count": 10,
   "metadata": {},
   "outputs": [
    {
     "data": {
      "text/plain": [
       "True"
      ]
     },
     "execution_count": 10,
     "metadata": {},
     "output_type": "execute_result"
    }
   ],
   "source": [
    "#vérification que les résultats soient bons pour un exemple assez grand\n",
    "D = np.random.rand(10**3,)\n",
    "final_array = np.array([i for i in enumerate(D)])\n",
    "elbow_python(final_array)[0] ==naive_cython_elbow(final_array)[0] ==cdef_elbow(final_array)[0] ==c_elbow_memoryviews(final_array)[0] ==c_elbow_noboundscheck_nowraparound(final_array)[0] ==c_elbow_continous(final_array)[0]"
   ]
  },
  {
   "cell_type": "code",
   "execution_count": 11,
   "metadata": {},
   "outputs": [
    {
     "name": "stderr",
     "output_type": "stream",
     "text": [
      " 67%|██████▋   | 4/6 [00:04<00:02,  1.15s/it]\n"
     ]
    },
    {
     "ename": "KeyboardInterrupt",
     "evalue": "",
     "output_type": "error",
     "traceback": [
      "\u001b[0;31m---------------------------------------------------------------------------\u001b[0m",
      "\u001b[0;31mKeyboardInterrupt\u001b[0m                         Traceback (most recent call last)",
      "\u001b[0;32m<ipython-input-11-2fff9d1a2f9a>\u001b[0m in \u001b[0;36m<module>\u001b[0;34m\u001b[0m\n\u001b[1;32m     12\u001b[0m \u001b[0;34m\u001b[0m\u001b[0m\n\u001b[1;32m     13\u001b[0m         \u001b[0mfinal_array\u001b[0m \u001b[0;34m=\u001b[0m \u001b[0mnp\u001b[0m\u001b[0;34m.\u001b[0m\u001b[0marray\u001b[0m\u001b[0;34m(\u001b[0m\u001b[0;34m[\u001b[0m\u001b[0mi\u001b[0m \u001b[0;32mfor\u001b[0m \u001b[0mi\u001b[0m \u001b[0;32min\u001b[0m \u001b[0menumerate\u001b[0m\u001b[0;34m(\u001b[0m\u001b[0mD\u001b[0m\u001b[0;34m)\u001b[0m\u001b[0;34m]\u001b[0m\u001b[0;34m)\u001b[0m\u001b[0;34m\u001b[0m\u001b[0;34m\u001b[0m\u001b[0m\n\u001b[0;32m---> 14\u001b[0;31m         \u001b[0mtime\u001b[0m \u001b[0;34m=\u001b[0m \u001b[0mtimeit\u001b[0m\u001b[0;34m(\u001b[0m\u001b[0mstr\u001b[0m\u001b[0;34m(\u001b[0m\u001b[0mfunction\u001b[0m \u001b[0;34m+\u001b[0m \u001b[0;34m'(final_array)'\u001b[0m\u001b[0;34m)\u001b[0m\u001b[0;34m,\u001b[0m \u001b[0mnumber\u001b[0m\u001b[0;34m=\u001b[0m\u001b[0mnum_iter\u001b[0m\u001b[0;34m,\u001b[0m \u001b[0mglobals\u001b[0m\u001b[0;34m=\u001b[0m\u001b[0mglobals\u001b[0m\u001b[0;34m(\u001b[0m\u001b[0;34m)\u001b[0m\u001b[0;34m)\u001b[0m\u001b[0;34m/\u001b[0m\u001b[0mnum_iter\u001b[0m\u001b[0;34m\u001b[0m\u001b[0;34m\u001b[0m\u001b[0m\n\u001b[0m\u001b[1;32m     15\u001b[0m         \u001b[0marray\u001b[0m\u001b[0;34m.\u001b[0m\u001b[0mappend\u001b[0m\u001b[0;34m(\u001b[0m\u001b[0mtime\u001b[0m\u001b[0;34m)\u001b[0m\u001b[0;34m\u001b[0m\u001b[0;34m\u001b[0m\u001b[0m\n",
      "\u001b[0;32m~/anaconda3/lib/python3.7/timeit.py\u001b[0m in \u001b[0;36mtimeit\u001b[0;34m(stmt, setup, timer, number, globals)\u001b[0m\n\u001b[1;32m    230\u001b[0m            number=default_number, globals=None):\n\u001b[1;32m    231\u001b[0m     \u001b[0;34m\"\"\"Convenience function to create Timer object and call timeit method.\"\"\"\u001b[0m\u001b[0;34m\u001b[0m\u001b[0;34m\u001b[0m\u001b[0m\n\u001b[0;32m--> 232\u001b[0;31m     \u001b[0;32mreturn\u001b[0m \u001b[0mTimer\u001b[0m\u001b[0;34m(\u001b[0m\u001b[0mstmt\u001b[0m\u001b[0;34m,\u001b[0m \u001b[0msetup\u001b[0m\u001b[0;34m,\u001b[0m \u001b[0mtimer\u001b[0m\u001b[0;34m,\u001b[0m \u001b[0mglobals\u001b[0m\u001b[0;34m)\u001b[0m\u001b[0;34m.\u001b[0m\u001b[0mtimeit\u001b[0m\u001b[0;34m(\u001b[0m\u001b[0mnumber\u001b[0m\u001b[0;34m)\u001b[0m\u001b[0;34m\u001b[0m\u001b[0;34m\u001b[0m\u001b[0m\n\u001b[0m\u001b[1;32m    233\u001b[0m \u001b[0;34m\u001b[0m\u001b[0m\n\u001b[1;32m    234\u001b[0m def repeat(stmt=\"pass\", setup=\"pass\", timer=default_timer,\n",
      "\u001b[0;32m~/anaconda3/lib/python3.7/timeit.py\u001b[0m in \u001b[0;36mtimeit\u001b[0;34m(self, number)\u001b[0m\n\u001b[1;32m    174\u001b[0m         \u001b[0mgc\u001b[0m\u001b[0;34m.\u001b[0m\u001b[0mdisable\u001b[0m\u001b[0;34m(\u001b[0m\u001b[0;34m)\u001b[0m\u001b[0;34m\u001b[0m\u001b[0;34m\u001b[0m\u001b[0m\n\u001b[1;32m    175\u001b[0m         \u001b[0;32mtry\u001b[0m\u001b[0;34m:\u001b[0m\u001b[0;34m\u001b[0m\u001b[0;34m\u001b[0m\u001b[0m\n\u001b[0;32m--> 176\u001b[0;31m             \u001b[0mtiming\u001b[0m \u001b[0;34m=\u001b[0m \u001b[0mself\u001b[0m\u001b[0;34m.\u001b[0m\u001b[0minner\u001b[0m\u001b[0;34m(\u001b[0m\u001b[0mit\u001b[0m\u001b[0;34m,\u001b[0m \u001b[0mself\u001b[0m\u001b[0;34m.\u001b[0m\u001b[0mtimer\u001b[0m\u001b[0;34m)\u001b[0m\u001b[0;34m\u001b[0m\u001b[0;34m\u001b[0m\u001b[0m\n\u001b[0m\u001b[1;32m    177\u001b[0m         \u001b[0;32mfinally\u001b[0m\u001b[0;34m:\u001b[0m\u001b[0;34m\u001b[0m\u001b[0;34m\u001b[0m\u001b[0m\n\u001b[1;32m    178\u001b[0m             \u001b[0;32mif\u001b[0m \u001b[0mgcold\u001b[0m\u001b[0;34m:\u001b[0m\u001b[0;34m\u001b[0m\u001b[0;34m\u001b[0m\u001b[0m\n",
      "\u001b[0;32m<timeit-src>\u001b[0m in \u001b[0;36minner\u001b[0;34m(_it, _timer)\u001b[0m\n",
      "\u001b[0;32m<ipython-input-3-3dcf29d27123>\u001b[0m in \u001b[0;36melbow_python\u001b[0;34m(sorted_scores)\u001b[0m\n\u001b[1;32m      8\u001b[0m     \u001b[0;32mfor\u001b[0m \u001b[0mindex\u001b[0m\u001b[0;34m,\u001b[0m\u001b[0mpoint\u001b[0m \u001b[0;32min\u001b[0m \u001b[0menumerate\u001b[0m\u001b[0;34m(\u001b[0m\u001b[0msorted_scores\u001b[0m\u001b[0;34m)\u001b[0m\u001b[0;34m:\u001b[0m\u001b[0;34m\u001b[0m\u001b[0;34m\u001b[0m\u001b[0m\n\u001b[1;32m      9\u001b[0m         \u001b[0mpoint\u001b[0m\u001b[0;34m=\u001b[0m \u001b[0mnp\u001b[0m\u001b[0;34m.\u001b[0m\u001b[0marray\u001b[0m\u001b[0;34m(\u001b[0m\u001b[0mpoint\u001b[0m\u001b[0;34m)\u001b[0m\u001b[0;34m\u001b[0m\u001b[0;34m\u001b[0m\u001b[0m\n\u001b[0;32m---> 10\u001b[0;31m         \u001b[0md\u001b[0m\u001b[0;34m=\u001b[0m\u001b[0mnp\u001b[0m\u001b[0;34m.\u001b[0m\u001b[0mcross\u001b[0m\u001b[0;34m(\u001b[0m\u001b[0mlast_point\u001b[0m\u001b[0;34m-\u001b[0m\u001b[0mfirst_point\u001b[0m\u001b[0;34m,\u001b[0m\u001b[0mpoint\u001b[0m\u001b[0;34m-\u001b[0m\u001b[0mfirst_point\u001b[0m\u001b[0;34m)\u001b[0m\u001b[0;34m/\u001b[0m\u001b[0mnp\u001b[0m\u001b[0;34m.\u001b[0m\u001b[0mlinalg\u001b[0m\u001b[0;34m.\u001b[0m\u001b[0mnorm\u001b[0m\u001b[0;34m(\u001b[0m\u001b[0mlast_point\u001b[0m\u001b[0;34m-\u001b[0m\u001b[0mfirst_point\u001b[0m\u001b[0;34m)\u001b[0m\u001b[0;34m\u001b[0m\u001b[0;34m\u001b[0m\u001b[0m\n\u001b[0m\u001b[1;32m     11\u001b[0m         \u001b[0mdistances\u001b[0m\u001b[0;34m.\u001b[0m\u001b[0mappend\u001b[0m\u001b[0;34m(\u001b[0m\u001b[0mabs\u001b[0m\u001b[0;34m(\u001b[0m\u001b[0md\u001b[0m\u001b[0;34m)\u001b[0m\u001b[0;34m)\u001b[0m\u001b[0;34m\u001b[0m\u001b[0;34m\u001b[0m\u001b[0m\n\u001b[1;32m     12\u001b[0m \u001b[0;34m\u001b[0m\u001b[0m\n",
      "\u001b[0;32m<__array_function__ internals>\u001b[0m in \u001b[0;36mcross\u001b[0;34m(*args, **kwargs)\u001b[0m\n",
      "\u001b[0;32m~/anaconda3/lib/python3.7/site-packages/numpy/core/numeric.py\u001b[0m in \u001b[0;36mcross\u001b[0;34m(a, b, axisa, axisb, axisc, axis)\u001b[0m\n\u001b[1;32m   1538\u001b[0m \u001b[0;34m\u001b[0m\u001b[0m\n\u001b[1;32m   1539\u001b[0m     \u001b[0;31m# Move working axis to the end of the shape\u001b[0m\u001b[0;34m\u001b[0m\u001b[0;34m\u001b[0m\u001b[0;34m\u001b[0m\u001b[0m\n\u001b[0;32m-> 1540\u001b[0;31m     \u001b[0ma\u001b[0m \u001b[0;34m=\u001b[0m \u001b[0mmoveaxis\u001b[0m\u001b[0;34m(\u001b[0m\u001b[0ma\u001b[0m\u001b[0;34m,\u001b[0m \u001b[0maxisa\u001b[0m\u001b[0;34m,\u001b[0m \u001b[0;34m-\u001b[0m\u001b[0;36m1\u001b[0m\u001b[0;34m)\u001b[0m\u001b[0;34m\u001b[0m\u001b[0;34m\u001b[0m\u001b[0m\n\u001b[0m\u001b[1;32m   1541\u001b[0m     \u001b[0mb\u001b[0m \u001b[0;34m=\u001b[0m \u001b[0mmoveaxis\u001b[0m\u001b[0;34m(\u001b[0m\u001b[0mb\u001b[0m\u001b[0;34m,\u001b[0m \u001b[0maxisb\u001b[0m\u001b[0;34m,\u001b[0m \u001b[0;34m-\u001b[0m\u001b[0;36m1\u001b[0m\u001b[0;34m)\u001b[0m\u001b[0;34m\u001b[0m\u001b[0;34m\u001b[0m\u001b[0m\n\u001b[1;32m   1542\u001b[0m     msg = (\"incompatible dimensions for cross product\\n\"\n",
      "\u001b[0;32m<__array_function__ internals>\u001b[0m in \u001b[0;36mmoveaxis\u001b[0;34m(*args, **kwargs)\u001b[0m\n",
      "\u001b[0;32m~/anaconda3/lib/python3.7/site-packages/numpy/core/numeric.py\u001b[0m in \u001b[0;36mmoveaxis\u001b[0;34m(a, source, destination)\u001b[0m\n\u001b[1;32m   1391\u001b[0m         \u001b[0mtranspose\u001b[0m \u001b[0;34m=\u001b[0m \u001b[0ma\u001b[0m\u001b[0;34m.\u001b[0m\u001b[0mtranspose\u001b[0m\u001b[0;34m\u001b[0m\u001b[0;34m\u001b[0m\u001b[0m\n\u001b[1;32m   1392\u001b[0m \u001b[0;34m\u001b[0m\u001b[0m\n\u001b[0;32m-> 1393\u001b[0;31m     \u001b[0msource\u001b[0m \u001b[0;34m=\u001b[0m \u001b[0mnormalize_axis_tuple\u001b[0m\u001b[0;34m(\u001b[0m\u001b[0msource\u001b[0m\u001b[0;34m,\u001b[0m \u001b[0ma\u001b[0m\u001b[0;34m.\u001b[0m\u001b[0mndim\u001b[0m\u001b[0;34m,\u001b[0m \u001b[0;34m'source'\u001b[0m\u001b[0;34m)\u001b[0m\u001b[0;34m\u001b[0m\u001b[0;34m\u001b[0m\u001b[0m\n\u001b[0m\u001b[1;32m   1394\u001b[0m     \u001b[0mdestination\u001b[0m \u001b[0;34m=\u001b[0m \u001b[0mnormalize_axis_tuple\u001b[0m\u001b[0;34m(\u001b[0m\u001b[0mdestination\u001b[0m\u001b[0;34m,\u001b[0m \u001b[0ma\u001b[0m\u001b[0;34m.\u001b[0m\u001b[0mndim\u001b[0m\u001b[0;34m,\u001b[0m \u001b[0;34m'destination'\u001b[0m\u001b[0;34m)\u001b[0m\u001b[0;34m\u001b[0m\u001b[0;34m\u001b[0m\u001b[0m\n\u001b[1;32m   1395\u001b[0m     \u001b[0;32mif\u001b[0m \u001b[0mlen\u001b[0m\u001b[0;34m(\u001b[0m\u001b[0msource\u001b[0m\u001b[0;34m)\u001b[0m \u001b[0;34m!=\u001b[0m \u001b[0mlen\u001b[0m\u001b[0;34m(\u001b[0m\u001b[0mdestination\u001b[0m\u001b[0;34m)\u001b[0m\u001b[0;34m:\u001b[0m\u001b[0;34m\u001b[0m\u001b[0;34m\u001b[0m\u001b[0m\n",
      "\u001b[0;31mKeyboardInterrupt\u001b[0m: "
     ]
    }
   ],
   "source": [
    "from timeit import timeit\n",
    "from tqdm import tqdm\n",
    "array_len_range= range(1,7)\n",
    "functions = ['elbow_python','naive_cython_elbow','cdef_elbow','c_elbow_memoryviews','c_elbow_noboundscheck_nowraparound','c_elbow_continous']\n",
    "functions_arrays=[(i,[]) for i in functions]\n",
    "\n",
    "for i in tqdm(array_len_range):\n",
    "    num_iter = 5-min(i,3)\n",
    "    D = np.random.rand(10**i,)\n",
    "\n",
    "    for function,array in functions_arrays:\n",
    "\n",
    "        final_array = np.array([i for i in enumerate(D)])\n",
    "        time = timeit(str(function + '(final_array)'), number=num_iter, globals=globals())/num_iter\n",
    "        array.append(time)\n"
   ]
  },
  {
   "cell_type": "code",
   "execution_count": null,
   "metadata": {},
   "outputs": [],
   "source": [
    "\n",
    "from matplotlib import pyplot as plt\n",
    "import numpy as np\n",
    "\n",
    "\n",
    "plt.style.use(['seaborn-poster','fivethirtyeight'])\n",
    "\n",
    "# plt.style.use(['dark_background', 'presentation'])\n",
    "x = [10**i for i in array_len_range]\n",
    "\n",
    "fig, ax = plt.subplots()\n",
    "for function,array in functions_arrays:\n",
    "    ax.plot(x, array,label=function)\n",
    "\n",
    "ax.set_title(\"Analyse des temps d'execution (fonction elbow)\")\n",
    "ax.legend()\n",
    "ax.set_yscale('log')\n",
    "ax.set_xscale('log')\n",
    "\n",
    "plt.xlabel (\"longueur de l array\")\n",
    "plt.ylabel (\"temps d'execution (s)\")\n",
    "plt.show()"
   ]
  },
  {
   "cell_type": "code",
   "execution_count": 27,
   "metadata": {},
   "outputs": [],
   "source": [
    "## sur un échantillon réduit"
   ]
  },
  {
   "cell_type": "code",
   "execution_count": 13,
   "metadata": {},
   "outputs": [],
   "source": [
    "from timeit import timeit\n",
    "elbow_c=[]\n",
    "array_len_range= range(10,1000,25)\n",
    "functions = ['elbow_python','naive_cython_elbow','cdef_elbow','c_elbow_memoryviews','c_elbow_noboundscheck_nowraparound','c_elbow_continous']\n",
    "functions_arrays=[(i,[]) for i in functions]\n",
    "for i in array_len_range:\n",
    "    num_iter = 10\n",
    "    D = np.random.rand(i,)\n",
    "\n",
    "    for function,array in functions_arrays:\n",
    "#         print(i)\n",
    "\n",
    "        final_array = np.array([i for i in enumerate(D)])\n",
    "        time = timeit(str(function + '(final_array)'), number=num_iter, globals=globals())/num_iter\n",
    "        array.append(time)"
   ]
  },
  {
   "cell_type": "code",
   "execution_count": 1,
   "metadata": {},
   "outputs": [
    {
     "ename": "NameError",
     "evalue": "name 'array_len_range' is not defined",
     "output_type": "error",
     "traceback": [
      "\u001b[0;31m---------------------------------------------------------------------------\u001b[0m",
      "\u001b[0;31mNameError\u001b[0m                                 Traceback (most recent call last)",
      "\u001b[0;32m<ipython-input-1-ae5fff446b8a>\u001b[0m in \u001b[0;36m<module>\u001b[0;34m\u001b[0m\n\u001b[1;32m      8\u001b[0m \u001b[0;31m# x = [10**i for i in array_len_range]\u001b[0m\u001b[0;34m\u001b[0m\u001b[0;34m\u001b[0m\u001b[0;34m\u001b[0m\u001b[0m\n\u001b[1;32m      9\u001b[0m \u001b[0;34m\u001b[0m\u001b[0m\n\u001b[0;32m---> 10\u001b[0;31m \u001b[0mx\u001b[0m \u001b[0;34m=\u001b[0m \u001b[0;34m[\u001b[0m\u001b[0mi\u001b[0m \u001b[0;32mfor\u001b[0m \u001b[0mi\u001b[0m \u001b[0;32min\u001b[0m \u001b[0marray_len_range\u001b[0m\u001b[0;34m]\u001b[0m\u001b[0;34m\u001b[0m\u001b[0;34m\u001b[0m\u001b[0m\n\u001b[0m\u001b[1;32m     11\u001b[0m \u001b[0;34m\u001b[0m\u001b[0m\n\u001b[1;32m     12\u001b[0m \u001b[0;34m\u001b[0m\u001b[0m\n",
      "\u001b[0;31mNameError\u001b[0m: name 'array_len_range' is not defined"
     ]
    }
   ],
   "source": [
    "\n",
    "from matplotlib import pyplot as plt\n",
    "import numpy as np\n",
    "\n",
    "\n",
    "plt.style.use(['seaborn-poster','fivethirtyeight'])\n",
    "\n",
    "# plt.style.use(['dark_background', 'presentation'])\n",
    "# x = [10**i for i in array_len_range]\n",
    "\n",
    "x = [i for i in array_len_range]\n",
    "\n",
    "\n",
    "fig, ax = plt.subplots()\n",
    "for function,array in functions_arrays:\n",
    "    ax.plot(x, array,label=function)\n",
    "\n",
    "ax.set_title(\"Analyse des temps d'execution (fonction elbow)\")\n",
    "ax.legend(loc=\"lower right\")\n",
    "\n",
    "ax.set_yscale('log')\n",
    "# ax.set_xscale('log')\n",
    "\n",
    "plt.xlabel(\"longueur de l array\")\n",
    "plt.ylabel(\"temps d'execution (s)\")\n",
    "plt.show()"
   ]
  },
  {
   "cell_type": "markdown",
   "metadata": {},
   "source": [
    "# prange"
   ]
  },
  {
   "cell_type": "code",
   "execution_count": 51,
   "metadata": {
    "code_folding": [
     26,
     31
    ]
   },
   "outputs": [
    {
     "name": "stderr",
     "output_type": "stream",
     "text": [
      "\n",
      "Error compiling Cython file:\n",
      "------------------------------------------------------------\n",
      "...\n",
      "\n",
      "    cdef double[::1] result = np.empty(n, dtype=np.float64)\n",
      "    \n",
      "    cdef float Ax = (last_point[0] - first_point[0])\n",
      "    cdef float Ay = (last_point[1]-first_point[1])\n",
      "    cdef vector[double] v=[]\n",
      "        ^\n",
      "------------------------------------------------------------\n",
      "\n",
      "/home/jaime/.cache/ipython/cython/_cython_magic_84789ccb342c427eff8fa79b63bf7ca3.pyx:46:9: 'vector' is not a type identifier\n",
      "\n",
      "Error compiling Cython file:\n",
      "------------------------------------------------------------\n",
      "...\n",
      "\n",
      "    cdef double[::1] result = np.empty(n, dtype=np.float64)\n",
      "    \n",
      "    cdef float Ax = (last_point[0] - first_point[0])\n",
      "    cdef float Ay = (last_point[1]-first_point[1])\n",
      "    cdef vector[double] v=[]\n",
      "                         ^\n",
      "------------------------------------------------------------\n",
      "\n",
      "/home/jaime/.cache/ipython/cython/_cython_magic_84789ccb342c427eff8fa79b63bf7ca3.pyx:46:26: Cannot coerce list to type '<error>'\n"
     ]
    },
    {
     "ename": "TypeError",
     "evalue": "object of type 'NoneType' has no len()",
     "output_type": "error",
     "traceback": [
      "\u001b[0;31m---------------------------------------------------------------------------\u001b[0m",
      "\u001b[0;31mTypeError\u001b[0m                                 Traceback (most recent call last)",
      "\u001b[0;32m<ipython-input-51-648ea0dac2b1>\u001b[0m in \u001b[0;36m<module>\u001b[0;34m\u001b[0m\n\u001b[0;32m----> 1\u001b[0;31m \u001b[0mget_ipython\u001b[0m\u001b[0;34m(\u001b[0m\u001b[0;34m)\u001b[0m\u001b[0;34m.\u001b[0m\u001b[0mrun_cell_magic\u001b[0m\u001b[0;34m(\u001b[0m\u001b[0;34m'cython'\u001b[0m\u001b[0;34m,\u001b[0m \u001b[0;34m' --compile-args=-fopenmp  --link-args=-fopenmp'\u001b[0m\u001b[0;34m,\u001b[0m \u001b[0;34m\"# cython: infer_types=True, boundscheck=False \\nfrom cython.parallel import prange\\nfrom libc.math cimport sin\\nimport numpy as np\\ncimport numpy as np\\nimport numpy as np\\nfrom libc.math cimport sqrt\\nimport networkx as nx\\nfrom cpython cimport array\\nfrom array import array as pyarray\\nfrom libc.string cimport memcpy\\nimport cython\\nfrom cython.parallel import prange\\ncimport openmp as omp\\n\\n\\ncdef float cross_prod_vect(double[::1] first_point, double[::1] last_point,  double[::1] point):\\n    cdef float Ax = (last_point[0] - first_point[0])\\n    cdef float Ay = (last_point[1]-first_point[1])\\n    cdef float Bx = (point[0]-first_point[0])\\n    cdef float By = (point[1]-first_point[1])\\n    cdef float result= Ax*By-Ay*Bx\\n    cdef float norm = sqrt(Ax*Ax+Ay*Ay)\\n    return result/norm\\n    \\n\\ncdef float cross_prod(float Ax, float Ay, float Bx, float By):\\n    cdef float result= Ax*By-Ay*Bx\\n    cdef float norm = sqrt(Ax*Ax+Ay*Ay)\\n    return result/norm\\n\\ncdef float density_with_e_v(float e, float v):\\n    return abs(e)/(abs(v)*(abs(v)-1))   \\n\\n# Multi-threading version\\ncpdef double[:] px3(double[:, ::1] a):\\n    cdef Py_ssize_t i\\n    cdef int n = a.size, j\\n    cdef double[::1] first_point = a[0]\\n    cdef double[::1] last_point = a[n-1]\\n\\n    cdef double[::1] result = np.empty(n, dtype=np.float64)\\n    \\n    cdef float Ax = (last_point[0] - first_point[0])\\n    cdef float Ay = (last_point[1]-first_point[1])\\n    cdef vector[double] v=[]\\n  #  cdef omp.omp_lock_t lock\\n #   omp.omp_init_lock(&lock)\\n    for i in prange(n, nogil=True,schedule='static', chunksize=1):\\n#         omp.omp_set_lock(&lock)\\n        v[i] = Ax*(a[i][1]-first_point[1])-Ay*(a[i][0]-first_point[0])/sqrt(Ax*Ax+Ay*Ay)\\n#        omp.omp_unset_lock(&lock)\\n    return result\\n\\n# cython: infer_types=True, infer_types.verbose=True, boundscheck=False \\n# from cython.parallel import prange\\n# from libcpp.vector cimport vector\\n# cdef pappend():\\n#     cdef Py_ssize_t i\\n#     cdef vector[long] v=[]\\n#     for i in prange(10, nogil=True, num_threads = 4):\\n#         #with gil:\\n#             v.push_back(i)    \\n#     return v\\n\\n\\n\\n@cython.boundscheck(False)\\n@cython.wraparound(False)\\ncpdef c_elbow_continous_parallel(double[:, ::1] sorted_scores):\\n\\n    cdef int elbow_point\\n    cdef int N = sorted_scores.shape[0]\\n    cdef double[::1] first_point = sorted_scores[0]\\n    cdef double[::1] last_point = sorted_scores[N-1]\\n    cdef int i # pour optimiser la boucle\\n    cdef double[:] Y = px3(sorted_scores) #np.zeros(N)\\n    print(np.array(Y))\\n#     cdef double[:] resutl = \\n#     for i in range(N):\\n#         point = sorted_scores[i]\\n#         d = cross_prod_vect(first_point,last_point,point)\\n#         Y[i]=abs(d)\\n        \\n    if np.max(Y)>0:\\n        x_elbow=sorted_scores[np.argmax(Y)]\\n    else :\\n        x_elbow=sorted_scores[0]\\n\\n    return x_elbow\\n\"\u001b[0m\u001b[0;34m)\u001b[0m\u001b[0;34m\u001b[0m\u001b[0;34m\u001b[0m\u001b[0m\n\u001b[0m",
      "\u001b[0;32m~/anaconda3/lib/python3.7/site-packages/IPython/core/interactiveshell.py\u001b[0m in \u001b[0;36mrun_cell_magic\u001b[0;34m(self, magic_name, line, cell)\u001b[0m\n\u001b[1;32m   2356\u001b[0m             \u001b[0;32mwith\u001b[0m \u001b[0mself\u001b[0m\u001b[0;34m.\u001b[0m\u001b[0mbuiltin_trap\u001b[0m\u001b[0;34m:\u001b[0m\u001b[0;34m\u001b[0m\u001b[0;34m\u001b[0m\u001b[0m\n\u001b[1;32m   2357\u001b[0m                 \u001b[0margs\u001b[0m \u001b[0;34m=\u001b[0m \u001b[0;34m(\u001b[0m\u001b[0mmagic_arg_s\u001b[0m\u001b[0;34m,\u001b[0m \u001b[0mcell\u001b[0m\u001b[0;34m)\u001b[0m\u001b[0;34m\u001b[0m\u001b[0;34m\u001b[0m\u001b[0m\n\u001b[0;32m-> 2358\u001b[0;31m                 \u001b[0mresult\u001b[0m \u001b[0;34m=\u001b[0m \u001b[0mfn\u001b[0m\u001b[0;34m(\u001b[0m\u001b[0;34m*\u001b[0m\u001b[0margs\u001b[0m\u001b[0;34m,\u001b[0m \u001b[0;34m**\u001b[0m\u001b[0mkwargs\u001b[0m\u001b[0;34m)\u001b[0m\u001b[0;34m\u001b[0m\u001b[0;34m\u001b[0m\u001b[0m\n\u001b[0m\u001b[1;32m   2359\u001b[0m             \u001b[0;32mreturn\u001b[0m \u001b[0mresult\u001b[0m\u001b[0;34m\u001b[0m\u001b[0;34m\u001b[0m\u001b[0m\n\u001b[1;32m   2360\u001b[0m \u001b[0;34m\u001b[0m\u001b[0m\n",
      "\u001b[0;32m</home/jaime/anaconda3/lib/python3.7/site-packages/decorator.py:decorator-gen-796>\u001b[0m in \u001b[0;36mcython\u001b[0;34m(self, line, cell)\u001b[0m\n",
      "\u001b[0;32m~/anaconda3/lib/python3.7/site-packages/IPython/core/magic.py\u001b[0m in \u001b[0;36m<lambda>\u001b[0;34m(f, *a, **k)\u001b[0m\n\u001b[1;32m    185\u001b[0m     \u001b[0;31m# but it's overkill for just that one bit of state.\u001b[0m\u001b[0;34m\u001b[0m\u001b[0;34m\u001b[0m\u001b[0;34m\u001b[0m\u001b[0m\n\u001b[1;32m    186\u001b[0m     \u001b[0;32mdef\u001b[0m \u001b[0mmagic_deco\u001b[0m\u001b[0;34m(\u001b[0m\u001b[0marg\u001b[0m\u001b[0;34m)\u001b[0m\u001b[0;34m:\u001b[0m\u001b[0;34m\u001b[0m\u001b[0;34m\u001b[0m\u001b[0m\n\u001b[0;32m--> 187\u001b[0;31m         \u001b[0mcall\u001b[0m \u001b[0;34m=\u001b[0m \u001b[0;32mlambda\u001b[0m \u001b[0mf\u001b[0m\u001b[0;34m,\u001b[0m \u001b[0;34m*\u001b[0m\u001b[0ma\u001b[0m\u001b[0;34m,\u001b[0m \u001b[0;34m**\u001b[0m\u001b[0mk\u001b[0m\u001b[0;34m:\u001b[0m \u001b[0mf\u001b[0m\u001b[0;34m(\u001b[0m\u001b[0;34m*\u001b[0m\u001b[0ma\u001b[0m\u001b[0;34m,\u001b[0m \u001b[0;34m**\u001b[0m\u001b[0mk\u001b[0m\u001b[0;34m)\u001b[0m\u001b[0;34m\u001b[0m\u001b[0;34m\u001b[0m\u001b[0m\n\u001b[0m\u001b[1;32m    188\u001b[0m \u001b[0;34m\u001b[0m\u001b[0m\n\u001b[1;32m    189\u001b[0m         \u001b[0;32mif\u001b[0m \u001b[0mcallable\u001b[0m\u001b[0;34m(\u001b[0m\u001b[0marg\u001b[0m\u001b[0;34m)\u001b[0m\u001b[0;34m:\u001b[0m\u001b[0;34m\u001b[0m\u001b[0;34m\u001b[0m\u001b[0m\n",
      "\u001b[0;32m~/anaconda3/lib/python3.7/site-packages/Cython/Build/IpythonMagic.py\u001b[0m in \u001b[0;36mcython\u001b[0;34m(self, line, cell)\u001b[0m\n\u001b[1;32m    323\u001b[0m         \u001b[0;32mif\u001b[0m \u001b[0mneed_cythonize\u001b[0m\u001b[0;34m:\u001b[0m\u001b[0;34m\u001b[0m\u001b[0;34m\u001b[0m\u001b[0m\n\u001b[1;32m    324\u001b[0m             \u001b[0mextensions\u001b[0m \u001b[0;34m=\u001b[0m \u001b[0mself\u001b[0m\u001b[0;34m.\u001b[0m\u001b[0m_cythonize\u001b[0m\u001b[0;34m(\u001b[0m\u001b[0mmodule_name\u001b[0m\u001b[0;34m,\u001b[0m \u001b[0mcode\u001b[0m\u001b[0;34m,\u001b[0m \u001b[0mlib_dir\u001b[0m\u001b[0;34m,\u001b[0m \u001b[0margs\u001b[0m\u001b[0;34m,\u001b[0m \u001b[0mquiet\u001b[0m\u001b[0;34m=\u001b[0m\u001b[0margs\u001b[0m\u001b[0;34m.\u001b[0m\u001b[0mquiet\u001b[0m\u001b[0;34m)\u001b[0m\u001b[0;34m\u001b[0m\u001b[0;34m\u001b[0m\u001b[0m\n\u001b[0;32m--> 325\u001b[0;31m             \u001b[0;32massert\u001b[0m \u001b[0mlen\u001b[0m\u001b[0;34m(\u001b[0m\u001b[0mextensions\u001b[0m\u001b[0;34m)\u001b[0m \u001b[0;34m==\u001b[0m \u001b[0;36m1\u001b[0m\u001b[0;34m\u001b[0m\u001b[0;34m\u001b[0m\u001b[0m\n\u001b[0m\u001b[1;32m    326\u001b[0m             \u001b[0mextension\u001b[0m \u001b[0;34m=\u001b[0m \u001b[0mextensions\u001b[0m\u001b[0;34m[\u001b[0m\u001b[0;36m0\u001b[0m\u001b[0;34m]\u001b[0m\u001b[0;34m\u001b[0m\u001b[0;34m\u001b[0m\u001b[0m\n\u001b[1;32m    327\u001b[0m             \u001b[0mself\u001b[0m\u001b[0;34m.\u001b[0m\u001b[0m_code_cache\u001b[0m\u001b[0;34m[\u001b[0m\u001b[0mkey\u001b[0m\u001b[0;34m]\u001b[0m \u001b[0;34m=\u001b[0m \u001b[0mmodule_name\u001b[0m\u001b[0;34m\u001b[0m\u001b[0;34m\u001b[0m\u001b[0m\n",
      "\u001b[0;31mTypeError\u001b[0m: object of type 'NoneType' has no len()"
     ]
    }
   ],
   "source": [
    "%%cython  --compile-args=-fopenmp  --link-args=-fopenmp\n",
    "# cython: infer_types=True, boundscheck=False \n",
    "from cython.parallel import prange\n",
    "from libc.math cimport sin\n",
    "import numpy as np\n",
    "cimport numpy as np\n",
    "import numpy as np\n",
    "from libc.math cimport sqrt\n",
    "import networkx as nx\n",
    "from cpython cimport array\n",
    "from array import array as pyarray\n",
    "from libc.string cimport memcpy\n",
    "import cython\n",
    "from cython.parallel import prange\n",
    "cimport openmp as omp\n",
    "\n",
    "\n",
    "cdef float cross_prod_vect(double[::1] first_point, double[::1] last_point,  double[::1] point):\n",
    "    cdef float Ax = (last_point[0] - first_point[0])\n",
    "    cdef float Ay = (last_point[1]-first_point[1])\n",
    "    cdef float Bx = (point[0]-first_point[0])\n",
    "    cdef float By = (point[1]-first_point[1])\n",
    "    cdef float result= Ax*By-Ay*Bx\n",
    "    cdef float norm = sqrt(Ax*Ax+Ay*Ay)\n",
    "    return result/norm\n",
    "    \n",
    "\n",
    "cdef float cross_prod(float Ax, float Ay, float Bx, float By):\n",
    "    cdef float result= Ax*By-Ay*Bx\n",
    "    cdef float norm = sqrt(Ax*Ax+Ay*Ay)\n",
    "    return result/norm\n",
    "\n",
    "cdef float density_with_e_v(float e, float v):\n",
    "    return abs(e)/(abs(v)*(abs(v)-1))   \n",
    "\n",
    "# Multi-threading version\n",
    "cpdef double[:] px3(double[:, ::1] a):\n",
    "    cdef Py_ssize_t i\n",
    "    cdef int n = a.size, j\n",
    "    cdef double[::1] first_point = a[0]\n",
    "    cdef double[::1] last_point = a[n-1]\n",
    "\n",
    "    cdef double[::1] result = np.empty(n, dtype=np.float64)\n",
    "    \n",
    "    cdef float Ax = (last_point[0] - first_point[0])\n",
    "    cdef float Ay = (last_point[1]-first_point[1])\n",
    "    cdef vector[double] v=[]\n",
    "  #  cdef omp.omp_lock_t lock\n",
    " #   omp.omp_init_lock(&lock)\n",
    "    for i in prange(n, nogil=True,schedule='static', chunksize=1):\n",
    "#         omp.omp_set_lock(&lock)\n",
    "        v[i] = Ax*(a[i][1]-first_point[1])-Ay*(a[i][0]-first_point[0])/sqrt(Ax*Ax+Ay*Ay)\n",
    "#        omp.omp_unset_lock(&lock)\n",
    "    return result\n",
    "\n",
    "# cython: infer_types=True, infer_types.verbose=True, boundscheck=False \n",
    "# from cython.parallel import prange\n",
    "# from libcpp.vector cimport vector\n",
    "# cdef pappend():\n",
    "#     cdef Py_ssize_t i\n",
    "#     cdef vector[long] v=[]\n",
    "#     for i in prange(10, nogil=True, num_threads = 4):\n",
    "#         #with gil:\n",
    "#             v.push_back(i)    \n",
    "#     return v\n",
    "\n",
    "\n",
    "\n",
    "@cython.boundscheck(False)\n",
    "@cython.wraparound(False)\n",
    "cpdef c_elbow_continous_parallel(double[:, ::1] sorted_scores):\n",
    "\n",
    "    cdef int elbow_point\n",
    "    cdef int N = sorted_scores.shape[0]\n",
    "    cdef double[::1] first_point = sorted_scores[0]\n",
    "    cdef double[::1] last_point = sorted_scores[N-1]\n",
    "    cdef int i # pour optimiser la boucle\n",
    "    cdef double[:] Y = px3(sorted_scores) #np.zeros(N)\n",
    "    print(np.array(Y))\n",
    "#     cdef double[:] resutl = \n",
    "#     for i in range(N):\n",
    "#         point = sorted_scores[i]\n",
    "#         d = cross_prod_vect(first_point,last_point,point)\n",
    "#         Y[i]=abs(d)\n",
    "        \n",
    "    if np.max(Y)>0:\n",
    "        x_elbow=sorted_scores[np.argmax(Y)]\n",
    "    else :\n",
    "        x_elbow=sorted_scores[0]\n",
    "\n",
    "    return x_elbow\n"
   ]
  },
  {
   "cell_type": "code",
   "execution_count": 47,
   "metadata": {},
   "outputs": [
    {
     "name": "stdout",
     "output_type": "stream",
     "text": [
      "[0.00000000e+000 1.00000000e+000 2.00000000e+000 3.00000000e+000\n",
      " 4.00000001e+000 5.00000001e+000 6.00000001e+000 7.00000001e+000\n",
      " 8.00000001e+000 9.00000001e+000 7.84714045e-311 6.95152907e-310\n",
      " 1.58101007e-322 0.00000000e+000 1.58101007e-322 9.88131292e-324\n",
      "             nan 8.30030285e-322 0.00000000e+000 0.00000000e+000]\n",
      "<MemoryView of 'ndarray' object>\n"
     ]
    },
    {
     "data": {
      "text/plain": [
       "7.0"
      ]
     },
     "execution_count": 47,
     "metadata": {},
     "output_type": "execute_result"
    }
   ],
   "source": [
    "D = np.random.rand(10,)\n",
    "final_array = np.array([i for i in enumerate(D)])\n",
    "c_elbow_continous_parallel(final_array)[0]\n",
    "c_elbow_continous(final_array)[0]"
   ]
  },
  {
   "cell_type": "code",
   "execution_count": 112,
   "metadata": {},
   "outputs": [
    {
     "name": "stdout",
     "output_type": "stream",
     "text": [
      "[0.000e+00 1.000e+00 2.000e+00 ... 9.997e+03 9.998e+03 9.999e+03]\n"
     ]
    },
    {
     "ename": "ValueError",
     "evalue": "Buffer has wrong number of dimensions (expected 2, got 1)",
     "output_type": "error",
     "traceback": [
      "\u001b[0;31m---------------------------------------------------------------------------\u001b[0m",
      "\u001b[0;31mValueError\u001b[0m                                Traceback (most recent call last)",
      "\u001b[0;32m<timed exec>\u001b[0m in \u001b[0;36m<module>\u001b[0;34m\u001b[0m\n",
      "\u001b[0;32m_cython_magic_51e64e8ab0a6d246cd1998f6575c6ecf.pyx\u001b[0m in \u001b[0;36m_cython_magic_51e64e8ab0a6d246cd1998f6575c6ecf.px3\u001b[0;34m()\u001b[0m\n",
      "\u001b[0;31mValueError\u001b[0m: Buffer has wrong number of dimensions (expected 2, got 1)"
     ]
    }
   ],
   "source": [
    "%%time\n",
    "import numpy as np\n",
    "a = np.arange(10000, dtype=float)\n",
    "print(a)\n",
    "px3(a)"
   ]
  },
  {
   "cell_type": "code",
   "execution_count": 58,
   "metadata": {},
   "outputs": [
    {
     "name": "stdout",
     "output_type": "stream",
     "text": [
      "[0.000e+00 1.000e+00 2.000e+00 ... 9.997e+03 9.998e+03 9.999e+03]\n",
      "CPU times: user 1.68 s, sys: 24 µs, total: 1.68 s\n",
      "Wall time: 1.67 s\n"
     ]
    },
    {
     "data": {
      "text/plain": [
       "<MemoryView of 'ndarray' at 0x7f47d7208540>"
      ]
     },
     "execution_count": 58,
     "metadata": {},
     "output_type": "execute_result"
    }
   ],
   "source": [
    "%%time\n",
    "import numpy as np\n",
    "a = np.arange(10000, dtype=float)\n",
    "print(a)\n",
    "x3(a)"
   ]
  },
  {
   "cell_type": "code",
   "execution_count": 59,
   "metadata": {},
   "outputs": [
    {
     "ename": "SyntaxError",
     "evalue": "invalid syntax (<ipython-input-59-3d8539c82216>, line 3)",
     "output_type": "error",
     "traceback": [
      "\u001b[0;36m  File \u001b[0;32m\"<ipython-input-59-3d8539c82216>\"\u001b[0;36m, line \u001b[0;32m3\u001b[0m\n\u001b[0;31m    cpdef c_elbow_continous(double[:, ::1] sorted_scores):\u001b[0m\n\u001b[0m        ^\u001b[0m\n\u001b[0;31mSyntaxError\u001b[0m\u001b[0;31m:\u001b[0m invalid syntax\n"
     ]
    }
   ],
   "source": []
  },
  {
   "cell_type": "markdown",
   "metadata": {},
   "source": [
    "## time"
   ]
  },
  {
   "cell_type": "code",
   "execution_count": 15,
   "metadata": {},
   "outputs": [],
   "source": [
    "# G = nx.duplication_divergence_graph(3000,0.7)"
   ]
  },
  {
   "cell_type": "code",
   "execution_count": 16,
   "metadata": {},
   "outputs": [],
   "source": [
    "# %timeit get_keywords(G)"
   ]
  },
  {
   "cell_type": "code",
   "execution_count": 17,
   "metadata": {},
   "outputs": [],
   "source": [
    "# %timeit c_get_keywords(G)"
   ]
  },
  {
   "cell_type": "markdown",
   "metadata": {},
   "source": [
    "## memory usage"
   ]
  },
  {
   "cell_type": "code",
   "execution_count": 18,
   "metadata": {
    "code_folding": []
   },
   "outputs": [],
   "source": [
    "# pip install memory_profiler"
   ]
  },
  {
   "cell_type": "code",
   "execution_count": 19,
   "metadata": {},
   "outputs": [],
   "source": [
    "# %load_ext memory_profiler"
   ]
  },
  {
   "cell_type": "code",
   "execution_count": 20,
   "metadata": {},
   "outputs": [],
   "source": [
    "# %memit get_keywords(g)"
   ]
  },
  {
   "cell_type": "code",
   "execution_count": 21,
   "metadata": {},
   "outputs": [],
   "source": [
    "# %memit c_get_keywords(g)"
   ]
  },
  {
   "cell_type": "markdown",
   "metadata": {},
   "source": [
    "# Profiler to prioritaze parts to cythonise"
   ]
  },
  {
   "cell_type": "code",
   "execution_count": 22,
   "metadata": {},
   "outputs": [],
   "source": [
    "# import cProfile\n",
    "# import re\n"
   ]
  },
  {
   "cell_type": "code",
   "execution_count": 23,
   "metadata": {},
   "outputs": [],
   "source": [
    "# cProfile.run('re.compile(\"foo|bar\")')"
   ]
  },
  {
   "cell_type": "code",
   "execution_count": null,
   "metadata": {},
   "outputs": [],
   "source": []
  }
 ],
 "metadata": {
  "kernelspec": {
   "display_name": "Python 3",
   "language": "python",
   "name": "python3"
  },
  "language_info": {
   "codemirror_mode": {
    "name": "ipython",
    "version": 3
   },
   "file_extension": ".py",
   "mimetype": "text/x-python",
   "name": "python",
   "nbconvert_exporter": "python",
   "pygments_lexer": "ipython3",
   "version": "3.7.3"
  },
  "toc": {
   "base_numbering": 1,
   "nav_menu": {},
   "number_sections": true,
   "sideBar": true,
   "skip_h1_title": false,
   "title_cell": "Table of Contents",
   "title_sidebar": "Contents",
   "toc_cell": false,
   "toc_position": {},
   "toc_section_display": true,
   "toc_window_display": false
  },
  "varInspector": {
   "cols": {
    "lenName": 16,
    "lenType": 16,
    "lenVar": 40
   },
   "kernels_config": {
    "python": {
     "delete_cmd_postfix": "",
     "delete_cmd_prefix": "del ",
     "library": "var_list.py",
     "varRefreshCmd": "print(var_dic_list())"
    },
    "r": {
     "delete_cmd_postfix": ") ",
     "delete_cmd_prefix": "rm(",
     "library": "var_list.r",
     "varRefreshCmd": "cat(var_dic_list()) "
    }
   },
   "types_to_exclude": [
    "module",
    "function",
    "builtin_function_or_method",
    "instance",
    "_Feature"
   ],
   "window_display": false
  }
 },
 "nbformat": 4,
 "nbformat_minor": 2
}
